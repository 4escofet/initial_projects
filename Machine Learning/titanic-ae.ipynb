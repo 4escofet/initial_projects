{
 "cells": [
  {
   "cell_type": "code",
   "execution_count": 1,
   "id": "df23c2ce",
   "metadata": {
    "_cell_guid": "b1076dfc-b9ad-4769-8c92-a6c4dae69d19",
    "_uuid": "8f2839f25d086af736a60e9eeb907d3b93b6e0e5",
    "execution": {
     "iopub.execute_input": "2021-10-17T14:47:41.789479Z",
     "iopub.status.busy": "2021-10-17T14:47:41.788290Z",
     "iopub.status.idle": "2021-10-17T14:47:43.161156Z",
     "shell.execute_reply": "2021-10-17T14:47:43.159587Z",
     "shell.execute_reply.started": "2021-10-17T14:19:44.293732Z"
    },
    "papermill": {
     "duration": 1.415412,
     "end_time": "2021-10-17T14:47:43.161370",
     "exception": false,
     "start_time": "2021-10-17T14:47:41.745958",
     "status": "completed"
    },
    "tags": []
   },
   "outputs": [
    {
     "name": "stdout",
     "output_type": "stream",
     "text": [
      "/kaggle/input/titanic/train.csv\n",
      "/kaggle/input/titanic/test.csv\n",
      "/kaggle/input/titanic/gender_submission.csv\n"
     ]
    }
   ],
   "source": [
    "import numpy as np \n",
    "import pandas as pd\n",
    "\n",
    "import os\n",
    "for dirname, _, filenames in os.walk('/kaggle/input'):\n",
    "    for filename in filenames:\n",
    "        print(os.path.join(dirname, filename))\n",
    "\n",
    "import seaborn as sns\n",
    "import matplotlib.pyplot as plt\n",
    "sns.set()\n",
    "my_formatter = \"{0:.2f}\" #Format to 2 decimal places.\n",
    "\n",
    "from sklearn import preprocessing\n",
    "from sklearn.tree import DecisionTreeClassifier\n",
    "from sklearn.metrics import accuracy_score\n",
    "from sklearn.neighbors import KNeighborsClassifier\n",
    "from sklearn.model_selection import train_test_split\n",
    "from sklearn.ensemble import RandomForestClassifier\n",
    "from sklearn.model_selection import cross_val_score\n",
    "from sklearn.model_selection import cross_validate"
   ]
  },
  {
   "cell_type": "markdown",
   "id": "d8f2ef92",
   "metadata": {
    "papermill": {
     "duration": 0.038554,
     "end_time": "2021-10-17T14:47:43.242478",
     "exception": false,
     "start_time": "2021-10-17T14:47:43.203924",
     "status": "completed"
    },
    "tags": []
   },
   "source": [
    "### Lot of ideas and procedures take it from MANAV SEHGAL"
   ]
  },
  {
   "cell_type": "code",
   "execution_count": 2,
   "id": "565d3a37",
   "metadata": {
    "execution": {
     "iopub.execute_input": "2021-10-17T14:47:43.327306Z",
     "iopub.status.busy": "2021-10-17T14:47:43.326272Z",
     "iopub.status.idle": "2021-10-17T14:47:43.354818Z",
     "shell.execute_reply": "2021-10-17T14:47:43.355409Z",
     "shell.execute_reply.started": "2021-10-17T14:19:45.738547Z"
    },
    "papermill": {
     "duration": 0.073921,
     "end_time": "2021-10-17T14:47:43.355588",
     "exception": false,
     "start_time": "2021-10-17T14:47:43.281667",
     "status": "completed"
    },
    "tags": []
   },
   "outputs": [],
   "source": [
    "df = pd.read_csv('/kaggle/input/titanic/train.csv') #data importation as DataFrame\n",
    "df_test = pd.read_csv('/kaggle/input/titanic/test.csv')\n",
    "test_sub = df_test.copy()"
   ]
  },
  {
   "cell_type": "code",
   "execution_count": 3,
   "id": "a0d4c854",
   "metadata": {
    "execution": {
     "iopub.execute_input": "2021-10-17T14:47:43.436810Z",
     "iopub.status.busy": "2021-10-17T14:47:43.436102Z",
     "iopub.status.idle": "2021-10-17T14:47:43.452327Z",
     "shell.execute_reply": "2021-10-17T14:47:43.451788Z",
     "shell.execute_reply.started": "2021-10-17T14:19:45.776570Z"
    },
    "papermill": {
     "duration": 0.058406,
     "end_time": "2021-10-17T14:47:43.452487",
     "exception": false,
     "start_time": "2021-10-17T14:47:43.394081",
     "status": "completed"
    },
    "tags": []
   },
   "outputs": [],
   "source": [
    "df = df.drop(['Ticket', 'Cabin'], axis=1)\n",
    "df_test = df_test.drop(['Ticket', 'Cabin'], axis=1)\n",
    "combine = [df, df_test]"
   ]
  },
  {
   "cell_type": "code",
   "execution_count": 4,
   "id": "eaa80a83",
   "metadata": {
    "execution": {
     "iopub.execute_input": "2021-10-17T14:47:43.533560Z",
     "iopub.status.busy": "2021-10-17T14:47:43.532511Z",
     "iopub.status.idle": "2021-10-17T14:47:43.545087Z",
     "shell.execute_reply": "2021-10-17T14:47:43.544416Z",
     "shell.execute_reply.started": "2021-10-17T14:19:45.798489Z"
    },
    "papermill": {
     "duration": 0.05422,
     "end_time": "2021-10-17T14:47:43.545235",
     "exception": false,
     "start_time": "2021-10-17T14:47:43.491015",
     "status": "completed"
    },
    "tags": []
   },
   "outputs": [
    {
     "data": {
      "text/plain": [
       "PassengerId      0\n",
       "Survived         0\n",
       "Pclass           0\n",
       "Name             0\n",
       "Sex              0\n",
       "Age            177\n",
       "SibSp            0\n",
       "Parch            0\n",
       "Fare             0\n",
       "Embarked         2\n",
       "dtype: int64"
      ]
     },
     "execution_count": 4,
     "metadata": {},
     "output_type": "execute_result"
    }
   ],
   "source": [
    "df.isna().sum()"
   ]
  },
  {
   "cell_type": "code",
   "execution_count": 5,
   "id": "1115d7bf",
   "metadata": {
    "execution": {
     "iopub.execute_input": "2021-10-17T14:47:43.631512Z",
     "iopub.status.busy": "2021-10-17T14:47:43.630777Z",
     "iopub.status.idle": "2021-10-17T14:47:43.635841Z",
     "shell.execute_reply": "2021-10-17T14:47:43.636334Z",
     "shell.execute_reply.started": "2021-10-17T14:19:45.817617Z"
    },
    "papermill": {
     "duration": 0.05344,
     "end_time": "2021-10-17T14:47:43.636534",
     "exception": false,
     "start_time": "2021-10-17T14:47:43.583094",
     "status": "completed"
    },
    "tags": []
   },
   "outputs": [
    {
     "data": {
      "text/plain": [
       "0    S\n",
       "dtype: object"
      ]
     },
     "execution_count": 5,
     "metadata": {},
     "output_type": "execute_result"
    }
   ],
   "source": [
    "mode = df.Embarked.mode()\n",
    "mode"
   ]
  },
  {
   "cell_type": "code",
   "execution_count": 6,
   "id": "0819c943",
   "metadata": {
    "execution": {
     "iopub.execute_input": "2021-10-17T14:47:43.721237Z",
     "iopub.status.busy": "2021-10-17T14:47:43.720382Z",
     "iopub.status.idle": "2021-10-17T14:47:43.724561Z",
     "shell.execute_reply": "2021-10-17T14:47:43.724028Z",
     "shell.execute_reply.started": "2021-10-17T14:19:45.834835Z"
    },
    "papermill": {
     "duration": 0.049036,
     "end_time": "2021-10-17T14:47:43.724720",
     "exception": false,
     "start_time": "2021-10-17T14:47:43.675684",
     "status": "completed"
    },
    "tags": []
   },
   "outputs": [
    {
     "data": {
      "text/plain": [
       "array(['S', 'C', 'Q', nan], dtype=object)"
      ]
     },
     "execution_count": 6,
     "metadata": {},
     "output_type": "execute_result"
    }
   ],
   "source": [
    "df.Embarked.unique()"
   ]
  },
  {
   "cell_type": "code",
   "execution_count": 7,
   "id": "79486f32",
   "metadata": {
    "execution": {
     "iopub.execute_input": "2021-10-17T14:47:43.809060Z",
     "iopub.status.busy": "2021-10-17T14:47:43.808027Z",
     "iopub.status.idle": "2021-10-17T14:47:43.830245Z",
     "shell.execute_reply": "2021-10-17T14:47:43.829549Z",
     "shell.execute_reply.started": "2021-10-17T14:19:45.847475Z"
    },
    "papermill": {
     "duration": 0.065658,
     "end_time": "2021-10-17T14:47:43.830387",
     "exception": false,
     "start_time": "2021-10-17T14:47:43.764729",
     "status": "completed"
    },
    "tags": []
   },
   "outputs": [
    {
     "data": {
      "text/html": [
       "<div>\n",
       "<style scoped>\n",
       "    .dataframe tbody tr th:only-of-type {\n",
       "        vertical-align: middle;\n",
       "    }\n",
       "\n",
       "    .dataframe tbody tr th {\n",
       "        vertical-align: top;\n",
       "    }\n",
       "\n",
       "    .dataframe thead th {\n",
       "        text-align: right;\n",
       "    }\n",
       "</style>\n",
       "<table border=\"1\" class=\"dataframe\">\n",
       "  <thead>\n",
       "    <tr style=\"text-align: right;\">\n",
       "      <th></th>\n",
       "      <th>Embarked</th>\n",
       "      <th>Survived</th>\n",
       "    </tr>\n",
       "  </thead>\n",
       "  <tbody>\n",
       "    <tr>\n",
       "      <th>0</th>\n",
       "      <td>C</td>\n",
       "      <td>0.553571</td>\n",
       "    </tr>\n",
       "    <tr>\n",
       "      <th>1</th>\n",
       "      <td>Q</td>\n",
       "      <td>0.389610</td>\n",
       "    </tr>\n",
       "    <tr>\n",
       "      <th>2</th>\n",
       "      <td>S</td>\n",
       "      <td>0.339009</td>\n",
       "    </tr>\n",
       "  </tbody>\n",
       "</table>\n",
       "</div>"
      ],
      "text/plain": [
       "  Embarked  Survived\n",
       "0        C  0.553571\n",
       "1        Q  0.389610\n",
       "2        S  0.339009"
      ]
     },
     "execution_count": 7,
     "metadata": {},
     "output_type": "execute_result"
    }
   ],
   "source": [
    "#Filling Embarked NAN values with mode()\n",
    "for dataset in combine:\n",
    "    dataset['Embarked'].fillna('S',inplace=True)\n",
    "df[['Embarked', 'Survived']].groupby(['Embarked'], as_index=False).mean().sort_values(by='Survived', ascending=False)"
   ]
  },
  {
   "cell_type": "code",
   "execution_count": 8,
   "id": "95192aea",
   "metadata": {
    "execution": {
     "iopub.execute_input": "2021-10-17T14:47:43.915016Z",
     "iopub.status.busy": "2021-10-17T14:47:43.913911Z",
     "iopub.status.idle": "2021-10-17T14:47:43.921733Z",
     "shell.execute_reply": "2021-10-17T14:47:43.922248Z",
     "shell.execute_reply.started": "2021-10-17T14:19:45.877677Z"
    },
    "papermill": {
     "duration": 0.052167,
     "end_time": "2021-10-17T14:47:43.922442",
     "exception": false,
     "start_time": "2021-10-17T14:47:43.870275",
     "status": "completed"
    },
    "tags": []
   },
   "outputs": [],
   "source": [
    "for dataset in combine:\n",
    "    dataset['Sex'] = dataset['Sex'].map( {'female': 1, 'male': 0} ).astype(int)"
   ]
  },
  {
   "cell_type": "code",
   "execution_count": 9,
   "id": "1434f0dd",
   "metadata": {
    "execution": {
     "iopub.execute_input": "2021-10-17T14:47:44.009199Z",
     "iopub.status.busy": "2021-10-17T14:47:44.007806Z",
     "iopub.status.idle": "2021-10-17T14:47:44.035680Z",
     "shell.execute_reply": "2021-10-17T14:47:44.034910Z",
     "shell.execute_reply.started": "2021-10-17T14:19:45.889762Z"
    },
    "papermill": {
     "duration": 0.073389,
     "end_time": "2021-10-17T14:47:44.035832",
     "exception": false,
     "start_time": "2021-10-17T14:47:43.962443",
     "status": "completed"
    },
    "tags": []
   },
   "outputs": [
    {
     "data": {
      "text/html": [
       "<div>\n",
       "<style scoped>\n",
       "    .dataframe tbody tr th:only-of-type {\n",
       "        vertical-align: middle;\n",
       "    }\n",
       "\n",
       "    .dataframe tbody tr th {\n",
       "        vertical-align: top;\n",
       "    }\n",
       "\n",
       "    .dataframe thead th {\n",
       "        text-align: right;\n",
       "    }\n",
       "</style>\n",
       "<table border=\"1\" class=\"dataframe\">\n",
       "  <thead>\n",
       "    <tr style=\"text-align: right;\">\n",
       "      <th></th>\n",
       "      <th>PassengerId</th>\n",
       "      <th>Survived</th>\n",
       "      <th>Pclass</th>\n",
       "      <th>Name</th>\n",
       "      <th>Sex</th>\n",
       "      <th>Age</th>\n",
       "      <th>SibSp</th>\n",
       "      <th>Parch</th>\n",
       "      <th>Fare</th>\n",
       "      <th>Embarked</th>\n",
       "    </tr>\n",
       "  </thead>\n",
       "  <tbody>\n",
       "    <tr>\n",
       "      <th>0</th>\n",
       "      <td>1</td>\n",
       "      <td>0</td>\n",
       "      <td>3</td>\n",
       "      <td>Braund, Mr. Owen Harris</td>\n",
       "      <td>0</td>\n",
       "      <td>2.0</td>\n",
       "      <td>1</td>\n",
       "      <td>0</td>\n",
       "      <td>7.2500</td>\n",
       "      <td>S</td>\n",
       "    </tr>\n",
       "    <tr>\n",
       "      <th>1</th>\n",
       "      <td>2</td>\n",
       "      <td>1</td>\n",
       "      <td>1</td>\n",
       "      <td>Cumings, Mrs. John Bradley (Florence Briggs Th...</td>\n",
       "      <td>1</td>\n",
       "      <td>3.0</td>\n",
       "      <td>1</td>\n",
       "      <td>0</td>\n",
       "      <td>71.2833</td>\n",
       "      <td>C</td>\n",
       "    </tr>\n",
       "    <tr>\n",
       "      <th>2</th>\n",
       "      <td>3</td>\n",
       "      <td>1</td>\n",
       "      <td>3</td>\n",
       "      <td>Heikkinen, Miss. Laina</td>\n",
       "      <td>1</td>\n",
       "      <td>2.0</td>\n",
       "      <td>0</td>\n",
       "      <td>0</td>\n",
       "      <td>7.9250</td>\n",
       "      <td>S</td>\n",
       "    </tr>\n",
       "    <tr>\n",
       "      <th>3</th>\n",
       "      <td>4</td>\n",
       "      <td>1</td>\n",
       "      <td>1</td>\n",
       "      <td>Futrelle, Mrs. Jacques Heath (Lily May Peel)</td>\n",
       "      <td>1</td>\n",
       "      <td>3.0</td>\n",
       "      <td>1</td>\n",
       "      <td>0</td>\n",
       "      <td>53.1000</td>\n",
       "      <td>S</td>\n",
       "    </tr>\n",
       "    <tr>\n",
       "      <th>4</th>\n",
       "      <td>5</td>\n",
       "      <td>0</td>\n",
       "      <td>3</td>\n",
       "      <td>Allen, Mr. William Henry</td>\n",
       "      <td>0</td>\n",
       "      <td>3.0</td>\n",
       "      <td>0</td>\n",
       "      <td>0</td>\n",
       "      <td>8.0500</td>\n",
       "      <td>S</td>\n",
       "    </tr>\n",
       "  </tbody>\n",
       "</table>\n",
       "</div>"
      ],
      "text/plain": [
       "   PassengerId  Survived  Pclass  \\\n",
       "0            1         0       3   \n",
       "1            2         1       1   \n",
       "2            3         1       3   \n",
       "3            4         1       1   \n",
       "4            5         0       3   \n",
       "\n",
       "                                                Name  Sex  Age  SibSp  Parch  \\\n",
       "0                            Braund, Mr. Owen Harris    0  2.0      1      0   \n",
       "1  Cumings, Mrs. John Bradley (Florence Briggs Th...    1  3.0      1      0   \n",
       "2                             Heikkinen, Miss. Laina    1  2.0      0      0   \n",
       "3       Futrelle, Mrs. Jacques Heath (Lily May Peel)    1  3.0      1      0   \n",
       "4                           Allen, Mr. William Henry    0  3.0      0      0   \n",
       "\n",
       "      Fare Embarked  \n",
       "0   7.2500        S  \n",
       "1  71.2833        C  \n",
       "2   7.9250        S  \n",
       "3  53.1000        S  \n",
       "4   8.0500        S  "
      ]
     },
     "execution_count": 9,
     "metadata": {},
     "output_type": "execute_result"
    }
   ],
   "source": [
    "for dataset in combine:\n",
    "    dataset.loc[ dataset['Age'] <= 10, 'Age'] = 0\n",
    "    dataset.loc[(dataset['Age'] > 10) & (dataset['Age'] <= 16), 'Age'] = 1\n",
    "    dataset.loc[(dataset['Age'] > 16) & (dataset['Age'] <= 32), 'Age'] = 2\n",
    "    dataset.loc[(dataset['Age'] > 32) & (dataset['Age'] <= 48), 'Age'] = 3\n",
    "    dataset.loc[(dataset['Age'] > 48) & (dataset['Age'] <= 64), 'Age'] = 4\n",
    "    dataset.loc[ dataset['Age'] > 64, 'Age'] = 5\n",
    "df.head()"
   ]
  },
  {
   "cell_type": "code",
   "execution_count": 10,
   "id": "55052629",
   "metadata": {
    "execution": {
     "iopub.execute_input": "2021-10-17T14:47:44.126551Z",
     "iopub.status.busy": "2021-10-17T14:47:44.125819Z",
     "iopub.status.idle": "2021-10-17T14:47:44.128803Z",
     "shell.execute_reply": "2021-10-17T14:47:44.129285Z",
     "shell.execute_reply.started": "2021-10-17T14:19:45.930897Z"
    },
    "papermill": {
     "duration": 0.05118,
     "end_time": "2021-10-17T14:47:44.129453",
     "exception": false,
     "start_time": "2021-10-17T14:47:44.078273",
     "status": "completed"
    },
    "tags": []
   },
   "outputs": [
    {
     "data": {
      "text/plain": [
       "array([ 2.,  3., nan,  4.,  0.,  1.,  5.])"
      ]
     },
     "execution_count": 10,
     "metadata": {},
     "output_type": "execute_result"
    }
   ],
   "source": [
    "df.Age.unique()"
   ]
  },
  {
   "cell_type": "markdown",
   "id": "93e1bbaf",
   "metadata": {
    "papermill": {
     "duration": 0.040622,
     "end_time": "2021-10-17T14:47:44.211060",
     "exception": false,
     "start_time": "2021-10-17T14:47:44.170438",
     "status": "completed"
    },
    "tags": []
   },
   "source": [
    "* Filling NAN values in Age feature with a Decision Tree Classifier "
   ]
  },
  {
   "cell_type": "code",
   "execution_count": 11,
   "id": "852e9327",
   "metadata": {
    "execution": {
     "iopub.execute_input": "2021-10-17T14:47:44.301732Z",
     "iopub.status.busy": "2021-10-17T14:47:44.294518Z",
     "iopub.status.idle": "2021-10-17T14:47:44.309404Z",
     "shell.execute_reply": "2021-10-17T14:47:44.308612Z",
     "shell.execute_reply.started": "2021-10-17T14:19:45.949977Z"
    },
    "papermill": {
     "duration": 0.0582,
     "end_time": "2021-10-17T14:47:44.309554",
     "exception": false,
     "start_time": "2021-10-17T14:47:44.251354",
     "status": "completed"
    },
    "tags": []
   },
   "outputs": [
    {
     "data": {
      "text/plain": [
       "((714, 5), (714,), (177, 5))"
      ]
     },
     "execution_count": 11,
     "metadata": {},
     "output_type": "execute_result"
    }
   ],
   "source": [
    "cond = df['Age'].isna() #Setting a variable with the condition of selection\n",
    "ageX_train = df[~(cond)].drop(['Age','PassengerId','Name','Embarked','Fare'],axis=1)\n",
    "ageY_train = df[~(cond)].Age\n",
    "ageX_test = df[(cond)].drop(['Age','PassengerId','Name','Embarked','Fare'],axis=1)\n",
    "ageX_train.shape,ageY_train.shape, ageX_test.shape"
   ]
  },
  {
   "cell_type": "code",
   "execution_count": 12,
   "id": "987987cd",
   "metadata": {
    "execution": {
     "iopub.execute_input": "2021-10-17T14:47:44.392558Z",
     "iopub.status.busy": "2021-10-17T14:47:44.391891Z",
     "iopub.status.idle": "2021-10-17T14:47:44.407465Z",
     "shell.execute_reply": "2021-10-17T14:47:44.406644Z",
     "shell.execute_reply.started": "2021-10-17T14:19:45.969637Z"
    },
    "papermill": {
     "duration": 0.058238,
     "end_time": "2021-10-17T14:47:44.407645",
     "exception": false,
     "start_time": "2021-10-17T14:47:44.349407",
     "status": "completed"
    },
    "tags": []
   },
   "outputs": [
    {
     "data": {
      "text/plain": [
       "61.2"
      ]
     },
     "execution_count": 12,
     "metadata": {},
     "output_type": "execute_result"
    }
   ],
   "source": [
    "decision_tree = DecisionTreeClassifier(max_depth = 8)\n",
    "decision_tree.fit(ageX_train, ageY_train)\n",
    "Y_pred = decision_tree.predict(ageX_test)\n",
    "acc_decision_tree = round(decision_tree.score(ageX_train, ageY_train) * 100, 2)\n",
    "acc_decision_tree"
   ]
  },
  {
   "cell_type": "code",
   "execution_count": 13,
   "id": "4227bc06",
   "metadata": {
    "execution": {
     "iopub.execute_input": "2021-10-17T14:47:44.507513Z",
     "iopub.status.busy": "2021-10-17T14:47:44.506722Z",
     "iopub.status.idle": "2021-10-17T14:47:44.575172Z",
     "shell.execute_reply": "2021-10-17T14:47:44.574589Z",
     "shell.execute_reply.started": "2021-10-17T14:19:45.994115Z"
    },
    "papermill": {
     "duration": 0.121796,
     "end_time": "2021-10-17T14:47:44.575331",
     "exception": false,
     "start_time": "2021-10-17T14:47:44.453535",
     "status": "completed"
    },
    "tags": []
   },
   "outputs": [
    {
     "name": "stderr",
     "output_type": "stream",
     "text": [
      "/opt/conda/lib/python3.7/site-packages/pandas/core/indexing.py:1732: SettingWithCopyWarning: \n",
      "A value is trying to be set on a copy of a slice from a DataFrame\n",
      "\n",
      "See the caveats in the documentation: https://pandas.pydata.org/pandas-docs/stable/user_guide/indexing.html#returning-a-view-versus-a-copy\n",
      "  self._setitem_single_block(indexer, value, name)\n"
     ]
    }
   ],
   "source": [
    "rows = df[(cond)].Age.index\n",
    "a=0\n",
    "for elemento in rows:\n",
    "    df.Age.loc[elemento] = Y_pred[a]\n",
    "    a = a + 1"
   ]
  },
  {
   "cell_type": "code",
   "execution_count": 14,
   "id": "45c5c781",
   "metadata": {
    "execution": {
     "iopub.execute_input": "2021-10-17T14:47:44.665322Z",
     "iopub.status.busy": "2021-10-17T14:47:44.664521Z",
     "iopub.status.idle": "2021-10-17T14:47:44.669776Z",
     "shell.execute_reply": "2021-10-17T14:47:44.670237Z",
     "shell.execute_reply.started": "2021-10-17T14:19:46.075598Z"
    },
    "papermill": {
     "duration": 0.053135,
     "end_time": "2021-10-17T14:47:44.670415",
     "exception": false,
     "start_time": "2021-10-17T14:47:44.617280",
     "status": "completed"
    },
    "tags": []
   },
   "outputs": [
    {
     "data": {
      "text/plain": [
       "array([2., 3., 4., 0., 1., 5.])"
      ]
     },
     "execution_count": 14,
     "metadata": {},
     "output_type": "execute_result"
    }
   ],
   "source": [
    "df.Age.unique()"
   ]
  },
  {
   "cell_type": "markdown",
   "id": "d89afb89",
   "metadata": {
    "papermill": {
     "duration": 0.042303,
     "end_time": "2021-10-17T14:47:44.755331",
     "exception": false,
     "start_time": "2021-10-17T14:47:44.713028",
     "status": "completed"
    },
    "tags": []
   },
   "source": [
    "* Filling NAN values test data"
   ]
  },
  {
   "cell_type": "code",
   "execution_count": 15,
   "id": "cb537df2",
   "metadata": {
    "execution": {
     "iopub.execute_input": "2021-10-17T14:47:44.847864Z",
     "iopub.status.busy": "2021-10-17T14:47:44.847152Z",
     "iopub.status.idle": "2021-10-17T14:47:44.848444Z",
     "shell.execute_reply": "2021-10-17T14:47:44.849145Z",
     "shell.execute_reply.started": "2021-10-17T14:19:46.086070Z"
    },
    "papermill": {
     "duration": 0.051399,
     "end_time": "2021-10-17T14:47:44.849337",
     "exception": false,
     "start_time": "2021-10-17T14:47:44.797938",
     "status": "completed"
    },
    "tags": []
   },
   "outputs": [],
   "source": [
    "df_test.Fare.fillna(df_test.Fare.mean(),inplace=True)"
   ]
  },
  {
   "cell_type": "code",
   "execution_count": 16,
   "id": "5247562c",
   "metadata": {
    "execution": {
     "iopub.execute_input": "2021-10-17T14:47:44.940130Z",
     "iopub.status.busy": "2021-10-17T14:47:44.939381Z",
     "iopub.status.idle": "2021-10-17T14:47:44.950229Z",
     "shell.execute_reply": "2021-10-17T14:47:44.950885Z",
     "shell.execute_reply.started": "2021-10-17T14:19:46.099065Z"
    },
    "papermill": {
     "duration": 0.057895,
     "end_time": "2021-10-17T14:47:44.951082",
     "exception": false,
     "start_time": "2021-10-17T14:47:44.893187",
     "status": "completed"
    },
    "tags": []
   },
   "outputs": [
    {
     "data": {
      "text/plain": [
       "((332, 4), (332,), (86, 4))"
      ]
     },
     "execution_count": 16,
     "metadata": {},
     "output_type": "execute_result"
    }
   ],
   "source": [
    "cond = df_test['Age'].isna()\n",
    "ageX_train = df_test[~(cond)].drop(['Age','PassengerId','Name','Embarked','Fare'],axis=1)\n",
    "ageY_train = df_test[~(cond)].Age\n",
    "ageX_test = df_test[(cond)].drop(['Age','PassengerId','Name','Embarked','Fare'],axis=1)\n",
    "ageX_train.shape,ageY_train.shape, ageX_test.shape"
   ]
  },
  {
   "cell_type": "code",
   "execution_count": 17,
   "id": "5de0dd52",
   "metadata": {
    "execution": {
     "iopub.execute_input": "2021-10-17T14:47:45.045842Z",
     "iopub.status.busy": "2021-10-17T14:47:45.041885Z",
     "iopub.status.idle": "2021-10-17T14:47:45.055057Z",
     "shell.execute_reply": "2021-10-17T14:47:45.054477Z",
     "shell.execute_reply.started": "2021-10-17T14:19:46.120646Z"
    },
    "papermill": {
     "duration": 0.061053,
     "end_time": "2021-10-17T14:47:45.055202",
     "exception": false,
     "start_time": "2021-10-17T14:47:44.994149",
     "status": "completed"
    },
    "tags": []
   },
   "outputs": [
    {
     "data": {
      "text/plain": [
       "68.37"
      ]
     },
     "execution_count": 17,
     "metadata": {},
     "output_type": "execute_result"
    }
   ],
   "source": [
    "decision_tree = DecisionTreeClassifier()\n",
    "decision_tree.fit(ageX_train, ageY_train)\n",
    "Y_pred = decision_tree.predict(ageX_test)\n",
    "acc_decision_tree = round(decision_tree.score(ageX_train, ageY_train) * 100, 2)\n",
    "acc_decision_tree"
   ]
  },
  {
   "cell_type": "code",
   "execution_count": 18,
   "id": "156db975",
   "metadata": {
    "execution": {
     "iopub.execute_input": "2021-10-17T14:47:45.174454Z",
     "iopub.status.busy": "2021-10-17T14:47:45.171075Z",
     "iopub.status.idle": "2021-10-17T14:47:45.183879Z",
     "shell.execute_reply": "2021-10-17T14:47:45.184373Z",
     "shell.execute_reply.started": "2021-10-17T14:19:46.142862Z"
    },
    "papermill": {
     "duration": 0.086847,
     "end_time": "2021-10-17T14:47:45.184555",
     "exception": false,
     "start_time": "2021-10-17T14:47:45.097708",
     "status": "completed"
    },
    "tags": []
   },
   "outputs": [
    {
     "name": "stderr",
     "output_type": "stream",
     "text": [
      "/opt/conda/lib/python3.7/site-packages/pandas/core/indexing.py:1732: SettingWithCopyWarning: \n",
      "A value is trying to be set on a copy of a slice from a DataFrame\n",
      "\n",
      "See the caveats in the documentation: https://pandas.pydata.org/pandas-docs/stable/user_guide/indexing.html#returning-a-view-versus-a-copy\n",
      "  self._setitem_single_block(indexer, value, name)\n"
     ]
    }
   ],
   "source": [
    "rows = df_test[(cond)].Age.index\n",
    "a=0\n",
    "for elemento in rows:\n",
    "    df_test.Age.loc[elemento] = Y_pred[a]\n",
    "    a = a + 1"
   ]
  },
  {
   "cell_type": "code",
   "execution_count": 19,
   "id": "1a86002f",
   "metadata": {
    "execution": {
     "iopub.execute_input": "2021-10-17T14:47:45.274722Z",
     "iopub.status.busy": "2021-10-17T14:47:45.274069Z",
     "iopub.status.idle": "2021-10-17T14:47:45.280205Z",
     "shell.execute_reply": "2021-10-17T14:47:45.280660Z",
     "shell.execute_reply.started": "2021-10-17T14:19:46.189455Z"
    },
    "papermill": {
     "duration": 0.052734,
     "end_time": "2021-10-17T14:47:45.280889",
     "exception": false,
     "start_time": "2021-10-17T14:47:45.228155",
     "status": "completed"
    },
    "tags": []
   },
   "outputs": [
    {
     "data": {
      "text/plain": [
       "(array([2., 3., 4., 0., 1., 5.]), array([3., 4., 2., 1., 0., 5.]))"
      ]
     },
     "execution_count": 19,
     "metadata": {},
     "output_type": "execute_result"
    }
   ],
   "source": [
    "df.Age.unique(),df_test.Age.unique()"
   ]
  },
  {
   "cell_type": "code",
   "execution_count": 20,
   "id": "ec56c538",
   "metadata": {
    "execution": {
     "iopub.execute_input": "2021-10-17T14:47:45.374706Z",
     "iopub.status.busy": "2021-10-17T14:47:45.374042Z",
     "iopub.status.idle": "2021-10-17T14:47:45.376530Z",
     "shell.execute_reply": "2021-10-17T14:47:45.377073Z",
     "shell.execute_reply.started": "2021-10-17T14:19:46.200818Z"
    },
    "papermill": {
     "duration": 0.050524,
     "end_time": "2021-10-17T14:47:45.377252",
     "exception": false,
     "start_time": "2021-10-17T14:47:45.326728",
     "status": "completed"
    },
    "tags": []
   },
   "outputs": [],
   "source": [
    "#df.describe()\n",
    "#df.head()\n",
    "#df.shape\n",
    "#df.isna().sum()\n",
    "#df_test.isna().sum()"
   ]
  },
  {
   "cell_type": "code",
   "execution_count": 21,
   "id": "81ad437d",
   "metadata": {
    "execution": {
     "iopub.execute_input": "2021-10-17T14:47:45.468949Z",
     "iopub.status.busy": "2021-10-17T14:47:45.468209Z",
     "iopub.status.idle": "2021-10-17T14:47:45.481580Z",
     "shell.execute_reply": "2021-10-17T14:47:45.481046Z",
     "shell.execute_reply.started": "2021-10-17T14:19:46.211420Z"
    },
    "papermill": {
     "duration": 0.059997,
     "end_time": "2021-10-17T14:47:45.481737",
     "exception": false,
     "start_time": "2021-10-17T14:47:45.421740",
     "status": "completed"
    },
    "tags": []
   },
   "outputs": [
    {
     "data": {
      "text/html": [
       "<div>\n",
       "<style scoped>\n",
       "    .dataframe tbody tr th:only-of-type {\n",
       "        vertical-align: middle;\n",
       "    }\n",
       "\n",
       "    .dataframe tbody tr th {\n",
       "        vertical-align: top;\n",
       "    }\n",
       "\n",
       "    .dataframe thead th {\n",
       "        text-align: right;\n",
       "    }\n",
       "</style>\n",
       "<table border=\"1\" class=\"dataframe\">\n",
       "  <thead>\n",
       "    <tr style=\"text-align: right;\">\n",
       "      <th></th>\n",
       "      <th>Sex</th>\n",
       "      <th>Survived</th>\n",
       "    </tr>\n",
       "  </thead>\n",
       "  <tbody>\n",
       "    <tr>\n",
       "      <th>1</th>\n",
       "      <td>1</td>\n",
       "      <td>0.742038</td>\n",
       "    </tr>\n",
       "    <tr>\n",
       "      <th>0</th>\n",
       "      <td>0</td>\n",
       "      <td>0.188908</td>\n",
       "    </tr>\n",
       "  </tbody>\n",
       "</table>\n",
       "</div>"
      ],
      "text/plain": [
       "   Sex  Survived\n",
       "1    1  0.742038\n",
       "0    0  0.188908"
      ]
     },
     "execution_count": 21,
     "metadata": {},
     "output_type": "execute_result"
    }
   ],
   "source": [
    "df[[\"Sex\", \"Survived\"]].groupby(['Sex'], as_index=False).mean().sort_values(by='Survived', ascending=False)"
   ]
  },
  {
   "cell_type": "code",
   "execution_count": 22,
   "id": "bd0e8f17",
   "metadata": {
    "execution": {
     "iopub.execute_input": "2021-10-17T14:47:45.577146Z",
     "iopub.status.busy": "2021-10-17T14:47:45.576196Z",
     "iopub.status.idle": "2021-10-17T14:47:45.587776Z",
     "shell.execute_reply": "2021-10-17T14:47:45.586868Z",
     "shell.execute_reply.started": "2021-10-17T14:19:46.234230Z"
    },
    "papermill": {
     "duration": 0.06291,
     "end_time": "2021-10-17T14:47:45.587942",
     "exception": false,
     "start_time": "2021-10-17T14:47:45.525032",
     "status": "completed"
    },
    "tags": []
   },
   "outputs": [
    {
     "data": {
      "text/html": [
       "<div>\n",
       "<style scoped>\n",
       "    .dataframe tbody tr th:only-of-type {\n",
       "        vertical-align: middle;\n",
       "    }\n",
       "\n",
       "    .dataframe tbody tr th {\n",
       "        vertical-align: top;\n",
       "    }\n",
       "\n",
       "    .dataframe thead th {\n",
       "        text-align: right;\n",
       "    }\n",
       "</style>\n",
       "<table border=\"1\" class=\"dataframe\">\n",
       "  <thead>\n",
       "    <tr style=\"text-align: right;\">\n",
       "      <th></th>\n",
       "      <th>SibSp</th>\n",
       "      <th>Survived</th>\n",
       "    </tr>\n",
       "  </thead>\n",
       "  <tbody>\n",
       "    <tr>\n",
       "      <th>1</th>\n",
       "      <td>1</td>\n",
       "      <td>0.535885</td>\n",
       "    </tr>\n",
       "    <tr>\n",
       "      <th>2</th>\n",
       "      <td>2</td>\n",
       "      <td>0.464286</td>\n",
       "    </tr>\n",
       "    <tr>\n",
       "      <th>0</th>\n",
       "      <td>0</td>\n",
       "      <td>0.345395</td>\n",
       "    </tr>\n",
       "    <tr>\n",
       "      <th>3</th>\n",
       "      <td>3</td>\n",
       "      <td>0.250000</td>\n",
       "    </tr>\n",
       "    <tr>\n",
       "      <th>4</th>\n",
       "      <td>4</td>\n",
       "      <td>0.166667</td>\n",
       "    </tr>\n",
       "    <tr>\n",
       "      <th>5</th>\n",
       "      <td>5</td>\n",
       "      <td>0.000000</td>\n",
       "    </tr>\n",
       "    <tr>\n",
       "      <th>6</th>\n",
       "      <td>8</td>\n",
       "      <td>0.000000</td>\n",
       "    </tr>\n",
       "  </tbody>\n",
       "</table>\n",
       "</div>"
      ],
      "text/plain": [
       "   SibSp  Survived\n",
       "1      1  0.535885\n",
       "2      2  0.464286\n",
       "0      0  0.345395\n",
       "3      3  0.250000\n",
       "4      4  0.166667\n",
       "5      5  0.000000\n",
       "6      8  0.000000"
      ]
     },
     "execution_count": 22,
     "metadata": {},
     "output_type": "execute_result"
    }
   ],
   "source": [
    "df[[\"SibSp\", \"Survived\"]].groupby(['SibSp'], as_index=False).mean().sort_values(by='Survived', ascending=False)"
   ]
  },
  {
   "cell_type": "code",
   "execution_count": 23,
   "id": "18836451",
   "metadata": {
    "execution": {
     "iopub.execute_input": "2021-10-17T14:47:45.690526Z",
     "iopub.status.busy": "2021-10-17T14:47:45.689802Z",
     "iopub.status.idle": "2021-10-17T14:47:45.715439Z",
     "shell.execute_reply": "2021-10-17T14:47:45.716027Z",
     "shell.execute_reply.started": "2021-10-17T14:19:46.262364Z"
    },
    "papermill": {
     "duration": 0.083129,
     "end_time": "2021-10-17T14:47:45.716209",
     "exception": false,
     "start_time": "2021-10-17T14:47:45.633080",
     "status": "completed"
    },
    "tags": []
   },
   "outputs": [
    {
     "data": {
      "text/html": [
       "<div>\n",
       "<style scoped>\n",
       "    .dataframe tbody tr th:only-of-type {\n",
       "        vertical-align: middle;\n",
       "    }\n",
       "\n",
       "    .dataframe tbody tr th {\n",
       "        vertical-align: top;\n",
       "    }\n",
       "\n",
       "    .dataframe thead th {\n",
       "        text-align: right;\n",
       "    }\n",
       "</style>\n",
       "<table border=\"1\" class=\"dataframe\">\n",
       "  <thead>\n",
       "    <tr style=\"text-align: right;\">\n",
       "      <th>Sex</th>\n",
       "      <th>0</th>\n",
       "      <th>1</th>\n",
       "    </tr>\n",
       "    <tr>\n",
       "      <th>Title</th>\n",
       "      <th></th>\n",
       "      <th></th>\n",
       "    </tr>\n",
       "  </thead>\n",
       "  <tbody>\n",
       "    <tr>\n",
       "      <th>Capt</th>\n",
       "      <td>1</td>\n",
       "      <td>0</td>\n",
       "    </tr>\n",
       "    <tr>\n",
       "      <th>Col</th>\n",
       "      <td>2</td>\n",
       "      <td>0</td>\n",
       "    </tr>\n",
       "    <tr>\n",
       "      <th>Countess</th>\n",
       "      <td>0</td>\n",
       "      <td>1</td>\n",
       "    </tr>\n",
       "    <tr>\n",
       "      <th>Don</th>\n",
       "      <td>1</td>\n",
       "      <td>0</td>\n",
       "    </tr>\n",
       "    <tr>\n",
       "      <th>Dr</th>\n",
       "      <td>6</td>\n",
       "      <td>1</td>\n",
       "    </tr>\n",
       "    <tr>\n",
       "      <th>Jonkheer</th>\n",
       "      <td>1</td>\n",
       "      <td>0</td>\n",
       "    </tr>\n",
       "    <tr>\n",
       "      <th>Lady</th>\n",
       "      <td>0</td>\n",
       "      <td>1</td>\n",
       "    </tr>\n",
       "    <tr>\n",
       "      <th>Major</th>\n",
       "      <td>2</td>\n",
       "      <td>0</td>\n",
       "    </tr>\n",
       "    <tr>\n",
       "      <th>Master</th>\n",
       "      <td>40</td>\n",
       "      <td>0</td>\n",
       "    </tr>\n",
       "    <tr>\n",
       "      <th>Miss</th>\n",
       "      <td>0</td>\n",
       "      <td>182</td>\n",
       "    </tr>\n",
       "    <tr>\n",
       "      <th>Mlle</th>\n",
       "      <td>0</td>\n",
       "      <td>2</td>\n",
       "    </tr>\n",
       "    <tr>\n",
       "      <th>Mme</th>\n",
       "      <td>0</td>\n",
       "      <td>1</td>\n",
       "    </tr>\n",
       "    <tr>\n",
       "      <th>Mr</th>\n",
       "      <td>517</td>\n",
       "      <td>0</td>\n",
       "    </tr>\n",
       "    <tr>\n",
       "      <th>Mrs</th>\n",
       "      <td>0</td>\n",
       "      <td>125</td>\n",
       "    </tr>\n",
       "    <tr>\n",
       "      <th>Ms</th>\n",
       "      <td>0</td>\n",
       "      <td>1</td>\n",
       "    </tr>\n",
       "    <tr>\n",
       "      <th>Rev</th>\n",
       "      <td>6</td>\n",
       "      <td>0</td>\n",
       "    </tr>\n",
       "    <tr>\n",
       "      <th>Sir</th>\n",
       "      <td>1</td>\n",
       "      <td>0</td>\n",
       "    </tr>\n",
       "  </tbody>\n",
       "</table>\n",
       "</div>"
      ],
      "text/plain": [
       "Sex         0    1\n",
       "Title             \n",
       "Capt        1    0\n",
       "Col         2    0\n",
       "Countess    0    1\n",
       "Don         1    0\n",
       "Dr          6    1\n",
       "Jonkheer    1    0\n",
       "Lady        0    1\n",
       "Major       2    0\n",
       "Master     40    0\n",
       "Miss        0  182\n",
       "Mlle        0    2\n",
       "Mme         0    1\n",
       "Mr        517    0\n",
       "Mrs         0  125\n",
       "Ms          0    1\n",
       "Rev         6    0\n",
       "Sir         1    0"
      ]
     },
     "execution_count": 23,
     "metadata": {},
     "output_type": "execute_result"
    }
   ],
   "source": [
    "for dataset in combine:\n",
    "    dataset['Title'] = dataset.Name.str.extract(' ([A-Za-z]+)\\.', expand=False)\n",
    "\n",
    "pd.crosstab(df['Title'], df['Sex'])"
   ]
  },
  {
   "cell_type": "code",
   "execution_count": 24,
   "id": "c2821b29",
   "metadata": {
    "execution": {
     "iopub.execute_input": "2021-10-17T14:47:45.831413Z",
     "iopub.status.busy": "2021-10-17T14:47:45.825093Z",
     "iopub.status.idle": "2021-10-17T14:47:45.834348Z",
     "shell.execute_reply": "2021-10-17T14:47:45.835002Z",
     "shell.execute_reply.started": "2021-10-17T14:19:46.307439Z"
    },
    "papermill": {
     "duration": 0.073087,
     "end_time": "2021-10-17T14:47:45.835181",
     "exception": false,
     "start_time": "2021-10-17T14:47:45.762094",
     "status": "completed"
    },
    "tags": []
   },
   "outputs": [
    {
     "data": {
      "text/html": [
       "<div>\n",
       "<style scoped>\n",
       "    .dataframe tbody tr th:only-of-type {\n",
       "        vertical-align: middle;\n",
       "    }\n",
       "\n",
       "    .dataframe tbody tr th {\n",
       "        vertical-align: top;\n",
       "    }\n",
       "\n",
       "    .dataframe thead th {\n",
       "        text-align: right;\n",
       "    }\n",
       "</style>\n",
       "<table border=\"1\" class=\"dataframe\">\n",
       "  <thead>\n",
       "    <tr style=\"text-align: right;\">\n",
       "      <th></th>\n",
       "      <th>Title</th>\n",
       "      <th>Survived</th>\n",
       "    </tr>\n",
       "  </thead>\n",
       "  <tbody>\n",
       "    <tr>\n",
       "      <th>0</th>\n",
       "      <td>Master</td>\n",
       "      <td>0.575000</td>\n",
       "    </tr>\n",
       "    <tr>\n",
       "      <th>1</th>\n",
       "      <td>Miss</td>\n",
       "      <td>0.702703</td>\n",
       "    </tr>\n",
       "    <tr>\n",
       "      <th>2</th>\n",
       "      <td>Mr</td>\n",
       "      <td>0.156673</td>\n",
       "    </tr>\n",
       "    <tr>\n",
       "      <th>3</th>\n",
       "      <td>Mrs</td>\n",
       "      <td>0.793651</td>\n",
       "    </tr>\n",
       "    <tr>\n",
       "      <th>4</th>\n",
       "      <td>Rare</td>\n",
       "      <td>0.347826</td>\n",
       "    </tr>\n",
       "  </tbody>\n",
       "</table>\n",
       "</div>"
      ],
      "text/plain": [
       "    Title  Survived\n",
       "0  Master  0.575000\n",
       "1    Miss  0.702703\n",
       "2      Mr  0.156673\n",
       "3     Mrs  0.793651\n",
       "4    Rare  0.347826"
      ]
     },
     "execution_count": 24,
     "metadata": {},
     "output_type": "execute_result"
    }
   ],
   "source": [
    "for dataset in combine:\n",
    "    dataset['Title'] = dataset['Title'].replace(['Lady', 'Countess','Capt', 'Col',\\\n",
    " \t'Don', 'Dr', 'Major', 'Rev', 'Sir', 'Jonkheer', 'Dona'], 'Rare')\n",
    "\n",
    "    dataset['Title'] = dataset['Title'].replace('Mlle', 'Miss')\n",
    "    dataset['Title'] = dataset['Title'].replace('Ms', 'Miss')\n",
    "    dataset['Title'] = dataset['Title'].replace('Mme', 'Mrs')\n",
    "    \n",
    "df[['Title', 'Survived']].groupby(['Title'], as_index=False).mean()"
   ]
  },
  {
   "cell_type": "code",
   "execution_count": 25,
   "id": "557fb6f2",
   "metadata": {
    "execution": {
     "iopub.execute_input": "2021-10-17T14:47:45.929665Z",
     "iopub.status.busy": "2021-10-17T14:47:45.928940Z",
     "iopub.status.idle": "2021-10-17T14:47:45.948119Z",
     "shell.execute_reply": "2021-10-17T14:47:45.948669Z",
     "shell.execute_reply.started": "2021-10-17T14:19:46.336229Z"
    },
    "papermill": {
     "duration": 0.068945,
     "end_time": "2021-10-17T14:47:45.948926",
     "exception": false,
     "start_time": "2021-10-17T14:47:45.879981",
     "status": "completed"
    },
    "tags": []
   },
   "outputs": [
    {
     "data": {
      "text/html": [
       "<div>\n",
       "<style scoped>\n",
       "    .dataframe tbody tr th:only-of-type {\n",
       "        vertical-align: middle;\n",
       "    }\n",
       "\n",
       "    .dataframe tbody tr th {\n",
       "        vertical-align: top;\n",
       "    }\n",
       "\n",
       "    .dataframe thead th {\n",
       "        text-align: right;\n",
       "    }\n",
       "</style>\n",
       "<table border=\"1\" class=\"dataframe\">\n",
       "  <thead>\n",
       "    <tr style=\"text-align: right;\">\n",
       "      <th></th>\n",
       "      <th>PassengerId</th>\n",
       "      <th>Survived</th>\n",
       "      <th>Pclass</th>\n",
       "      <th>Name</th>\n",
       "      <th>Sex</th>\n",
       "      <th>Age</th>\n",
       "      <th>SibSp</th>\n",
       "      <th>Parch</th>\n",
       "      <th>Fare</th>\n",
       "      <th>Embarked</th>\n",
       "      <th>Title</th>\n",
       "    </tr>\n",
       "  </thead>\n",
       "  <tbody>\n",
       "    <tr>\n",
       "      <th>0</th>\n",
       "      <td>1</td>\n",
       "      <td>0</td>\n",
       "      <td>3</td>\n",
       "      <td>Braund, Mr. Owen Harris</td>\n",
       "      <td>0</td>\n",
       "      <td>2.0</td>\n",
       "      <td>1</td>\n",
       "      <td>0</td>\n",
       "      <td>7.2500</td>\n",
       "      <td>S</td>\n",
       "      <td>1</td>\n",
       "    </tr>\n",
       "    <tr>\n",
       "      <th>1</th>\n",
       "      <td>2</td>\n",
       "      <td>1</td>\n",
       "      <td>1</td>\n",
       "      <td>Cumings, Mrs. John Bradley (Florence Briggs Th...</td>\n",
       "      <td>1</td>\n",
       "      <td>3.0</td>\n",
       "      <td>1</td>\n",
       "      <td>0</td>\n",
       "      <td>71.2833</td>\n",
       "      <td>C</td>\n",
       "      <td>3</td>\n",
       "    </tr>\n",
       "  </tbody>\n",
       "</table>\n",
       "</div>"
      ],
      "text/plain": [
       "   PassengerId  Survived  Pclass  \\\n",
       "0            1         0       3   \n",
       "1            2         1       1   \n",
       "\n",
       "                                                Name  Sex  Age  SibSp  Parch  \\\n",
       "0                            Braund, Mr. Owen Harris    0  2.0      1      0   \n",
       "1  Cumings, Mrs. John Bradley (Florence Briggs Th...    1  3.0      1      0   \n",
       "\n",
       "      Fare Embarked  Title  \n",
       "0   7.2500        S      1  \n",
       "1  71.2833        C      3  "
      ]
     },
     "execution_count": 25,
     "metadata": {},
     "output_type": "execute_result"
    }
   ],
   "source": [
    "title_mapping = {\"Mr\": 1, \"Miss\": 2, \"Mrs\": 3, \"Master\": 4, \"Rare\": 5}\n",
    "for dataset in combine:\n",
    "    dataset['Title'] = dataset['Title'].map(title_mapping)\n",
    "    dataset['Title'] = dataset['Title'].fillna(0)\n",
    "\n",
    "df.head(2)"
   ]
  },
  {
   "cell_type": "code",
   "execution_count": 26,
   "id": "f674ed08",
   "metadata": {
    "execution": {
     "iopub.execute_input": "2021-10-17T14:47:46.046346Z",
     "iopub.status.busy": "2021-10-17T14:47:46.045659Z",
     "iopub.status.idle": "2021-10-17T14:47:46.055114Z",
     "shell.execute_reply": "2021-10-17T14:47:46.055709Z",
     "shell.execute_reply.started": "2021-10-17T14:19:46.361618Z"
    },
    "papermill": {
     "duration": 0.059888,
     "end_time": "2021-10-17T14:47:46.055899",
     "exception": false,
     "start_time": "2021-10-17T14:47:45.996011",
     "status": "completed"
    },
    "tags": []
   },
   "outputs": [
    {
     "data": {
      "text/plain": [
       "((891, 9), (418, 9))"
      ]
     },
     "execution_count": 26,
     "metadata": {},
     "output_type": "execute_result"
    }
   ],
   "source": [
    "df = df.drop(['Name', 'PassengerId'], axis=1)\n",
    "df_test = df_test.drop(['Name'], axis=1)\n",
    "combine = [df, df_test]\n",
    "df.shape, df_test.shape"
   ]
  },
  {
   "cell_type": "code",
   "execution_count": 27,
   "id": "64a51b9b",
   "metadata": {
    "execution": {
     "iopub.execute_input": "2021-10-17T14:47:46.158132Z",
     "iopub.status.busy": "2021-10-17T14:47:46.157294Z",
     "iopub.status.idle": "2021-10-17T14:47:46.174093Z",
     "shell.execute_reply": "2021-10-17T14:47:46.173400Z",
     "shell.execute_reply.started": "2021-10-17T14:19:46.374002Z"
    },
    "papermill": {
     "duration": 0.071341,
     "end_time": "2021-10-17T14:47:46.174255",
     "exception": false,
     "start_time": "2021-10-17T14:47:46.102914",
     "status": "completed"
    },
    "tags": []
   },
   "outputs": [
    {
     "data": {
      "text/html": [
       "<div>\n",
       "<style scoped>\n",
       "    .dataframe tbody tr th:only-of-type {\n",
       "        vertical-align: middle;\n",
       "    }\n",
       "\n",
       "    .dataframe tbody tr th {\n",
       "        vertical-align: top;\n",
       "    }\n",
       "\n",
       "    .dataframe thead th {\n",
       "        text-align: right;\n",
       "    }\n",
       "</style>\n",
       "<table border=\"1\" class=\"dataframe\">\n",
       "  <thead>\n",
       "    <tr style=\"text-align: right;\">\n",
       "      <th></th>\n",
       "      <th>FamilySize</th>\n",
       "      <th>Survived</th>\n",
       "    </tr>\n",
       "  </thead>\n",
       "  <tbody>\n",
       "    <tr>\n",
       "      <th>3</th>\n",
       "      <td>4</td>\n",
       "      <td>0.724138</td>\n",
       "    </tr>\n",
       "    <tr>\n",
       "      <th>2</th>\n",
       "      <td>3</td>\n",
       "      <td>0.578431</td>\n",
       "    </tr>\n",
       "    <tr>\n",
       "      <th>1</th>\n",
       "      <td>2</td>\n",
       "      <td>0.552795</td>\n",
       "    </tr>\n",
       "    <tr>\n",
       "      <th>6</th>\n",
       "      <td>7</td>\n",
       "      <td>0.333333</td>\n",
       "    </tr>\n",
       "    <tr>\n",
       "      <th>0</th>\n",
       "      <td>1</td>\n",
       "      <td>0.303538</td>\n",
       "    </tr>\n",
       "    <tr>\n",
       "      <th>4</th>\n",
       "      <td>5</td>\n",
       "      <td>0.200000</td>\n",
       "    </tr>\n",
       "    <tr>\n",
       "      <th>5</th>\n",
       "      <td>6</td>\n",
       "      <td>0.136364</td>\n",
       "    </tr>\n",
       "    <tr>\n",
       "      <th>7</th>\n",
       "      <td>8</td>\n",
       "      <td>0.000000</td>\n",
       "    </tr>\n",
       "    <tr>\n",
       "      <th>8</th>\n",
       "      <td>11</td>\n",
       "      <td>0.000000</td>\n",
       "    </tr>\n",
       "  </tbody>\n",
       "</table>\n",
       "</div>"
      ],
      "text/plain": [
       "   FamilySize  Survived\n",
       "3           4  0.724138\n",
       "2           3  0.578431\n",
       "1           2  0.552795\n",
       "6           7  0.333333\n",
       "0           1  0.303538\n",
       "4           5  0.200000\n",
       "5           6  0.136364\n",
       "7           8  0.000000\n",
       "8          11  0.000000"
      ]
     },
     "execution_count": 27,
     "metadata": {},
     "output_type": "execute_result"
    }
   ],
   "source": [
    "for dataset in combine:\n",
    "    dataset['FamilySize'] = dataset['SibSp'] + dataset['Parch'] + 1\n",
    "\n",
    "df[['FamilySize', 'Survived']].groupby(['FamilySize'], as_index=False).mean().sort_values(by='Survived', ascending=False)"
   ]
  },
  {
   "cell_type": "code",
   "execution_count": 28,
   "id": "a7da3f8f",
   "metadata": {
    "execution": {
     "iopub.execute_input": "2021-10-17T14:47:46.287167Z",
     "iopub.status.busy": "2021-10-17T14:47:46.279394Z",
     "iopub.status.idle": "2021-10-17T14:47:46.291823Z",
     "shell.execute_reply": "2021-10-17T14:47:46.291135Z",
     "shell.execute_reply.started": "2021-10-17T14:19:46.405392Z"
    },
    "papermill": {
     "duration": 0.069957,
     "end_time": "2021-10-17T14:47:46.291969",
     "exception": false,
     "start_time": "2021-10-17T14:47:46.222012",
     "status": "completed"
    },
    "tags": []
   },
   "outputs": [
    {
     "data": {
      "text/html": [
       "<div>\n",
       "<style scoped>\n",
       "    .dataframe tbody tr th:only-of-type {\n",
       "        vertical-align: middle;\n",
       "    }\n",
       "\n",
       "    .dataframe tbody tr th {\n",
       "        vertical-align: top;\n",
       "    }\n",
       "\n",
       "    .dataframe thead th {\n",
       "        text-align: right;\n",
       "    }\n",
       "</style>\n",
       "<table border=\"1\" class=\"dataframe\">\n",
       "  <thead>\n",
       "    <tr style=\"text-align: right;\">\n",
       "      <th></th>\n",
       "      <th>IsAlone</th>\n",
       "      <th>Survived</th>\n",
       "    </tr>\n",
       "  </thead>\n",
       "  <tbody>\n",
       "    <tr>\n",
       "      <th>0</th>\n",
       "      <td>0</td>\n",
       "      <td>0.505650</td>\n",
       "    </tr>\n",
       "    <tr>\n",
       "      <th>1</th>\n",
       "      <td>1</td>\n",
       "      <td>0.303538</td>\n",
       "    </tr>\n",
       "  </tbody>\n",
       "</table>\n",
       "</div>"
      ],
      "text/plain": [
       "   IsAlone  Survived\n",
       "0        0  0.505650\n",
       "1        1  0.303538"
      ]
     },
     "execution_count": 28,
     "metadata": {},
     "output_type": "execute_result"
    }
   ],
   "source": [
    "for dataset in combine:\n",
    "    dataset['IsAlone'] = 0\n",
    "    dataset.loc[dataset['FamilySize'] == 1, 'IsAlone'] = 1\n",
    "\n",
    "df[['IsAlone', 'Survived']].groupby(['IsAlone'], as_index=False).mean()"
   ]
  },
  {
   "cell_type": "code",
   "execution_count": 29,
   "id": "782d53ae",
   "metadata": {
    "execution": {
     "iopub.execute_input": "2021-10-17T14:47:46.405841Z",
     "iopub.status.busy": "2021-10-17T14:47:46.404744Z",
     "iopub.status.idle": "2021-10-17T14:47:46.409898Z",
     "shell.execute_reply": "2021-10-17T14:47:46.409144Z",
     "shell.execute_reply.started": "2021-10-17T14:19:46.427242Z"
    },
    "papermill": {
     "duration": 0.06885,
     "end_time": "2021-10-17T14:47:46.410050",
     "exception": false,
     "start_time": "2021-10-17T14:47:46.341200",
     "status": "completed"
    },
    "tags": []
   },
   "outputs": [
    {
     "data": {
      "text/html": [
       "<div>\n",
       "<style scoped>\n",
       "    .dataframe tbody tr th:only-of-type {\n",
       "        vertical-align: middle;\n",
       "    }\n",
       "\n",
       "    .dataframe tbody tr th {\n",
       "        vertical-align: top;\n",
       "    }\n",
       "\n",
       "    .dataframe thead th {\n",
       "        text-align: right;\n",
       "    }\n",
       "</style>\n",
       "<table border=\"1\" class=\"dataframe\">\n",
       "  <thead>\n",
       "    <tr style=\"text-align: right;\">\n",
       "      <th></th>\n",
       "      <th>PassengerId</th>\n",
       "      <th>Pclass</th>\n",
       "      <th>Sex</th>\n",
       "      <th>Age</th>\n",
       "      <th>Fare</th>\n",
       "      <th>Embarked</th>\n",
       "      <th>Title</th>\n",
       "      <th>IsAlone</th>\n",
       "    </tr>\n",
       "  </thead>\n",
       "  <tbody>\n",
       "    <tr>\n",
       "      <th>0</th>\n",
       "      <td>892</td>\n",
       "      <td>3</td>\n",
       "      <td>0</td>\n",
       "      <td>3.0</td>\n",
       "      <td>7.8292</td>\n",
       "      <td>Q</td>\n",
       "      <td>1</td>\n",
       "      <td>1</td>\n",
       "    </tr>\n",
       "    <tr>\n",
       "      <th>1</th>\n",
       "      <td>893</td>\n",
       "      <td>3</td>\n",
       "      <td>1</td>\n",
       "      <td>3.0</td>\n",
       "      <td>7.0000</td>\n",
       "      <td>S</td>\n",
       "      <td>3</td>\n",
       "      <td>0</td>\n",
       "    </tr>\n",
       "    <tr>\n",
       "      <th>2</th>\n",
       "      <td>894</td>\n",
       "      <td>2</td>\n",
       "      <td>0</td>\n",
       "      <td>4.0</td>\n",
       "      <td>9.6875</td>\n",
       "      <td>Q</td>\n",
       "      <td>1</td>\n",
       "      <td>1</td>\n",
       "    </tr>\n",
       "    <tr>\n",
       "      <th>3</th>\n",
       "      <td>895</td>\n",
       "      <td>3</td>\n",
       "      <td>0</td>\n",
       "      <td>2.0</td>\n",
       "      <td>8.6625</td>\n",
       "      <td>S</td>\n",
       "      <td>1</td>\n",
       "      <td>1</td>\n",
       "    </tr>\n",
       "    <tr>\n",
       "      <th>4</th>\n",
       "      <td>896</td>\n",
       "      <td>3</td>\n",
       "      <td>1</td>\n",
       "      <td>2.0</td>\n",
       "      <td>12.2875</td>\n",
       "      <td>S</td>\n",
       "      <td>3</td>\n",
       "      <td>0</td>\n",
       "    </tr>\n",
       "  </tbody>\n",
       "</table>\n",
       "</div>"
      ],
      "text/plain": [
       "   PassengerId  Pclass  Sex  Age     Fare Embarked  Title  IsAlone\n",
       "0          892       3    0  3.0   7.8292        Q      1        1\n",
       "1          893       3    1  3.0   7.0000        S      3        0\n",
       "2          894       2    0  4.0   9.6875        Q      1        1\n",
       "3          895       3    0  2.0   8.6625        S      1        1\n",
       "4          896       3    1  2.0  12.2875        S      3        0"
      ]
     },
     "execution_count": 29,
     "metadata": {},
     "output_type": "execute_result"
    }
   ],
   "source": [
    "df = df.drop(['Parch', 'SibSp', 'FamilySize'], axis=1)\n",
    "df_test = df_test.drop(['Parch', 'SibSp', 'FamilySize'], axis=1)\n",
    "combine = [df, df_test]\n",
    "\n",
    "df_test.head()"
   ]
  },
  {
   "cell_type": "code",
   "execution_count": 30,
   "id": "93ab3558",
   "metadata": {
    "execution": {
     "iopub.execute_input": "2021-10-17T14:47:46.516182Z",
     "iopub.status.busy": "2021-10-17T14:47:46.515321Z",
     "iopub.status.idle": "2021-10-17T14:47:46.518983Z",
     "shell.execute_reply": "2021-10-17T14:47:46.519465Z",
     "shell.execute_reply.started": "2021-10-17T14:19:46.446342Z"
    },
    "papermill": {
     "duration": 0.061111,
     "end_time": "2021-10-17T14:47:46.519656",
     "exception": false,
     "start_time": "2021-10-17T14:47:46.458545",
     "status": "completed"
    },
    "tags": []
   },
   "outputs": [
    {
     "data": {
      "text/plain": [
       "(Survived    0\n",
       " Pclass      0\n",
       " Sex         0\n",
       " Age         0\n",
       " Fare        0\n",
       " Embarked    0\n",
       " Title       0\n",
       " IsAlone     0\n",
       " dtype: int64,\n",
       " PassengerId    0\n",
       " Pclass         0\n",
       " Sex            0\n",
       " Age            0\n",
       " Fare           0\n",
       " Embarked       0\n",
       " Title          0\n",
       " IsAlone        0\n",
       " dtype: int64)"
      ]
     },
     "execution_count": 30,
     "metadata": {},
     "output_type": "execute_result"
    }
   ],
   "source": [
    "df.isna().sum(),df_test.isna().sum()"
   ]
  },
  {
   "cell_type": "code",
   "execution_count": 31,
   "id": "0dcbad71",
   "metadata": {
    "execution": {
     "iopub.execute_input": "2021-10-17T14:47:46.635223Z",
     "iopub.status.busy": "2021-10-17T14:47:46.634355Z",
     "iopub.status.idle": "2021-10-17T14:47:46.638533Z",
     "shell.execute_reply": "2021-10-17T14:47:46.638006Z",
     "shell.execute_reply.started": "2021-10-17T14:19:46.458945Z"
    },
    "papermill": {
     "duration": 0.070246,
     "end_time": "2021-10-17T14:47:46.638694",
     "exception": false,
     "start_time": "2021-10-17T14:47:46.568448",
     "status": "completed"
    },
    "tags": []
   },
   "outputs": [
    {
     "data": {
      "text/html": [
       "<div>\n",
       "<style scoped>\n",
       "    .dataframe tbody tr th:only-of-type {\n",
       "        vertical-align: middle;\n",
       "    }\n",
       "\n",
       "    .dataframe tbody tr th {\n",
       "        vertical-align: top;\n",
       "    }\n",
       "\n",
       "    .dataframe thead th {\n",
       "        text-align: right;\n",
       "    }\n",
       "</style>\n",
       "<table border=\"1\" class=\"dataframe\">\n",
       "  <thead>\n",
       "    <tr style=\"text-align: right;\">\n",
       "      <th></th>\n",
       "      <th>Survived</th>\n",
       "      <th>Pclass</th>\n",
       "      <th>Sex</th>\n",
       "      <th>Age</th>\n",
       "      <th>Fare</th>\n",
       "      <th>Embarked</th>\n",
       "      <th>Title</th>\n",
       "      <th>IsAlone</th>\n",
       "    </tr>\n",
       "  </thead>\n",
       "  <tbody>\n",
       "    <tr>\n",
       "      <th>0</th>\n",
       "      <td>0</td>\n",
       "      <td>3</td>\n",
       "      <td>0</td>\n",
       "      <td>2.0</td>\n",
       "      <td>7.2500</td>\n",
       "      <td>0</td>\n",
       "      <td>1</td>\n",
       "      <td>0</td>\n",
       "    </tr>\n",
       "    <tr>\n",
       "      <th>1</th>\n",
       "      <td>1</td>\n",
       "      <td>1</td>\n",
       "      <td>1</td>\n",
       "      <td>3.0</td>\n",
       "      <td>71.2833</td>\n",
       "      <td>1</td>\n",
       "      <td>3</td>\n",
       "      <td>0</td>\n",
       "    </tr>\n",
       "    <tr>\n",
       "      <th>2</th>\n",
       "      <td>1</td>\n",
       "      <td>3</td>\n",
       "      <td>1</td>\n",
       "      <td>2.0</td>\n",
       "      <td>7.9250</td>\n",
       "      <td>0</td>\n",
       "      <td>2</td>\n",
       "      <td>1</td>\n",
       "    </tr>\n",
       "    <tr>\n",
       "      <th>3</th>\n",
       "      <td>1</td>\n",
       "      <td>1</td>\n",
       "      <td>1</td>\n",
       "      <td>3.0</td>\n",
       "      <td>53.1000</td>\n",
       "      <td>0</td>\n",
       "      <td>3</td>\n",
       "      <td>0</td>\n",
       "    </tr>\n",
       "    <tr>\n",
       "      <th>4</th>\n",
       "      <td>0</td>\n",
       "      <td>3</td>\n",
       "      <td>0</td>\n",
       "      <td>3.0</td>\n",
       "      <td>8.0500</td>\n",
       "      <td>0</td>\n",
       "      <td>1</td>\n",
       "      <td>1</td>\n",
       "    </tr>\n",
       "  </tbody>\n",
       "</table>\n",
       "</div>"
      ],
      "text/plain": [
       "   Survived  Pclass  Sex  Age     Fare  Embarked  Title  IsAlone\n",
       "0         0       3    0  2.0   7.2500         0      1        0\n",
       "1         1       1    1  3.0  71.2833         1      3        0\n",
       "2         1       3    1  2.0   7.9250         0      2        1\n",
       "3         1       1    1  3.0  53.1000         0      3        0\n",
       "4         0       3    0  3.0   8.0500         0      1        1"
      ]
     },
     "execution_count": 31,
     "metadata": {},
     "output_type": "execute_result"
    }
   ],
   "source": [
    "for dataset in combine:\n",
    "    dataset['Embarked'] = dataset['Embarked'].map( {'S': 0, 'C': 1, 'Q': 2} ).astype(int)\n",
    "\n",
    "df.head()"
   ]
  },
  {
   "cell_type": "code",
   "execution_count": 32,
   "id": "54738696",
   "metadata": {
    "execution": {
     "iopub.execute_input": "2021-10-17T14:47:46.742768Z",
     "iopub.status.busy": "2021-10-17T14:47:46.742021Z",
     "iopub.status.idle": "2021-10-17T14:47:46.745422Z",
     "shell.execute_reply": "2021-10-17T14:47:46.744768Z",
     "shell.execute_reply.started": "2021-10-17T14:19:46.487413Z"
    },
    "papermill": {
     "duration": 0.056946,
     "end_time": "2021-10-17T14:47:46.745564",
     "exception": false,
     "start_time": "2021-10-17T14:47:46.688618",
     "status": "completed"
    },
    "tags": []
   },
   "outputs": [],
   "source": [
    "combine = [df, df_test]"
   ]
  },
  {
   "cell_type": "code",
   "execution_count": 33,
   "id": "7c9961e3",
   "metadata": {
    "execution": {
     "iopub.execute_input": "2021-10-17T14:47:46.863077Z",
     "iopub.status.busy": "2021-10-17T14:47:46.852926Z",
     "iopub.status.idle": "2021-10-17T14:47:46.878565Z",
     "shell.execute_reply": "2021-10-17T14:47:46.877896Z",
     "shell.execute_reply.started": "2021-10-17T14:19:46.497509Z"
    },
    "papermill": {
     "duration": 0.083259,
     "end_time": "2021-10-17T14:47:46.878724",
     "exception": false,
     "start_time": "2021-10-17T14:47:46.795465",
     "status": "completed"
    },
    "tags": []
   },
   "outputs": [
    {
     "data": {
      "text/html": [
       "<div>\n",
       "<style scoped>\n",
       "    .dataframe tbody tr th:only-of-type {\n",
       "        vertical-align: middle;\n",
       "    }\n",
       "\n",
       "    .dataframe tbody tr th {\n",
       "        vertical-align: top;\n",
       "    }\n",
       "\n",
       "    .dataframe thead th {\n",
       "        text-align: right;\n",
       "    }\n",
       "</style>\n",
       "<table border=\"1\" class=\"dataframe\">\n",
       "  <thead>\n",
       "    <tr style=\"text-align: right;\">\n",
       "      <th></th>\n",
       "      <th>FareBand</th>\n",
       "      <th>Survived</th>\n",
       "    </tr>\n",
       "  </thead>\n",
       "  <tbody>\n",
       "    <tr>\n",
       "      <th>0</th>\n",
       "      <td>(-0.001, 7.854]</td>\n",
       "      <td>0.217877</td>\n",
       "    </tr>\n",
       "    <tr>\n",
       "      <th>1</th>\n",
       "      <td>(7.854, 10.5]</td>\n",
       "      <td>0.201087</td>\n",
       "    </tr>\n",
       "    <tr>\n",
       "      <th>2</th>\n",
       "      <td>(10.5, 21.679]</td>\n",
       "      <td>0.424419</td>\n",
       "    </tr>\n",
       "    <tr>\n",
       "      <th>3</th>\n",
       "      <td>(21.679, 39.688]</td>\n",
       "      <td>0.444444</td>\n",
       "    </tr>\n",
       "    <tr>\n",
       "      <th>4</th>\n",
       "      <td>(39.688, 512.329]</td>\n",
       "      <td>0.642045</td>\n",
       "    </tr>\n",
       "  </tbody>\n",
       "</table>\n",
       "</div>"
      ],
      "text/plain": [
       "            FareBand  Survived\n",
       "0    (-0.001, 7.854]  0.217877\n",
       "1      (7.854, 10.5]  0.201087\n",
       "2     (10.5, 21.679]  0.424419\n",
       "3   (21.679, 39.688]  0.444444\n",
       "4  (39.688, 512.329]  0.642045"
      ]
     },
     "execution_count": 33,
     "metadata": {},
     "output_type": "execute_result"
    }
   ],
   "source": [
    "df['FareBand'] = pd.qcut(df['Fare'], 5)\n",
    "df[['FareBand', 'Survived']].groupby(['FareBand'], as_index=False).mean().sort_values(by='FareBand', ascending=True)"
   ]
  },
  {
   "cell_type": "code",
   "execution_count": 34,
   "id": "68f35d8b",
   "metadata": {
    "execution": {
     "iopub.execute_input": "2021-10-17T14:47:47.002565Z",
     "iopub.status.busy": "2021-10-17T14:47:47.001535Z",
     "iopub.status.idle": "2021-10-17T14:47:47.005405Z",
     "shell.execute_reply": "2021-10-17T14:47:47.004533Z",
     "shell.execute_reply.started": "2021-10-17T14:19:46.537363Z"
    },
    "papermill": {
     "duration": 0.074836,
     "end_time": "2021-10-17T14:47:47.005554",
     "exception": false,
     "start_time": "2021-10-17T14:47:46.930718",
     "status": "completed"
    },
    "tags": []
   },
   "outputs": [],
   "source": [
    "for dataset in combine:\n",
    "    dataset.loc[ dataset['Fare'] <= 7.854, 'Fare'] = 0\n",
    "    dataset.loc[(dataset['Fare'] > 7.854) & (dataset['Fare'] <= 10.5), 'Fare'] = 1\n",
    "    dataset.loc[(dataset['Fare'] > 10.5) & (dataset['Fare'] <= 21.679), 'Fare']   = 2\n",
    "    dataset.loc[(dataset['Fare'] > 21.679) & (dataset['Fare'] <= 39.688), 'Fare']   = 2\n",
    "    dataset.loc[ dataset['Fare'] > 39.688, 'Fare'] = 3\n",
    "    dataset['Fare'] = dataset['Fare'].astype(int)\n",
    "\n",
    "df = df.drop(['FareBand'], axis=1)\n",
    "combine = [df, df_test]"
   ]
  },
  {
   "cell_type": "code",
   "execution_count": 35,
   "id": "2882bf44",
   "metadata": {
    "execution": {
     "iopub.execute_input": "2021-10-17T14:47:47.118303Z",
     "iopub.status.busy": "2021-10-17T14:47:47.117441Z",
     "iopub.status.idle": "2021-10-17T14:47:47.121671Z",
     "shell.execute_reply": "2021-10-17T14:47:47.121015Z",
     "shell.execute_reply.started": "2021-10-17T14:19:46.560660Z"
    },
    "papermill": {
     "duration": 0.066983,
     "end_time": "2021-10-17T14:47:47.121818",
     "exception": false,
     "start_time": "2021-10-17T14:47:47.054835",
     "status": "completed"
    },
    "tags": []
   },
   "outputs": [
    {
     "data": {
      "text/html": [
       "<div>\n",
       "<style scoped>\n",
       "    .dataframe tbody tr th:only-of-type {\n",
       "        vertical-align: middle;\n",
       "    }\n",
       "\n",
       "    .dataframe tbody tr th {\n",
       "        vertical-align: top;\n",
       "    }\n",
       "\n",
       "    .dataframe thead th {\n",
       "        text-align: right;\n",
       "    }\n",
       "</style>\n",
       "<table border=\"1\" class=\"dataframe\">\n",
       "  <thead>\n",
       "    <tr style=\"text-align: right;\">\n",
       "      <th></th>\n",
       "      <th>Survived</th>\n",
       "      <th>Pclass</th>\n",
       "      <th>Sex</th>\n",
       "      <th>Age</th>\n",
       "      <th>Fare</th>\n",
       "      <th>Embarked</th>\n",
       "      <th>Title</th>\n",
       "      <th>IsAlone</th>\n",
       "    </tr>\n",
       "  </thead>\n",
       "  <tbody>\n",
       "    <tr>\n",
       "      <th>0</th>\n",
       "      <td>0</td>\n",
       "      <td>3</td>\n",
       "      <td>0</td>\n",
       "      <td>2.0</td>\n",
       "      <td>0</td>\n",
       "      <td>0</td>\n",
       "      <td>1</td>\n",
       "      <td>0</td>\n",
       "    </tr>\n",
       "    <tr>\n",
       "      <th>1</th>\n",
       "      <td>1</td>\n",
       "      <td>1</td>\n",
       "      <td>1</td>\n",
       "      <td>3.0</td>\n",
       "      <td>3</td>\n",
       "      <td>1</td>\n",
       "      <td>3</td>\n",
       "      <td>0</td>\n",
       "    </tr>\n",
       "    <tr>\n",
       "      <th>2</th>\n",
       "      <td>1</td>\n",
       "      <td>3</td>\n",
       "      <td>1</td>\n",
       "      <td>2.0</td>\n",
       "      <td>1</td>\n",
       "      <td>0</td>\n",
       "      <td>2</td>\n",
       "      <td>1</td>\n",
       "    </tr>\n",
       "    <tr>\n",
       "      <th>3</th>\n",
       "      <td>1</td>\n",
       "      <td>1</td>\n",
       "      <td>1</td>\n",
       "      <td>3.0</td>\n",
       "      <td>3</td>\n",
       "      <td>0</td>\n",
       "      <td>3</td>\n",
       "      <td>0</td>\n",
       "    </tr>\n",
       "    <tr>\n",
       "      <th>4</th>\n",
       "      <td>0</td>\n",
       "      <td>3</td>\n",
       "      <td>0</td>\n",
       "      <td>3.0</td>\n",
       "      <td>1</td>\n",
       "      <td>0</td>\n",
       "      <td>1</td>\n",
       "      <td>1</td>\n",
       "    </tr>\n",
       "  </tbody>\n",
       "</table>\n",
       "</div>"
      ],
      "text/plain": [
       "   Survived  Pclass  Sex  Age  Fare  Embarked  Title  IsAlone\n",
       "0         0       3    0  2.0     0         0      1        0\n",
       "1         1       1    1  3.0     3         1      3        0\n",
       "2         1       3    1  2.0     1         0      2        1\n",
       "3         1       1    1  3.0     3         0      3        0\n",
       "4         0       3    0  3.0     1         0      1        1"
      ]
     },
     "execution_count": 35,
     "metadata": {},
     "output_type": "execute_result"
    }
   ],
   "source": [
    "df.head() # We finish the cleanning and wrangling process"
   ]
  },
  {
   "cell_type": "code",
   "execution_count": 36,
   "id": "97071024",
   "metadata": {
    "execution": {
     "iopub.execute_input": "2021-10-17T14:47:47.234247Z",
     "iopub.status.busy": "2021-10-17T14:47:47.233393Z",
     "iopub.status.idle": "2021-10-17T14:47:47.236565Z",
     "shell.execute_reply": "2021-10-17T14:47:47.237104Z",
     "shell.execute_reply.started": "2021-10-17T14:19:46.585810Z"
    },
    "papermill": {
     "duration": 0.064932,
     "end_time": "2021-10-17T14:47:47.237289",
     "exception": false,
     "start_time": "2021-10-17T14:47:47.172357",
     "status": "completed"
    },
    "tags": []
   },
   "outputs": [
    {
     "data": {
      "text/plain": [
       "((891, 7), (891,), (418, 7))"
      ]
     },
     "execution_count": 36,
     "metadata": {},
     "output_type": "execute_result"
    }
   ],
   "source": [
    "X_train = df.drop(\"Survived\", axis=1)\n",
    "Y_train = df[\"Survived\"]\n",
    "X_test  = df_test.drop(\"PassengerId\", axis=1).copy()\n",
    "X_train.shape, Y_train.shape, X_test.shape"
   ]
  },
  {
   "cell_type": "markdown",
   "id": "1e38f4ad",
   "metadata": {
    "papermill": {
     "duration": 0.055063,
     "end_time": "2021-10-17T14:47:47.342690",
     "exception": false,
     "start_time": "2021-10-17T14:47:47.287627",
     "status": "completed"
    },
    "tags": []
   },
   "source": [
    "* Decision Tree"
   ]
  },
  {
   "cell_type": "code",
   "execution_count": 37,
   "id": "200bfc49",
   "metadata": {
    "execution": {
     "iopub.execute_input": "2021-10-17T14:47:47.466228Z",
     "iopub.status.busy": "2021-10-17T14:47:47.465186Z",
     "iopub.status.idle": "2021-10-17T14:47:47.473769Z",
     "shell.execute_reply": "2021-10-17T14:47:47.474514Z",
     "shell.execute_reply.started": "2021-10-17T14:19:46.601912Z"
    },
    "papermill": {
     "duration": 0.073881,
     "end_time": "2021-10-17T14:47:47.474789",
     "exception": false,
     "start_time": "2021-10-17T14:47:47.400908",
     "status": "completed"
    },
    "tags": []
   },
   "outputs": [
    {
     "data": {
      "text/plain": [
       "78.9"
      ]
     },
     "execution_count": 37,
     "metadata": {},
     "output_type": "execute_result"
    }
   ],
   "source": [
    "decision_tree = DecisionTreeClassifier(max_depth = 2)\n",
    "decision_tree.fit(X_train, Y_train)\n",
    "Y_pred = decision_tree.predict(X_test)\n",
    "acc_decision_tree = round(decision_tree.score(X_train, Y_train) * 100, 2)\n",
    "acc_decision_tree"
   ]
  },
  {
   "cell_type": "markdown",
   "id": "0d9b28d2",
   "metadata": {
    "papermill": {
     "duration": 0.056372,
     "end_time": "2021-10-17T14:47:47.589797",
     "exception": false,
     "start_time": "2021-10-17T14:47:47.533425",
     "status": "completed"
    },
    "tags": []
   },
   "source": [
    "* Random Forest"
   ]
  },
  {
   "cell_type": "code",
   "execution_count": 38,
   "id": "34e24b12",
   "metadata": {
    "execution": {
     "iopub.execute_input": "2021-10-17T14:47:47.718808Z",
     "iopub.status.busy": "2021-10-17T14:47:47.717843Z",
     "iopub.status.idle": "2021-10-17T14:47:48.188331Z",
     "shell.execute_reply": "2021-10-17T14:47:48.188849Z",
     "shell.execute_reply.started": "2021-10-17T14:19:46.623269Z"
    },
    "papermill": {
     "duration": 0.545506,
     "end_time": "2021-10-17T14:47:48.189034",
     "exception": false,
     "start_time": "2021-10-17T14:47:47.643528",
     "status": "completed"
    },
    "tags": []
   },
   "outputs": [
    {
     "data": {
      "text/plain": [
       "80.02"
      ]
     },
     "execution_count": 38,
     "metadata": {},
     "output_type": "execute_result"
    }
   ],
   "source": [
    "random_forest = RandomForestClassifier(criterion=\"gini\",max_depth=2,n_estimators=200)\n",
    "random_forest.fit(X_train, Y_train)\n",
    "Y_pred = random_forest.predict(X_test)\n",
    "random_forest.score(X_train, Y_train)\n",
    "acc_random_forest = round(random_forest.score(X_train, Y_train) * 100, 2)\n",
    "acc_random_forest"
   ]
  },
  {
   "cell_type": "code",
   "execution_count": 39,
   "id": "f534e162",
   "metadata": {
    "execution": {
     "iopub.execute_input": "2021-10-17T14:47:48.291856Z",
     "iopub.status.busy": "2021-10-17T14:47:48.291168Z",
     "iopub.status.idle": "2021-10-17T14:47:48.511282Z",
     "shell.execute_reply": "2021-10-17T14:47:48.511852Z",
     "shell.execute_reply.started": "2021-10-17T14:43:13.197151Z"
    },
    "papermill": {
     "duration": 0.272944,
     "end_time": "2021-10-17T14:47:48.512069",
     "exception": false,
     "start_time": "2021-10-17T14:47:48.239125",
     "status": "completed"
    },
    "tags": []
   },
   "outputs": [],
   "source": [
    "from sklearn.ensemble import RandomForestClassifier\n",
    "\n",
    "y = Y_train\n",
    "\n",
    "features = ['Pclass', 'Sex', 'Age', 'Fare', 'Embarked', 'Title', 'IsAlone']\n",
    "X = pd.get_dummies(X_train[features])\n",
    "X_test = pd.get_dummies(X_test[features])\n",
    "\n",
    "model = RandomForestClassifier(n_estimators=100, max_depth=3, random_state=2)\n",
    "model.fit(X, y)\n",
    "predictions = model.predict(X_test)\n",
    "\n"
   ]
  },
  {
   "cell_type": "code",
   "execution_count": 40,
   "id": "740c8782",
   "metadata": {
    "execution": {
     "iopub.execute_input": "2021-10-17T14:47:48.619514Z",
     "iopub.status.busy": "2021-10-17T14:47:48.617080Z",
     "iopub.status.idle": "2021-10-17T14:47:48.623529Z",
     "shell.execute_reply": "2021-10-17T14:47:48.622890Z",
     "shell.execute_reply.started": "2021-10-17T14:45:21.371041Z"
    },
    "papermill": {
     "duration": 0.059955,
     "end_time": "2021-10-17T14:47:48.623686",
     "exception": false,
     "start_time": "2021-10-17T14:47:48.563731",
     "status": "completed"
    },
    "tags": []
   },
   "outputs": [
    {
     "data": {
      "text/plain": [
       "418"
      ]
     },
     "execution_count": 40,
     "metadata": {},
     "output_type": "execute_result"
    }
   ],
   "source": [
    "predictions.shape[0]"
   ]
  },
  {
   "cell_type": "code",
   "execution_count": 41,
   "id": "9c661902",
   "metadata": {
    "execution": {
     "iopub.execute_input": "2021-10-17T14:47:48.733426Z",
     "iopub.status.busy": "2021-10-17T14:47:48.732583Z",
     "iopub.status.idle": "2021-10-17T14:47:48.735498Z",
     "shell.execute_reply": "2021-10-17T14:47:48.735012Z",
     "shell.execute_reply.started": "2021-10-17T14:46:51.490970Z"
    },
    "papermill": {
     "duration": 0.058375,
     "end_time": "2021-10-17T14:47:48.735657",
     "exception": false,
     "start_time": "2021-10-17T14:47:48.677282",
     "status": "completed"
    },
    "tags": []
   },
   "outputs": [],
   "source": [
    "df_test['Predictions'] = predictions"
   ]
  },
  {
   "cell_type": "code",
   "execution_count": 42,
   "id": "cd5356c8",
   "metadata": {
    "execution": {
     "iopub.execute_input": "2021-10-17T14:47:48.841804Z",
     "iopub.status.busy": "2021-10-17T14:47:48.840705Z",
     "iopub.status.idle": "2021-10-17T14:47:48.848408Z",
     "shell.execute_reply": "2021-10-17T14:47:48.847877Z",
     "shell.execute_reply.started": "2021-10-17T14:47:06.830902Z"
    },
    "papermill": {
     "duration": 0.062876,
     "end_time": "2021-10-17T14:47:48.848546",
     "exception": false,
     "start_time": "2021-10-17T14:47:48.785670",
     "status": "completed"
    },
    "tags": []
   },
   "outputs": [
    {
     "name": "stdout",
     "output_type": "stream",
     "text": [
      "Your submission was successfully saved!\n"
     ]
    }
   ],
   "source": [
    "output = pd.DataFrame({'PassengerId': df_test.PassengerId, 'Survived': df_test.Predictions})\n",
    "output.to_csv('submission.csv', index=False)\n",
    "print(\"Your submission was successfully saved!\")"
   ]
  },
  {
   "cell_type": "code",
   "execution_count": 43,
   "id": "776e141d",
   "metadata": {
    "execution": {
     "iopub.execute_input": "2021-10-17T14:47:48.956479Z",
     "iopub.status.busy": "2021-10-17T14:47:48.955830Z",
     "iopub.status.idle": "2021-10-17T14:47:48.964130Z",
     "shell.execute_reply": "2021-10-17T14:47:48.963468Z",
     "shell.execute_reply.started": "2021-10-17T14:45:30.204885Z"
    },
    "papermill": {
     "duration": 0.0654,
     "end_time": "2021-10-17T14:47:48.964278",
     "exception": false,
     "start_time": "2021-10-17T14:47:48.898878",
     "status": "completed"
    },
    "tags": []
   },
   "outputs": [
    {
     "name": "stdout",
     "output_type": "stream",
     "text": [
      "/kaggle/src/script.ipynb\n",
      "/kaggle/lib/kaggle/gcp.py\n",
      "/kaggle/input/titanic/train.csv\n",
      "/kaggle/input/titanic/test.csv\n",
      "/kaggle/input/titanic/gender_submission.csv\n",
      "/kaggle/working/__notebook__.ipynb\n",
      "/kaggle/working/submission.csv\n"
     ]
    }
   ],
   "source": [
    "for dirname, _, filenames in os.walk('/kaggle'):\n",
    "    for filename in filenames:\n",
    "        print(os.path.join(dirname, filename))"
   ]
  }
 ],
 "metadata": {
  "kernelspec": {
   "display_name": "Python 3",
   "language": "python",
   "name": "python3"
  },
  "language_info": {
   "codemirror_mode": {
    "name": "ipython",
    "version": 3
   },
   "file_extension": ".py",
   "mimetype": "text/x-python",
   "name": "python",
   "nbconvert_exporter": "python",
   "pygments_lexer": "ipython3",
   "version": "3.7.10"
  },
  "papermill": {
   "default_parameters": {},
   "duration": 18.888661,
   "end_time": "2021-10-17T14:47:51.918970",
   "environment_variables": {},
   "exception": null,
   "input_path": "__notebook__.ipynb",
   "output_path": "__notebook__.ipynb",
   "parameters": {},
   "start_time": "2021-10-17T14:47:33.030309",
   "version": "2.3.3"
  }
 },
 "nbformat": 4,
 "nbformat_minor": 5
}

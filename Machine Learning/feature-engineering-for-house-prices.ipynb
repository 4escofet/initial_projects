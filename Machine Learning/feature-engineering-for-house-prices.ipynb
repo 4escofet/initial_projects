{
 "cells": [
  {
   "cell_type": "markdown",
   "id": "5db6bb82",
   "metadata": {
    "papermill": {
     "duration": 0.011989,
     "end_time": "2022-07-31T13:13:16.820952",
     "exception": false,
     "start_time": "2022-07-31T13:13:16.808963",
     "status": "completed"
    },
    "tags": []
   },
   "source": [
    "# Introduction #\n",
    "\n",
    "Welcome to the feature engineering project for the [House Prices - Advanced Regression Techniques](https://www.kaggle.com/c/house-prices-advanced-regression-techniques) competition! This competition uses nearly the same data you used in the exercises of the [Feature Engineering](https://www.kaggle.com/learn/feature-engineering) course. We'll collect together the work you did into a complete project which you can build off of with ideas of your own.\n",
    "\n",
    "<blockquote style=\"margin-right:auto; margin-left:auto; background-color: #ebf9ff; padding: 1em; margin:24px;\">\n",
    "    <strong>Fork This Notebook!</strong><br>\n",
    "Create your own editable copy of this notebook by clicking on the <strong>Copy and Edit</strong> button in the top right corner.\n",
    "</blockquote>\n",
    "\n",
    "# Step 1 - Preliminaries #\n",
    "## Imports and Configuration ##\n",
    "\n",
    "We'll start by importing the packages we used in the exercises and setting some notebook defaults. Unhide this cell if you'd like to see the libraries we'll use:"
   ]
  },
  {
   "cell_type": "code",
   "execution_count": 1,
   "id": "a5e66a3c",
   "metadata": {
    "_kg_hide-input": true,
    "execution": {
     "iopub.execute_input": "2022-07-31T13:13:16.844157Z",
     "iopub.status.busy": "2022-07-31T13:13:16.843463Z",
     "iopub.status.idle": "2022-07-31T13:13:18.444132Z",
     "shell.execute_reply": "2022-07-31T13:13:18.443098Z"
    },
    "papermill": {
     "duration": 1.615251,
     "end_time": "2022-07-31T13:13:18.446663",
     "exception": false,
     "start_time": "2022-07-31T13:13:16.831412",
     "status": "completed"
    },
    "tags": []
   },
   "outputs": [],
   "source": [
    "\n",
    "import os\n",
    "import warnings\n",
    "from pathlib import Path\n",
    "\n",
    "import matplotlib.pyplot as plt\n",
    "import numpy as np\n",
    "import pandas as pd\n",
    "import seaborn as sns\n",
    "from IPython.display import display\n",
    "from pandas.api.types import CategoricalDtype\n",
    "\n",
    "from category_encoders import MEstimateEncoder\n",
    "from sklearn.cluster import KMeans\n",
    "from sklearn.decomposition import PCA\n",
    "from sklearn.feature_selection import mutual_info_regression\n",
    "from sklearn.model_selection import KFold, cross_val_score\n",
    "from xgboost import XGBRegressor\n",
    "\n",
    "\n",
    "# Set Matplotlib defaults\n",
    "plt.style.use(\"seaborn-whitegrid\")\n",
    "plt.rc(\"figure\", autolayout=True)\n",
    "plt.rc(\n",
    "    \"axes\",\n",
    "    labelweight=\"bold\",\n",
    "    labelsize=\"large\",\n",
    "    titleweight=\"bold\",\n",
    "    titlesize=14,\n",
    "    titlepad=10,\n",
    ")\n",
    "\n",
    "# Mute warnings\n",
    "warnings.filterwarnings('ignore')\n"
   ]
  },
  {
   "cell_type": "markdown",
   "id": "e15b006b",
   "metadata": {
    "papermill": {
     "duration": 0.011866,
     "end_time": "2022-07-31T13:13:18.469477",
     "exception": false,
     "start_time": "2022-07-31T13:13:18.457611",
     "status": "completed"
    },
    "tags": []
   },
   "source": [
    "## Data Preprocessing ##\n",
    "\n",
    "Before we can do any feature engineering, we need to *preprocess* the data to get it in a form suitable for analysis. The data we used in the course was a bit simpler than the competition data. For the *Ames* competition dataset, we'll need to:\n",
    "- **Load** the data from CSV files\n",
    "- **Clean** the data to fix any errors or inconsistencies\n",
    "- **Encode** the statistical data type (numeric, categorical)\n",
    "- **Impute** any missing values\n",
    "\n",
    "We'll wrap all these steps up in a function, which will make easy for you to get a fresh dataframe whenever you need. After reading the CSV file, we'll apply three preprocessing steps, `clean`, `encode`, and `impute`, and then create the data splits: one (`df_train`) for training the model, and one (`df_test`) for making the predictions that you'll submit to the competition for scoring on the leaderboard."
   ]
  },
  {
   "cell_type": "code",
   "execution_count": 2,
   "id": "472f3c4b",
   "metadata": {
    "execution": {
     "iopub.execute_input": "2022-07-31T13:13:18.492680Z",
     "iopub.status.busy": "2022-07-31T13:13:18.492331Z",
     "iopub.status.idle": "2022-07-31T13:13:18.497783Z",
     "shell.execute_reply": "2022-07-31T13:13:18.497139Z"
    },
    "papermill": {
     "duration": 0.019468,
     "end_time": "2022-07-31T13:13:18.499718",
     "exception": false,
     "start_time": "2022-07-31T13:13:18.480250",
     "status": "completed"
    },
    "tags": []
   },
   "outputs": [],
   "source": [
    "def load_data():\n",
    "    # Read data\n",
    "    data_dir = Path(\"../input/house-prices-advanced-regression-techniques/\")\n",
    "    df_train = pd.read_csv(data_dir / \"train.csv\", index_col=\"Id\")\n",
    "    df_test = pd.read_csv(data_dir / \"test.csv\", index_col=\"Id\")\n",
    "    # Merge the splits so we can process them together\n",
    "    df = pd.concat([df_train, df_test])\n",
    "    # Preprocessing\n",
    "    df = clean(df)\n",
    "    df = encode(df)\n",
    "    df = impute(df)\n",
    "    # Reform splits\n",
    "    df_train = df.loc[df_train.index, :]\n",
    "    df_test = df.loc[df_test.index, :]\n",
    "    return df_train, df_test\n"
   ]
  },
  {
   "cell_type": "markdown",
   "id": "ca70371e",
   "metadata": {
    "papermill": {
     "duration": 0.011031,
     "end_time": "2022-07-31T13:13:18.524725",
     "exception": false,
     "start_time": "2022-07-31T13:13:18.513694",
     "status": "completed"
    },
    "tags": []
   },
   "source": [
    "### Clean Data ###\n",
    "\n",
    "Some of the categorical features in this dataset have what are apparently typos in their categories:"
   ]
  },
  {
   "cell_type": "code",
   "execution_count": 3,
   "id": "b5fefadf",
   "metadata": {
    "execution": {
     "iopub.execute_input": "2022-07-31T13:13:18.548492Z",
     "iopub.status.busy": "2022-07-31T13:13:18.547989Z",
     "iopub.status.idle": "2022-07-31T13:13:18.596952Z",
     "shell.execute_reply": "2022-07-31T13:13:18.595858Z"
    },
    "papermill": {
     "duration": 0.063319,
     "end_time": "2022-07-31T13:13:18.599303",
     "exception": false,
     "start_time": "2022-07-31T13:13:18.535984",
     "status": "completed"
    },
    "tags": []
   },
   "outputs": [
    {
     "data": {
      "text/plain": [
       "array(['VinylSd', 'MetalSd', 'Wd Shng', 'HdBoard', 'Plywood', 'Wd Sdng',\n",
       "       'CmentBd', 'BrkFace', 'Stucco', 'AsbShng', 'Brk Cmn', 'ImStucc',\n",
       "       'AsphShn', 'Stone', 'Other', 'CBlock'], dtype=object)"
      ]
     },
     "execution_count": 3,
     "metadata": {},
     "output_type": "execute_result"
    }
   ],
   "source": [
    "data_dir = Path(\"../input/house-prices-advanced-regression-techniques/\")\n",
    "df = pd.read_csv(data_dir / \"train.csv\", index_col=\"Id\")\n",
    "\n",
    "df.Exterior2nd.unique()"
   ]
  },
  {
   "cell_type": "code",
   "execution_count": 4,
   "id": "71a89eb1",
   "metadata": {
    "execution": {
     "iopub.execute_input": "2022-07-31T13:13:18.622586Z",
     "iopub.status.busy": "2022-07-31T13:13:18.621957Z",
     "iopub.status.idle": "2022-07-31T13:13:18.650152Z",
     "shell.execute_reply": "2022-07-31T13:13:18.649039Z"
    },
    "papermill": {
     "duration": 0.042081,
     "end_time": "2022-07-31T13:13:18.652317",
     "exception": false,
     "start_time": "2022-07-31T13:13:18.610236",
     "status": "completed"
    },
    "tags": []
   },
   "outputs": [
    {
     "data": {
      "text/html": [
       "<div>\n",
       "<style scoped>\n",
       "    .dataframe tbody tr th:only-of-type {\n",
       "        vertical-align: middle;\n",
       "    }\n",
       "\n",
       "    .dataframe tbody tr th {\n",
       "        vertical-align: top;\n",
       "    }\n",
       "\n",
       "    .dataframe thead th {\n",
       "        text-align: right;\n",
       "    }\n",
       "</style>\n",
       "<table border=\"1\" class=\"dataframe\">\n",
       "  <thead>\n",
       "    <tr style=\"text-align: right;\">\n",
       "      <th></th>\n",
       "      <th>MSSubClass</th>\n",
       "      <th>MSZoning</th>\n",
       "      <th>LotFrontage</th>\n",
       "      <th>LotArea</th>\n",
       "      <th>Street</th>\n",
       "      <th>Alley</th>\n",
       "      <th>LotShape</th>\n",
       "      <th>LandContour</th>\n",
       "      <th>Utilities</th>\n",
       "      <th>LotConfig</th>\n",
       "      <th>...</th>\n",
       "      <th>PoolArea</th>\n",
       "      <th>PoolQC</th>\n",
       "      <th>Fence</th>\n",
       "      <th>MiscFeature</th>\n",
       "      <th>MiscVal</th>\n",
       "      <th>MoSold</th>\n",
       "      <th>YrSold</th>\n",
       "      <th>SaleType</th>\n",
       "      <th>SaleCondition</th>\n",
       "      <th>SalePrice</th>\n",
       "    </tr>\n",
       "    <tr>\n",
       "      <th>Id</th>\n",
       "      <th></th>\n",
       "      <th></th>\n",
       "      <th></th>\n",
       "      <th></th>\n",
       "      <th></th>\n",
       "      <th></th>\n",
       "      <th></th>\n",
       "      <th></th>\n",
       "      <th></th>\n",
       "      <th></th>\n",
       "      <th></th>\n",
       "      <th></th>\n",
       "      <th></th>\n",
       "      <th></th>\n",
       "      <th></th>\n",
       "      <th></th>\n",
       "      <th></th>\n",
       "      <th></th>\n",
       "      <th></th>\n",
       "      <th></th>\n",
       "      <th></th>\n",
       "    </tr>\n",
       "  </thead>\n",
       "  <tbody>\n",
       "    <tr>\n",
       "      <th>1</th>\n",
       "      <td>60</td>\n",
       "      <td>RL</td>\n",
       "      <td>65.0</td>\n",
       "      <td>8450</td>\n",
       "      <td>Pave</td>\n",
       "      <td>NaN</td>\n",
       "      <td>Reg</td>\n",
       "      <td>Lvl</td>\n",
       "      <td>AllPub</td>\n",
       "      <td>Inside</td>\n",
       "      <td>...</td>\n",
       "      <td>0</td>\n",
       "      <td>NaN</td>\n",
       "      <td>NaN</td>\n",
       "      <td>NaN</td>\n",
       "      <td>0</td>\n",
       "      <td>2</td>\n",
       "      <td>2008</td>\n",
       "      <td>WD</td>\n",
       "      <td>Normal</td>\n",
       "      <td>208500</td>\n",
       "    </tr>\n",
       "    <tr>\n",
       "      <th>2</th>\n",
       "      <td>20</td>\n",
       "      <td>RL</td>\n",
       "      <td>80.0</td>\n",
       "      <td>9600</td>\n",
       "      <td>Pave</td>\n",
       "      <td>NaN</td>\n",
       "      <td>Reg</td>\n",
       "      <td>Lvl</td>\n",
       "      <td>AllPub</td>\n",
       "      <td>FR2</td>\n",
       "      <td>...</td>\n",
       "      <td>0</td>\n",
       "      <td>NaN</td>\n",
       "      <td>NaN</td>\n",
       "      <td>NaN</td>\n",
       "      <td>0</td>\n",
       "      <td>5</td>\n",
       "      <td>2007</td>\n",
       "      <td>WD</td>\n",
       "      <td>Normal</td>\n",
       "      <td>181500</td>\n",
       "    </tr>\n",
       "    <tr>\n",
       "      <th>3</th>\n",
       "      <td>60</td>\n",
       "      <td>RL</td>\n",
       "      <td>68.0</td>\n",
       "      <td>11250</td>\n",
       "      <td>Pave</td>\n",
       "      <td>NaN</td>\n",
       "      <td>IR1</td>\n",
       "      <td>Lvl</td>\n",
       "      <td>AllPub</td>\n",
       "      <td>Inside</td>\n",
       "      <td>...</td>\n",
       "      <td>0</td>\n",
       "      <td>NaN</td>\n",
       "      <td>NaN</td>\n",
       "      <td>NaN</td>\n",
       "      <td>0</td>\n",
       "      <td>9</td>\n",
       "      <td>2008</td>\n",
       "      <td>WD</td>\n",
       "      <td>Normal</td>\n",
       "      <td>223500</td>\n",
       "    </tr>\n",
       "    <tr>\n",
       "      <th>4</th>\n",
       "      <td>70</td>\n",
       "      <td>RL</td>\n",
       "      <td>60.0</td>\n",
       "      <td>9550</td>\n",
       "      <td>Pave</td>\n",
       "      <td>NaN</td>\n",
       "      <td>IR1</td>\n",
       "      <td>Lvl</td>\n",
       "      <td>AllPub</td>\n",
       "      <td>Corner</td>\n",
       "      <td>...</td>\n",
       "      <td>0</td>\n",
       "      <td>NaN</td>\n",
       "      <td>NaN</td>\n",
       "      <td>NaN</td>\n",
       "      <td>0</td>\n",
       "      <td>2</td>\n",
       "      <td>2006</td>\n",
       "      <td>WD</td>\n",
       "      <td>Abnorml</td>\n",
       "      <td>140000</td>\n",
       "    </tr>\n",
       "    <tr>\n",
       "      <th>5</th>\n",
       "      <td>60</td>\n",
       "      <td>RL</td>\n",
       "      <td>84.0</td>\n",
       "      <td>14260</td>\n",
       "      <td>Pave</td>\n",
       "      <td>NaN</td>\n",
       "      <td>IR1</td>\n",
       "      <td>Lvl</td>\n",
       "      <td>AllPub</td>\n",
       "      <td>FR2</td>\n",
       "      <td>...</td>\n",
       "      <td>0</td>\n",
       "      <td>NaN</td>\n",
       "      <td>NaN</td>\n",
       "      <td>NaN</td>\n",
       "      <td>0</td>\n",
       "      <td>12</td>\n",
       "      <td>2008</td>\n",
       "      <td>WD</td>\n",
       "      <td>Normal</td>\n",
       "      <td>250000</td>\n",
       "    </tr>\n",
       "  </tbody>\n",
       "</table>\n",
       "<p>5 rows × 80 columns</p>\n",
       "</div>"
      ],
      "text/plain": [
       "    MSSubClass MSZoning  LotFrontage  LotArea Street Alley LotShape  \\\n",
       "Id                                                                    \n",
       "1           60       RL         65.0     8450   Pave   NaN      Reg   \n",
       "2           20       RL         80.0     9600   Pave   NaN      Reg   \n",
       "3           60       RL         68.0    11250   Pave   NaN      IR1   \n",
       "4           70       RL         60.0     9550   Pave   NaN      IR1   \n",
       "5           60       RL         84.0    14260   Pave   NaN      IR1   \n",
       "\n",
       "   LandContour Utilities LotConfig  ... PoolArea PoolQC Fence MiscFeature  \\\n",
       "Id                                  ...                                     \n",
       "1          Lvl    AllPub    Inside  ...        0    NaN   NaN         NaN   \n",
       "2          Lvl    AllPub       FR2  ...        0    NaN   NaN         NaN   \n",
       "3          Lvl    AllPub    Inside  ...        0    NaN   NaN         NaN   \n",
       "4          Lvl    AllPub    Corner  ...        0    NaN   NaN         NaN   \n",
       "5          Lvl    AllPub       FR2  ...        0    NaN   NaN         NaN   \n",
       "\n",
       "   MiscVal MoSold  YrSold  SaleType  SaleCondition  SalePrice  \n",
       "Id                                                             \n",
       "1        0      2    2008        WD         Normal     208500  \n",
       "2        0      5    2007        WD         Normal     181500  \n",
       "3        0      9    2008        WD         Normal     223500  \n",
       "4        0      2    2006        WD        Abnorml     140000  \n",
       "5        0     12    2008        WD         Normal     250000  \n",
       "\n",
       "[5 rows x 80 columns]"
      ]
     },
     "execution_count": 4,
     "metadata": {},
     "output_type": "execute_result"
    }
   ],
   "source": [
    "df.head()"
   ]
  },
  {
   "cell_type": "code",
   "execution_count": 5,
   "id": "bcf2a329",
   "metadata": {
    "execution": {
     "iopub.execute_input": "2022-07-31T13:13:18.676966Z",
     "iopub.status.busy": "2022-07-31T13:13:18.676343Z",
     "iopub.status.idle": "2022-07-31T13:13:18.682443Z",
     "shell.execute_reply": "2022-07-31T13:13:18.681693Z"
    },
    "papermill": {
     "duration": 0.019787,
     "end_time": "2022-07-31T13:13:18.684313",
     "exception": false,
     "start_time": "2022-07-31T13:13:18.664526",
     "status": "completed"
    },
    "tags": []
   },
   "outputs": [
    {
     "data": {
      "text/plain": [
       "(1460, 80)"
      ]
     },
     "execution_count": 5,
     "metadata": {},
     "output_type": "execute_result"
    }
   ],
   "source": [
    "df.shape"
   ]
  },
  {
   "cell_type": "code",
   "execution_count": 6,
   "id": "e04f9891",
   "metadata": {
    "execution": {
     "iopub.execute_input": "2022-07-31T13:13:18.707278Z",
     "iopub.status.busy": "2022-07-31T13:13:18.706785Z",
     "iopub.status.idle": "2022-07-31T13:13:18.723386Z",
     "shell.execute_reply": "2022-07-31T13:13:18.722699Z"
    },
    "papermill": {
     "duration": 0.030196,
     "end_time": "2022-07-31T13:13:18.725300",
     "exception": false,
     "start_time": "2022-07-31T13:13:18.695104",
     "status": "completed"
    },
    "tags": []
   },
   "outputs": [
    {
     "data": {
      "text/plain": [
       "Neighborhood    25\n",
       "Exterior2nd     16\n",
       "Exterior1st     15\n",
       "SaleType         9\n",
       "Condition1       9\n",
       "dtype: int64"
      ]
     },
     "execution_count": 6,
     "metadata": {},
     "output_type": "execute_result"
    }
   ],
   "source": [
    "df.select_dtypes(include='object').nunique().sort_values(ascending=False).head()"
   ]
  },
  {
   "cell_type": "code",
   "execution_count": 7,
   "id": "9f926c4e",
   "metadata": {
    "execution": {
     "iopub.execute_input": "2022-07-31T13:13:18.750886Z",
     "iopub.status.busy": "2022-07-31T13:13:18.750341Z",
     "iopub.status.idle": "2022-07-31T13:13:18.764302Z",
     "shell.execute_reply": "2022-07-31T13:13:18.763409Z"
    },
    "papermill": {
     "duration": 0.028807,
     "end_time": "2022-07-31T13:13:18.766331",
     "exception": false,
     "start_time": "2022-07-31T13:13:18.737524",
     "status": "completed"
    },
    "tags": []
   },
   "outputs": [
    {
     "data": {
      "text/plain": [
       "LotArea        1073\n",
       "GrLivArea       861\n",
       "BsmtUnfSF       780\n",
       "1stFlrSF        753\n",
       "TotalBsmtSF     721\n",
       "dtype: int64"
      ]
     },
     "execution_count": 7,
     "metadata": {},
     "output_type": "execute_result"
    }
   ],
   "source": [
    "df.select_dtypes(exclude='object').nunique().sort_values(ascending=False).head()"
   ]
  },
  {
   "cell_type": "code",
   "execution_count": 8,
   "id": "e8a6eb92",
   "metadata": {
    "execution": {
     "iopub.execute_input": "2022-07-31T13:13:18.791307Z",
     "iopub.status.busy": "2022-07-31T13:13:18.791010Z",
     "iopub.status.idle": "2022-07-31T13:13:18.803696Z",
     "shell.execute_reply": "2022-07-31T13:13:18.802817Z"
    },
    "papermill": {
     "duration": 0.027209,
     "end_time": "2022-07-31T13:13:18.805650",
     "exception": false,
     "start_time": "2022-07-31T13:13:18.778441",
     "status": "completed"
    },
    "tags": []
   },
   "outputs": [
    {
     "data": {
      "text/plain": [
       "MSSubClass     1460\n",
       "MSZoning       1460\n",
       "GarageYrBlt    1460\n",
       "GarageType     1460\n",
       "FireplaceQu    1460\n",
       "               ... \n",
       "MasVnrArea     1460\n",
       "MasVnrType     1460\n",
       "Exterior2nd    1460\n",
       "Exterior1st    1460\n",
       "SalePrice      1460\n",
       "Length: 80, dtype: int64"
      ]
     },
     "execution_count": 8,
     "metadata": {},
     "output_type": "execute_result"
    }
   ],
   "source": [
    "df.isna().count().sort_values(ascending=False)"
   ]
  },
  {
   "cell_type": "code",
   "execution_count": 9,
   "id": "deb6bed1",
   "metadata": {
    "execution": {
     "iopub.execute_input": "2022-07-31T13:13:18.829315Z",
     "iopub.status.busy": "2022-07-31T13:13:18.828525Z",
     "iopub.status.idle": "2022-07-31T13:13:18.848759Z",
     "shell.execute_reply": "2022-07-31T13:13:18.848099Z"
    },
    "papermill": {
     "duration": 0.034361,
     "end_time": "2022-07-31T13:13:18.851102",
     "exception": false,
     "start_time": "2022-07-31T13:13:18.816741",
     "status": "completed"
    },
    "tags": []
   },
   "outputs": [
    {
     "name": "stdout",
     "output_type": "stream",
     "text": [
      "<class 'pandas.core.frame.DataFrame'>\n",
      "Int64Index: 1460 entries, 1 to 1460\n",
      "Data columns (total 80 columns):\n",
      " #   Column         Non-Null Count  Dtype  \n",
      "---  ------         --------------  -----  \n",
      " 0   MSSubClass     1460 non-null   int64  \n",
      " 1   MSZoning       1460 non-null   object \n",
      " 2   LotFrontage    1201 non-null   float64\n",
      " 3   LotArea        1460 non-null   int64  \n",
      " 4   Street         1460 non-null   object \n",
      " 5   Alley          91 non-null     object \n",
      " 6   LotShape       1460 non-null   object \n",
      " 7   LandContour    1460 non-null   object \n",
      " 8   Utilities      1460 non-null   object \n",
      " 9   LotConfig      1460 non-null   object \n",
      " 10  LandSlope      1460 non-null   object \n",
      " 11  Neighborhood   1460 non-null   object \n",
      " 12  Condition1     1460 non-null   object \n",
      " 13  Condition2     1460 non-null   object \n",
      " 14  BldgType       1460 non-null   object \n",
      " 15  HouseStyle     1460 non-null   object \n",
      " 16  OverallQual    1460 non-null   int64  \n",
      " 17  OverallCond    1460 non-null   int64  \n",
      " 18  YearBuilt      1460 non-null   int64  \n",
      " 19  YearRemodAdd   1460 non-null   int64  \n",
      " 20  RoofStyle      1460 non-null   object \n",
      " 21  RoofMatl       1460 non-null   object \n",
      " 22  Exterior1st    1460 non-null   object \n",
      " 23  Exterior2nd    1460 non-null   object \n",
      " 24  MasVnrType     1452 non-null   object \n",
      " 25  MasVnrArea     1452 non-null   float64\n",
      " 26  ExterQual      1460 non-null   object \n",
      " 27  ExterCond      1460 non-null   object \n",
      " 28  Foundation     1460 non-null   object \n",
      " 29  BsmtQual       1423 non-null   object \n",
      " 30  BsmtCond       1423 non-null   object \n",
      " 31  BsmtExposure   1422 non-null   object \n",
      " 32  BsmtFinType1   1423 non-null   object \n",
      " 33  BsmtFinSF1     1460 non-null   int64  \n",
      " 34  BsmtFinType2   1422 non-null   object \n",
      " 35  BsmtFinSF2     1460 non-null   int64  \n",
      " 36  BsmtUnfSF      1460 non-null   int64  \n",
      " 37  TotalBsmtSF    1460 non-null   int64  \n",
      " 38  Heating        1460 non-null   object \n",
      " 39  HeatingQC      1460 non-null   object \n",
      " 40  CentralAir     1460 non-null   object \n",
      " 41  Electrical     1459 non-null   object \n",
      " 42  1stFlrSF       1460 non-null   int64  \n",
      " 43  2ndFlrSF       1460 non-null   int64  \n",
      " 44  LowQualFinSF   1460 non-null   int64  \n",
      " 45  GrLivArea      1460 non-null   int64  \n",
      " 46  BsmtFullBath   1460 non-null   int64  \n",
      " 47  BsmtHalfBath   1460 non-null   int64  \n",
      " 48  FullBath       1460 non-null   int64  \n",
      " 49  HalfBath       1460 non-null   int64  \n",
      " 50  BedroomAbvGr   1460 non-null   int64  \n",
      " 51  KitchenAbvGr   1460 non-null   int64  \n",
      " 52  KitchenQual    1460 non-null   object \n",
      " 53  TotRmsAbvGrd   1460 non-null   int64  \n",
      " 54  Functional     1460 non-null   object \n",
      " 55  Fireplaces     1460 non-null   int64  \n",
      " 56  FireplaceQu    770 non-null    object \n",
      " 57  GarageType     1379 non-null   object \n",
      " 58  GarageYrBlt    1379 non-null   float64\n",
      " 59  GarageFinish   1379 non-null   object \n",
      " 60  GarageCars     1460 non-null   int64  \n",
      " 61  GarageArea     1460 non-null   int64  \n",
      " 62  GarageQual     1379 non-null   object \n",
      " 63  GarageCond     1379 non-null   object \n",
      " 64  PavedDrive     1460 non-null   object \n",
      " 65  WoodDeckSF     1460 non-null   int64  \n",
      " 66  OpenPorchSF    1460 non-null   int64  \n",
      " 67  EnclosedPorch  1460 non-null   int64  \n",
      " 68  3SsnPorch      1460 non-null   int64  \n",
      " 69  ScreenPorch    1460 non-null   int64  \n",
      " 70  PoolArea       1460 non-null   int64  \n",
      " 71  PoolQC         7 non-null      object \n",
      " 72  Fence          281 non-null    object \n",
      " 73  MiscFeature    54 non-null     object \n",
      " 74  MiscVal        1460 non-null   int64  \n",
      " 75  MoSold         1460 non-null   int64  \n",
      " 76  YrSold         1460 non-null   int64  \n",
      " 77  SaleType       1460 non-null   object \n",
      " 78  SaleCondition  1460 non-null   object \n",
      " 79  SalePrice      1460 non-null   int64  \n",
      "dtypes: float64(3), int64(34), object(43)\n",
      "memory usage: 923.9+ KB\n"
     ]
    }
   ],
   "source": [
    "df.info()"
   ]
  },
  {
   "cell_type": "markdown",
   "id": "f3bde965",
   "metadata": {
    "papermill": {
     "duration": 0.011008,
     "end_time": "2022-07-31T13:13:18.873442",
     "exception": false,
     "start_time": "2022-07-31T13:13:18.862434",
     "status": "completed"
    },
    "tags": []
   },
   "source": [
    "Comparing these to `data_description.txt` shows us what needs cleaning. We'll take care of a couple of issues here, but you might want to evaluate this data further."
   ]
  },
  {
   "cell_type": "code",
   "execution_count": 10,
   "id": "333dd41e",
   "metadata": {
    "execution": {
     "iopub.execute_input": "2022-07-31T13:13:18.898344Z",
     "iopub.status.busy": "2022-07-31T13:13:18.897564Z",
     "iopub.status.idle": "2022-07-31T13:13:18.904047Z",
     "shell.execute_reply": "2022-07-31T13:13:18.903296Z"
    },
    "papermill": {
     "duration": 0.021144,
     "end_time": "2022-07-31T13:13:18.906031",
     "exception": false,
     "start_time": "2022-07-31T13:13:18.884887",
     "status": "completed"
    },
    "tags": []
   },
   "outputs": [],
   "source": [
    "def clean(df):\n",
    "    df[\"Exterior2nd\"] = df[\"Exterior2nd\"].replace({\"Brk Cmn\": \"BrkComm\"})\n",
    "    # Some values of GarageYrBlt are corrupt, so we'll replace them\n",
    "    # with the year the house was built\n",
    "    df[\"GarageYrBlt\"] = df[\"GarageYrBlt\"].where(df.GarageYrBlt <= 2010, df.YearBuilt)\n",
    "    # Names beginning with numbers are awkward to work with\n",
    "    df.rename(columns={\n",
    "        \"1stFlrSF\": \"FirstFlrSF\",\n",
    "        \"2ndFlrSF\": \"SecondFlrSF\",\n",
    "        \"3SsnPorch\": \"Threeseasonporch\",\n",
    "    }, inplace=True,\n",
    "    )\n",
    "    return df\n"
   ]
  },
  {
   "cell_type": "markdown",
   "id": "e96f6d91",
   "metadata": {
    "papermill": {
     "duration": 0.010963,
     "end_time": "2022-07-31T13:13:18.931949",
     "exception": false,
     "start_time": "2022-07-31T13:13:18.920986",
     "status": "completed"
    },
    "tags": []
   },
   "source": [
    "### Encode the Statistical Data Type ###\n",
    "\n",
    "Pandas has Python types corresponding to the standard statistical types (numeric, categorical, etc.). Encoding each feature with its correct type helps ensure each feature is treated appropriately by whatever functions we use, and makes it easier for us to apply transformations consistently. This hidden cell defines the `encode` function:"
   ]
  },
  {
   "cell_type": "code",
   "execution_count": 11,
   "id": "ab94ac1f",
   "metadata": {
    "_kg_hide-input": true,
    "execution": {
     "iopub.execute_input": "2022-07-31T13:13:18.957116Z",
     "iopub.status.busy": "2022-07-31T13:13:18.956419Z",
     "iopub.status.idle": "2022-07-31T13:13:18.970121Z",
     "shell.execute_reply": "2022-07-31T13:13:18.969340Z"
    },
    "papermill": {
     "duration": 0.028971,
     "end_time": "2022-07-31T13:13:18.972280",
     "exception": false,
     "start_time": "2022-07-31T13:13:18.943309",
     "status": "completed"
    },
    "tags": []
   },
   "outputs": [],
   "source": [
    "\n",
    "# The numeric features are already encoded correctly (`float` for\n",
    "# continuous, `int` for discrete), but the categoricals we'll need to\n",
    "# do ourselves. Note in particular, that the `MSSubClass` feature is\n",
    "# read as an `int` type, but is actually a (nominative) categorical.\n",
    "\n",
    "# The nominative (unordered) categorical features\n",
    "features_nom = [\"MSSubClass\", \"MSZoning\", \"Street\", \"Alley\", \"LandContour\", \"LotConfig\", \n",
    "                \"Neighborhood\", \"Condition1\", \"Condition2\", \"BldgType\", \"HouseStyle\", \"RoofStyle\", \n",
    "                \"RoofMatl\", \"Exterior1st\", \"Exterior2nd\", \"MasVnrType\", \"Foundation\", \"Heating\", \n",
    "                \"CentralAir\", \"GarageType\", \"MiscFeature\", \"SaleType\", \"SaleCondition\"]\n",
    "\n",
    "\n",
    "# The ordinal (ordered) categorical features \n",
    "\n",
    "# Pandas calls the categories \"levels\"\n",
    "five_levels = [\"Po\", \"Fa\", \"TA\", \"Gd\", \"Ex\"]\n",
    "ten_levels = list(range(10))\n",
    "\n",
    "ordered_levels = {\n",
    "    \"OverallQual\": ten_levels,\n",
    "    \"OverallCond\": ten_levels,\n",
    "    \"ExterQual\": five_levels,\n",
    "    \"ExterCond\": five_levels,\n",
    "    \"BsmtQual\": five_levels,\n",
    "    \"BsmtCond\": five_levels,\n",
    "    \"HeatingQC\": five_levels,\n",
    "    \"KitchenQual\": five_levels,\n",
    "    \"FireplaceQu\": five_levels,\n",
    "    \"GarageQual\": five_levels,\n",
    "    \"GarageCond\": five_levels,\n",
    "    \"PoolQC\": five_levels,\n",
    "    \"LotShape\": [\"Reg\", \"IR1\", \"IR2\", \"IR3\"],\n",
    "    \"LandSlope\": [\"Sev\", \"Mod\", \"Gtl\"],\n",
    "    \"BsmtExposure\": [\"No\", \"Mn\", \"Av\", \"Gd\"],\n",
    "    \"BsmtFinType1\": [\"Unf\", \"LwQ\", \"Rec\", \"BLQ\", \"ALQ\", \"GLQ\"],\n",
    "    \"BsmtFinType2\": [\"Unf\", \"LwQ\", \"Rec\", \"BLQ\", \"ALQ\", \"GLQ\"],\n",
    "    \"Functional\": [\"Sal\", \"Sev\", \"Maj1\", \"Maj2\", \"Mod\", \"Min2\", \"Min1\", \"Typ\"],\n",
    "    \"GarageFinish\": [\"Unf\", \"RFn\", \"Fin\"],\n",
    "    \"PavedDrive\": [\"N\", \"P\", \"Y\"],\n",
    "    \"Utilities\": [\"NoSeWa\", \"NoSewr\", \"AllPub\"],\n",
    "    \"CentralAir\": [\"N\", \"Y\"],\n",
    "    \"Electrical\": [\"Mix\", \"FuseP\", \"FuseF\", \"FuseA\", \"SBrkr\"],\n",
    "    \"Fence\": [\"MnWw\", \"GdWo\", \"MnPrv\", \"GdPrv\"],\n",
    "}\n",
    "\n",
    "# Add a None level for missing values\n",
    "ordered_levels = {key: [\"None\"] + value for key, value in\n",
    "                  ordered_levels.items()}\n",
    "\n",
    "\n",
    "def encode(df):\n",
    "    # Nominal categories\n",
    "    for name in features_nom:\n",
    "        df[name] = df[name].astype(\"category\")\n",
    "        # Add a None category for missing values\n",
    "        if \"None\" not in df[name].cat.categories:\n",
    "            df[name].cat.add_categories(\"None\", inplace=True)\n",
    "    # Ordinal categories\n",
    "    for name, levels in ordered_levels.items():\n",
    "        df[name] = df[name].astype(CategoricalDtype(levels,\n",
    "                                                    ordered=True))\n",
    "    return df\n"
   ]
  },
  {
   "cell_type": "markdown",
   "id": "b76a9b70",
   "metadata": {
    "papermill": {
     "duration": 0.011902,
     "end_time": "2022-07-31T13:13:18.999403",
     "exception": false,
     "start_time": "2022-07-31T13:13:18.987501",
     "status": "completed"
    },
    "tags": []
   },
   "source": [
    "### Handle Missing Values ###\n",
    "\n",
    "Handling missing values now will make the feature engineering go more smoothly. We'll impute `0` for missing numeric values and `\"None\"` for missing categorical values. You might like to experiment with other imputation strategies. In particular, you could try creating \"missing value\" indicators: `1` whenever a value was imputed and `0` otherwise."
   ]
  },
  {
   "cell_type": "code",
   "execution_count": 12,
   "id": "dc2bcecc",
   "metadata": {
    "execution": {
     "iopub.execute_input": "2022-07-31T13:13:19.025065Z",
     "iopub.status.busy": "2022-07-31T13:13:19.024748Z",
     "iopub.status.idle": "2022-07-31T13:13:19.031398Z",
     "shell.execute_reply": "2022-07-31T13:13:19.030218Z"
    },
    "papermill": {
     "duration": 0.02164,
     "end_time": "2022-07-31T13:13:19.033394",
     "exception": false,
     "start_time": "2022-07-31T13:13:19.011754",
     "status": "completed"
    },
    "tags": []
   },
   "outputs": [
    {
     "data": {
      "text/plain": [
       "array(['TA', 'Gd', 'Fa', 'Po', 'Ex'], dtype=object)"
      ]
     },
     "execution_count": 12,
     "metadata": {},
     "output_type": "execute_result"
    }
   ],
   "source": [
    "df.ExterCond.unique()"
   ]
  },
  {
   "cell_type": "code",
   "execution_count": 13,
   "id": "81272cd2",
   "metadata": {
    "execution": {
     "iopub.execute_input": "2022-07-31T13:13:19.059012Z",
     "iopub.status.busy": "2022-07-31T13:13:19.058681Z",
     "iopub.status.idle": "2022-07-31T13:13:19.063747Z",
     "shell.execute_reply": "2022-07-31T13:13:19.062897Z"
    },
    "papermill": {
     "duration": 0.019826,
     "end_time": "2022-07-31T13:13:19.065560",
     "exception": false,
     "start_time": "2022-07-31T13:13:19.045734",
     "status": "completed"
    },
    "tags": []
   },
   "outputs": [],
   "source": [
    "def impute(df):\n",
    "    for name in df.select_dtypes(\"number\"):\n",
    "        df[name] = df[name].fillna(0)\n",
    "    for name in df.select_dtypes(\"category\"):\n",
    "        df[name] = df[name].fillna(\"None\")\n",
    "    return df\n"
   ]
  },
  {
   "cell_type": "markdown",
   "id": "86fc1799",
   "metadata": {
    "papermill": {
     "duration": 0.012332,
     "end_time": "2022-07-31T13:13:19.090002",
     "exception": false,
     "start_time": "2022-07-31T13:13:19.077670",
     "status": "completed"
    },
    "tags": []
   },
   "source": [
    "## Load Data ##\n",
    "\n",
    "And now we can call the data loader and get the processed data splits:"
   ]
  },
  {
   "cell_type": "code",
   "execution_count": 14,
   "id": "442512d6",
   "metadata": {
    "execution": {
     "iopub.execute_input": "2022-07-31T13:13:19.115058Z",
     "iopub.status.busy": "2022-07-31T13:13:19.114111Z",
     "iopub.status.idle": "2022-07-31T13:13:19.287558Z",
     "shell.execute_reply": "2022-07-31T13:13:19.286331Z"
    },
    "papermill": {
     "duration": 0.188485,
     "end_time": "2022-07-31T13:13:19.290004",
     "exception": false,
     "start_time": "2022-07-31T13:13:19.101519",
     "status": "completed"
    },
    "tags": []
   },
   "outputs": [],
   "source": [
    "df_train, df_test = load_data()"
   ]
  },
  {
   "cell_type": "markdown",
   "id": "967a7dd1",
   "metadata": {
    "papermill": {
     "duration": 0.011232,
     "end_time": "2022-07-31T13:13:19.313082",
     "exception": false,
     "start_time": "2022-07-31T13:13:19.301850",
     "status": "completed"
    },
    "tags": []
   },
   "source": [
    "Uncomment and run this cell if you'd like to see what they contain. Notice that `df_test` is\n",
    "missing values for `SalePrice`. (`NA`s were willed with 0's in the imputation step.)"
   ]
  },
  {
   "cell_type": "code",
   "execution_count": 15,
   "id": "264f5ec3",
   "metadata": {
    "execution": {
     "iopub.execute_input": "2022-07-31T13:13:19.337802Z",
     "iopub.status.busy": "2022-07-31T13:13:19.337396Z",
     "iopub.status.idle": "2022-07-31T13:13:19.365821Z",
     "shell.execute_reply": "2022-07-31T13:13:19.364671Z"
    },
    "papermill": {
     "duration": 0.044282,
     "end_time": "2022-07-31T13:13:19.368804",
     "exception": false,
     "start_time": "2022-07-31T13:13:19.324522",
     "status": "completed"
    },
    "tags": []
   },
   "outputs": [
    {
     "name": "stdout",
     "output_type": "stream",
     "text": [
      "<class 'pandas.core.frame.DataFrame'>\n",
      "Int64Index: 1460 entries, 1 to 1460\n",
      "Data columns (total 80 columns):\n",
      " #   Column            Non-Null Count  Dtype   \n",
      "---  ------            --------------  -----   \n",
      " 0   MSSubClass        1460 non-null   category\n",
      " 1   MSZoning          1460 non-null   category\n",
      " 2   LotFrontage       1460 non-null   float64 \n",
      " 3   LotArea           1460 non-null   int64   \n",
      " 4   Street            1460 non-null   category\n",
      " 5   Alley             1460 non-null   category\n",
      " 6   LotShape          1460 non-null   category\n",
      " 7   LandContour       1460 non-null   category\n",
      " 8   Utilities         1460 non-null   category\n",
      " 9   LotConfig         1460 non-null   category\n",
      " 10  LandSlope         1460 non-null   category\n",
      " 11  Neighborhood      1460 non-null   category\n",
      " 12  Condition1        1460 non-null   category\n",
      " 13  Condition2        1460 non-null   category\n",
      " 14  BldgType          1460 non-null   category\n",
      " 15  HouseStyle        1460 non-null   category\n",
      " 16  OverallQual       1460 non-null   category\n",
      " 17  OverallCond       1460 non-null   category\n",
      " 18  YearBuilt         1460 non-null   int64   \n",
      " 19  YearRemodAdd      1460 non-null   int64   \n",
      " 20  RoofStyle         1460 non-null   category\n",
      " 21  RoofMatl          1460 non-null   category\n",
      " 22  Exterior1st       1460 non-null   category\n",
      " 23  Exterior2nd       1460 non-null   category\n",
      " 24  MasVnrType        1460 non-null   category\n",
      " 25  MasVnrArea        1460 non-null   float64 \n",
      " 26  ExterQual         1460 non-null   category\n",
      " 27  ExterCond         1460 non-null   category\n",
      " 28  Foundation        1460 non-null   category\n",
      " 29  BsmtQual          1460 non-null   category\n",
      " 30  BsmtCond          1460 non-null   category\n",
      " 31  BsmtExposure      1460 non-null   category\n",
      " 32  BsmtFinType1      1460 non-null   category\n",
      " 33  BsmtFinSF1        1460 non-null   float64 \n",
      " 34  BsmtFinType2      1460 non-null   category\n",
      " 35  BsmtFinSF2        1460 non-null   float64 \n",
      " 36  BsmtUnfSF         1460 non-null   float64 \n",
      " 37  TotalBsmtSF       1460 non-null   float64 \n",
      " 38  Heating           1460 non-null   category\n",
      " 39  HeatingQC         1460 non-null   category\n",
      " 40  CentralAir        1460 non-null   category\n",
      " 41  Electrical        1460 non-null   category\n",
      " 42  FirstFlrSF        1460 non-null   int64   \n",
      " 43  SecondFlrSF       1460 non-null   int64   \n",
      " 44  LowQualFinSF      1460 non-null   int64   \n",
      " 45  GrLivArea         1460 non-null   int64   \n",
      " 46  BsmtFullBath      1460 non-null   float64 \n",
      " 47  BsmtHalfBath      1460 non-null   float64 \n",
      " 48  FullBath          1460 non-null   int64   \n",
      " 49  HalfBath          1460 non-null   int64   \n",
      " 50  BedroomAbvGr      1460 non-null   int64   \n",
      " 51  KitchenAbvGr      1460 non-null   int64   \n",
      " 52  KitchenQual       1460 non-null   category\n",
      " 53  TotRmsAbvGrd      1460 non-null   int64   \n",
      " 54  Functional        1460 non-null   category\n",
      " 55  Fireplaces        1460 non-null   int64   \n",
      " 56  FireplaceQu       1460 non-null   category\n",
      " 57  GarageType        1460 non-null   category\n",
      " 58  GarageYrBlt       1460 non-null   float64 \n",
      " 59  GarageFinish      1460 non-null   category\n",
      " 60  GarageCars        1460 non-null   float64 \n",
      " 61  GarageArea        1460 non-null   float64 \n",
      " 62  GarageQual        1460 non-null   category\n",
      " 63  GarageCond        1460 non-null   category\n",
      " 64  PavedDrive        1460 non-null   category\n",
      " 65  WoodDeckSF        1460 non-null   int64   \n",
      " 66  OpenPorchSF       1460 non-null   int64   \n",
      " 67  EnclosedPorch     1460 non-null   int64   \n",
      " 68  Threeseasonporch  1460 non-null   int64   \n",
      " 69  ScreenPorch       1460 non-null   int64   \n",
      " 70  PoolArea          1460 non-null   int64   \n",
      " 71  PoolQC            1460 non-null   category\n",
      " 72  Fence             1460 non-null   category\n",
      " 73  MiscFeature       1460 non-null   category\n",
      " 74  MiscVal           1460 non-null   int64   \n",
      " 75  MoSold            1460 non-null   int64   \n",
      " 76  YrSold            1460 non-null   int64   \n",
      " 77  SaleType          1460 non-null   category\n",
      " 78  SaleCondition     1460 non-null   category\n",
      " 79  SalePrice         1460 non-null   float64 \n",
      "dtypes: category(46), float64(12), int64(22)\n",
      "memory usage: 478.9 KB\n"
     ]
    },
    {
     "data": {
      "text/plain": [
       "None"
      ]
     },
     "metadata": {},
     "output_type": "display_data"
    }
   ],
   "source": [
    "# Peek at the values\n",
    "#display(df_train)\n",
    "#display(df_test)\n",
    "\n",
    "# Display information about dtypes and missing values\n",
    "display(df_train.info())\n",
    "#display(df_test.info())"
   ]
  },
  {
   "cell_type": "markdown",
   "id": "79912ae5",
   "metadata": {
    "papermill": {
     "duration": 0.012164,
     "end_time": "2022-07-31T13:13:19.393830",
     "exception": false,
     "start_time": "2022-07-31T13:13:19.381666",
     "status": "completed"
    },
    "tags": []
   },
   "source": [
    "## Establish Baseline ##\n",
    "\n",
    "Finally, let's establish a baseline score to judge our feature engineering against.\n",
    "\n",
    "Here is the function we created in Lesson 1 that will compute the cross-validated RMSLE score for a feature set. We've used XGBoost for our model, but you might want to experiment with other models.\n"
   ]
  },
  {
   "cell_type": "code",
   "execution_count": 16,
   "id": "78776253",
   "metadata": {
    "_kg_hide-input": true,
    "execution": {
     "iopub.execute_input": "2022-07-31T13:13:19.419784Z",
     "iopub.status.busy": "2022-07-31T13:13:19.419123Z",
     "iopub.status.idle": "2022-07-31T13:13:19.425556Z",
     "shell.execute_reply": "2022-07-31T13:13:19.424644Z"
    },
    "papermill": {
     "duration": 0.021366,
     "end_time": "2022-07-31T13:13:19.427698",
     "exception": false,
     "start_time": "2022-07-31T13:13:19.406332",
     "status": "completed"
    },
    "tags": []
   },
   "outputs": [],
   "source": [
    "\n",
    "def score_dataset(X, y, model=XGBRegressor()):\n",
    "    # Label encoding for categoricals\n",
    "    #\n",
    "    # Label encoding is good for XGBoost and RandomForest, but one-hot\n",
    "    # would be better for models like Lasso or Ridge. The `cat.codes`\n",
    "    # attribute holds the category levels.\n",
    "    for colname in X.select_dtypes([\"category\"]):\n",
    "        X[colname] = X[colname].cat.codes\n",
    "    # Metric for Housing competition is RMSLE (Root Mean Squared Log Error)\n",
    "    log_y = np.log(y)\n",
    "    score = cross_val_score(\n",
    "        model, X, log_y, cv=5, scoring=\"neg_mean_squared_error\",\n",
    "    )\n",
    "    score = -1 * score.mean()\n",
    "    score = np.sqrt(score)\n",
    "    return score\n"
   ]
  },
  {
   "cell_type": "markdown",
   "id": "a9e268c6",
   "metadata": {
    "papermill": {
     "duration": 0.012472,
     "end_time": "2022-07-31T13:13:19.452829",
     "exception": false,
     "start_time": "2022-07-31T13:13:19.440357",
     "status": "completed"
    },
    "tags": []
   },
   "source": [
    "We can reuse this scoring function anytime we want to try out a new feature set. We'll run it now on the processed data with no additional features and get a baseline score:"
   ]
  },
  {
   "cell_type": "code",
   "execution_count": 17,
   "id": "e461fcff",
   "metadata": {
    "execution": {
     "iopub.execute_input": "2022-07-31T13:13:19.480088Z",
     "iopub.status.busy": "2022-07-31T13:13:19.479690Z",
     "iopub.status.idle": "2022-07-31T13:13:22.357482Z",
     "shell.execute_reply": "2022-07-31T13:13:22.356629Z"
    },
    "papermill": {
     "duration": 2.894194,
     "end_time": "2022-07-31T13:13:22.359815",
     "exception": false,
     "start_time": "2022-07-31T13:13:19.465621",
     "status": "completed"
    },
    "tags": []
   },
   "outputs": [
    {
     "name": "stdout",
     "output_type": "stream",
     "text": [
      "Baseline score: 0.14351 RMSLE\n"
     ]
    }
   ],
   "source": [
    "X = df_train.copy()\n",
    "y = X.pop(\"SalePrice\")\n",
    "\n",
    "baseline_score = score_dataset(X, y)\n",
    "print(f\"Baseline score: {baseline_score:.5f} RMSLE\")"
   ]
  },
  {
   "cell_type": "code",
   "execution_count": 18,
   "id": "9b56e0b0",
   "metadata": {
    "execution": {
     "iopub.execute_input": "2022-07-31T13:13:22.397796Z",
     "iopub.status.busy": "2022-07-31T13:13:22.396689Z",
     "iopub.status.idle": "2022-07-31T13:13:30.598309Z",
     "shell.execute_reply": "2022-07-31T13:13:30.597195Z"
    },
    "papermill": {
     "duration": 8.227739,
     "end_time": "2022-07-31T13:13:30.600459",
     "exception": false,
     "start_time": "2022-07-31T13:13:22.372720",
     "status": "completed"
    },
    "tags": []
   },
   "outputs": [
    {
     "name": "stdout",
     "output_type": "stream",
     "text": [
      "Baseline score2: 0.13997 RMSLE\n"
     ]
    }
   ],
   "source": [
    "from sklearn.ensemble import RandomForestRegressor\n",
    "regr = RandomForestRegressor(max_depth=None, random_state=0)\n",
    "baseline_score2 = score_dataset(X, y, regr)\n",
    "print(f\"Baseline score2: {baseline_score2:.5f} RMSLE\")\n",
    "\n",
    "# We made also de base line in RandomForestRegressor. \n",
    "# In the overfitted case (max_depth=None) score overperforme the XGBRegressor"
   ]
  },
  {
   "cell_type": "markdown",
   "id": "52bf8950",
   "metadata": {
    "papermill": {
     "duration": 0.011408,
     "end_time": "2022-07-31T13:13:30.623732",
     "exception": false,
     "start_time": "2022-07-31T13:13:30.612324",
     "status": "completed"
    },
    "tags": []
   },
   "source": [
    "This baseline score helps us to know whether some set of features we've assembled has actually led to any improvement or not.\n",
    "\n",
    "# Step 2 - Feature Utility Scores #\n",
    "\n",
    "In Lesson 2 we saw how to use mutual information to compute a *utility score* for a feature, giving you an indication of how much potential the feature has. This hidden cell defines the two utility functions we used, `make_mi_scores` and `plot_mi_scores`: "
   ]
  },
  {
   "cell_type": "code",
   "execution_count": 19,
   "id": "e45840f5",
   "metadata": {
    "_kg_hide-input": true,
    "execution": {
     "iopub.execute_input": "2022-07-31T13:13:30.648260Z",
     "iopub.status.busy": "2022-07-31T13:13:30.647926Z",
     "iopub.status.idle": "2022-07-31T13:13:30.654784Z",
     "shell.execute_reply": "2022-07-31T13:13:30.653949Z"
    },
    "papermill": {
     "duration": 0.021168,
     "end_time": "2022-07-31T13:13:30.656492",
     "exception": false,
     "start_time": "2022-07-31T13:13:30.635324",
     "status": "completed"
    },
    "tags": []
   },
   "outputs": [],
   "source": [
    "\n",
    "def make_mi_scores(X, y):\n",
    "    X = X.copy()\n",
    "    for colname in X.select_dtypes([\"object\", \"category\"]):\n",
    "        X[colname], _ = X[colname].factorize()\n",
    "    # All discrete features should now have integer dtypes\n",
    "    discrete_features = [pd.api.types.is_integer_dtype(t) for t in X.dtypes]\n",
    "    mi_scores = mutual_info_regression(X, y, discrete_features=discrete_features, random_state=0)\n",
    "    mi_scores = pd.Series(mi_scores, name=\"MI Scores\", index=X.columns)\n",
    "    mi_scores = mi_scores.sort_values(ascending=False)\n",
    "    return mi_scores\n",
    "\n",
    "\n",
    "def plot_mi_scores(scores):\n",
    "    scores = scores.sort_values(ascending=True)\n",
    "    width = np.arange(len(scores))\n",
    "    ticks = list(scores.index)\n",
    "    plt.barh(width, scores)\n",
    "    plt.yticks(width, ticks)\n",
    "    plt.title(\"Mutual Information Scores\")"
   ]
  },
  {
   "cell_type": "markdown",
   "id": "cd39d8ec",
   "metadata": {
    "papermill": {
     "duration": 0.012385,
     "end_time": "2022-07-31T13:13:30.684834",
     "exception": false,
     "start_time": "2022-07-31T13:13:30.672449",
     "status": "completed"
    },
    "tags": []
   },
   "source": [
    "Let's look at our feature scores again:"
   ]
  },
  {
   "cell_type": "code",
   "execution_count": 20,
   "id": "929698b5",
   "metadata": {
    "execution": {
     "iopub.execute_input": "2022-07-31T13:13:30.718211Z",
     "iopub.status.busy": "2022-07-31T13:13:30.717617Z",
     "iopub.status.idle": "2022-07-31T13:13:32.158843Z",
     "shell.execute_reply": "2022-07-31T13:13:32.157800Z"
    },
    "papermill": {
     "duration": 1.461332,
     "end_time": "2022-07-31T13:13:32.161116",
     "exception": false,
     "start_time": "2022-07-31T13:13:30.699784",
     "status": "completed"
    },
    "tags": []
   },
   "outputs": [
    {
     "data": {
      "text/plain": [
       "OverallQual     0.571457\n",
       "Neighborhood    0.526220\n",
       "GrLivArea       0.430395\n",
       "YearBuilt       0.407974\n",
       "LotArea         0.394468\n",
       "                  ...   \n",
       "PoolQC          0.000000\n",
       "MiscFeature     0.000000\n",
       "MiscVal         0.000000\n",
       "MoSold          0.000000\n",
       "YrSold          0.000000\n",
       "Name: MI Scores, Length: 79, dtype: float64"
      ]
     },
     "execution_count": 20,
     "metadata": {},
     "output_type": "execute_result"
    }
   ],
   "source": [
    "X = df_train.copy()\n",
    "y = X.pop(\"SalePrice\")\n",
    "\n",
    "mi_scores = make_mi_scores(X, y)\n",
    "mi_scores"
   ]
  },
  {
   "cell_type": "markdown",
   "id": "1620a831",
   "metadata": {
    "papermill": {
     "duration": 0.011798,
     "end_time": "2022-07-31T13:13:32.184824",
     "exception": false,
     "start_time": "2022-07-31T13:13:32.173026",
     "status": "completed"
    },
    "tags": []
   },
   "source": [
    "You can see that we have a number of features that are highly informative and also some that don't seem to be informative at all (at least by themselves). As we talked about in Tutorial 2, the top scoring features will usually pay-off the most during feature development, so it could be a good idea to focus your efforts on those. On the other hand, training on uninformative features can lead to overfitting. So, the features with 0.0 scores we'll drop entirely:"
   ]
  },
  {
   "cell_type": "code",
   "execution_count": 21,
   "id": "2a68021f",
   "metadata": {
    "execution": {
     "iopub.execute_input": "2022-07-31T13:13:32.210660Z",
     "iopub.status.busy": "2022-07-31T13:13:32.209753Z",
     "iopub.status.idle": "2022-07-31T13:13:32.214546Z",
     "shell.execute_reply": "2022-07-31T13:13:32.213876Z"
    },
    "papermill": {
     "duration": 0.01965,
     "end_time": "2022-07-31T13:13:32.216388",
     "exception": false,
     "start_time": "2022-07-31T13:13:32.196738",
     "status": "completed"
    },
    "tags": []
   },
   "outputs": [],
   "source": [
    "def drop_uninformative(df, mi_scores):\n",
    "    return df.loc[:, mi_scores > 0.0]\n"
   ]
  },
  {
   "cell_type": "markdown",
   "id": "e73f0db4",
   "metadata": {
    "papermill": {
     "duration": 0.01165,
     "end_time": "2022-07-31T13:13:32.239596",
     "exception": false,
     "start_time": "2022-07-31T13:13:32.227946",
     "status": "completed"
    },
    "tags": []
   },
   "source": [
    "Removing them does lead to a modest performance gain:"
   ]
  },
  {
   "cell_type": "code",
   "execution_count": 22,
   "id": "739639cf",
   "metadata": {
    "execution": {
     "iopub.execute_input": "2022-07-31T13:13:32.264934Z",
     "iopub.status.busy": "2022-07-31T13:13:32.264262Z",
     "iopub.status.idle": "2022-07-31T13:13:34.959526Z",
     "shell.execute_reply": "2022-07-31T13:13:34.958657Z"
    },
    "papermill": {
     "duration": 2.710243,
     "end_time": "2022-07-31T13:13:34.961624",
     "exception": false,
     "start_time": "2022-07-31T13:13:32.251381",
     "status": "completed"
    },
    "tags": []
   },
   "outputs": [
    {
     "data": {
      "text/plain": [
       "0.14338026718687277"
      ]
     },
     "execution_count": 22,
     "metadata": {},
     "output_type": "execute_result"
    }
   ],
   "source": [
    "X = df_train.copy()\n",
    "y = X.pop(\"SalePrice\")\n",
    "X = drop_uninformative(X, mi_scores)\n",
    "\n",
    "score_dataset(X, y)"
   ]
  },
  {
   "cell_type": "code",
   "execution_count": 23,
   "id": "e8cef14b",
   "metadata": {
    "execution": {
     "iopub.execute_input": "2022-07-31T13:13:34.988430Z",
     "iopub.status.busy": "2022-07-31T13:13:34.987726Z",
     "iopub.status.idle": "2022-07-31T13:13:42.785417Z",
     "shell.execute_reply": "2022-07-31T13:13:42.784673Z"
    },
    "papermill": {
     "duration": 7.813439,
     "end_time": "2022-07-31T13:13:42.787505",
     "exception": false,
     "start_time": "2022-07-31T13:13:34.974066",
     "status": "completed"
    },
    "tags": []
   },
   "outputs": [
    {
     "data": {
      "text/plain": [
       "0.13848162231866673"
      ]
     },
     "execution_count": 23,
     "metadata": {},
     "output_type": "execute_result"
    }
   ],
   "source": [
    "score_dataset(X, y, regr)\n",
    "#also applied Random Forest Regressor"
   ]
  },
  {
   "cell_type": "markdown",
   "id": "d948fd9b",
   "metadata": {
    "papermill": {
     "duration": 0.011944,
     "end_time": "2022-07-31T13:13:42.811607",
     "exception": false,
     "start_time": "2022-07-31T13:13:42.799663",
     "status": "completed"
    },
    "tags": []
   },
   "source": [
    "Later, we'll add the `drop_uninformative` function to our feature-creation pipeline.\n",
    "\n",
    "# Step 3 - Create Features #\n",
    "\n",
    "Now we'll start developing our feature set.\n",
    "\n",
    "To make our feature engineering workflow more modular, we'll define a function that will take a prepared dataframe and pass it through a pipeline of transformations to get the final feature set. It will look something like this:\n",
    "\n",
    "```\n",
    "def create_features(df):\n",
    "    X = df.copy()\n",
    "    y = X.pop(\"SalePrice\")\n",
    "    X = X.join(create_features_1(X))\n",
    "    X = X.join(create_features_2(X))\n",
    "    X = X.join(create_features_3(X))\n",
    "    # ...\n",
    "    return X\n",
    "```\n",
    "\n",
    "Let's go ahead and define one transformation now, a [label encoding](https://www.kaggle.com/alexisbcook/categorical-variables) for the categorical features:"
   ]
  },
  {
   "cell_type": "code",
   "execution_count": 24,
   "id": "2e20f094",
   "metadata": {
    "execution": {
     "iopub.execute_input": "2022-07-31T13:13:42.837009Z",
     "iopub.status.busy": "2022-07-31T13:13:42.836420Z",
     "iopub.status.idle": "2022-07-31T13:13:42.840583Z",
     "shell.execute_reply": "2022-07-31T13:13:42.839936Z"
    },
    "papermill": {
     "duration": 0.018699,
     "end_time": "2022-07-31T13:13:42.842231",
     "exception": false,
     "start_time": "2022-07-31T13:13:42.823532",
     "status": "completed"
    },
    "tags": []
   },
   "outputs": [],
   "source": [
    "def label_encode(df):\n",
    "    X = df.copy()\n",
    "    for colname in X.select_dtypes([\"category\"]):\n",
    "        X[colname] = X[colname].cat.codes\n",
    "    return X\n"
   ]
  },
  {
   "cell_type": "markdown",
   "id": "22646d21",
   "metadata": {
    "papermill": {
     "duration": 0.011475,
     "end_time": "2022-07-31T13:13:42.865350",
     "exception": false,
     "start_time": "2022-07-31T13:13:42.853875",
     "status": "completed"
    },
    "tags": []
   },
   "source": [
    "A label encoding is okay for any kind of categorical feature when you're using a tree-ensemble like XGBoost, even for unordered categories. If you wanted to try a linear regression model (also popular in this competition), you would instead want to use a one-hot encoding, especially for the features with unordered categories.\n",
    "\n",
    "## Create Features with Pandas ##\n",
    "\n",
    "This cell reproduces the work you did in Exercise 3, where you applied strategies for creating features in Pandas. Modify or add to these functions to try out other feature combinations."
   ]
  },
  {
   "cell_type": "code",
   "execution_count": 25,
   "id": "ba639c0c",
   "metadata": {
    "_kg_hide-input": true,
    "execution": {
     "iopub.execute_input": "2022-07-31T13:13:42.890236Z",
     "iopub.status.busy": "2022-07-31T13:13:42.889741Z",
     "iopub.status.idle": "2022-07-31T13:13:42.897669Z",
     "shell.execute_reply": "2022-07-31T13:13:42.896723Z"
    },
    "papermill": {
     "duration": 0.022622,
     "end_time": "2022-07-31T13:13:42.899598",
     "exception": false,
     "start_time": "2022-07-31T13:13:42.876976",
     "status": "completed"
    },
    "tags": []
   },
   "outputs": [],
   "source": [
    "\n",
    "def mathematical_transforms(df):\n",
    "    X = pd.DataFrame()  # dataframe to hold new features\n",
    "    X[\"LivLotRatio\"] = df.GrLivArea / df.LotArea\n",
    "    X[\"Spaciousness\"] = (df.FirstFlrSF + df.SecondFlrSF) / df.TotRmsAbvGrd\n",
    "    # This feature ended up not helping performance\n",
    "    # X[\"TotalOutsideSF\"] = \\\n",
    "    #     df.WoodDeckSF + df.OpenPorchSF + df.EnclosedPorch + \\\n",
    "    #     df.Threeseasonporch + df.ScreenPorch\n",
    "    return X\n",
    "\n",
    "\n",
    "def interactions(df):\n",
    "    X = pd.get_dummies(df.BldgType, prefix=\"Bldg\")\n",
    "    X = X.mul(df.GrLivArea, axis=0)\n",
    "    return X\n",
    "\n",
    "\n",
    "def counts(df):\n",
    "    X = pd.DataFrame()\n",
    "    X[\"PorchTypes\"] = df[[\n",
    "        \"WoodDeckSF\",\n",
    "        \"OpenPorchSF\",\n",
    "        \"EnclosedPorch\",\n",
    "        \"Threeseasonporch\",\n",
    "        \"ScreenPorch\",\n",
    "    ]].gt(0.0).sum(axis=1)\n",
    "    return X\n",
    "\n",
    "\n",
    "def break_down(df):\n",
    "    X = pd.DataFrame()\n",
    "    X[\"MSClass\"] = df.MSSubClass.str.split(\"_\", n=1, expand=True)[0]\n",
    "    return X\n",
    "\n",
    "\n",
    "def group_transforms(df):\n",
    "    X = pd.DataFrame()\n",
    "    X[\"MedNhbdArea\"] = df.groupby(\"Neighborhood\")[\"GrLivArea\"].transform(\"median\")\n",
    "    return X\n"
   ]
  },
  {
   "cell_type": "markdown",
   "id": "6535ba36",
   "metadata": {
    "papermill": {
     "duration": 0.011789,
     "end_time": "2022-07-31T13:13:42.923205",
     "exception": false,
     "start_time": "2022-07-31T13:13:42.911416",
     "status": "completed"
    },
    "tags": []
   },
   "source": [
    "Here are some ideas for other transforms you could explore:\n",
    "- Interactions between the quality `Qual` and condition `Cond` features. `OverallQual`, for instance, was a high-scoring feature. You could try combining it with `OverallCond` by converting both to integer type and taking a product.\n",
    "- Square roots of area features. This would convert units of square feet to just feet.\n",
    "- Logarithms of numeric features. If a feature has a skewed distribution, applying a logarithm can help normalize it.\n",
    "- Interactions between numeric and categorical features that describe the same thing. You could look at interactions between `BsmtQual` and `TotalBsmtSF`, for instance.\n",
    "- Other group statistics in `Neighboorhood`. We did the median of `GrLivArea`. Looking at `mean`, `std`, or `count` could be interesting. You could also try combining the group statistics with other features. Maybe the *difference* of `GrLivArea` and the median is important?\n",
    "\n",
    "## k-Means Clustering ##\n",
    "\n",
    "The first unsupervised algorithm we used to create features was k-means clustering. We saw that you could either use the cluster labels as a feature (a column with `0, 1, 2, ...`) or you could use the *distance* of the observations to each cluster. We saw how these features can sometimes be effective at untangling complicated spatial relationships."
   ]
  },
  {
   "cell_type": "code",
   "execution_count": 26,
   "id": "4bb0bbb8",
   "metadata": {
    "_kg_hide-input": true,
    "execution": {
     "iopub.execute_input": "2022-07-31T13:13:42.948259Z",
     "iopub.status.busy": "2022-07-31T13:13:42.947870Z",
     "iopub.status.idle": "2022-07-31T13:13:42.956288Z",
     "shell.execute_reply": "2022-07-31T13:13:42.955296Z"
    },
    "lines_to_next_cell": 2,
    "papermill": {
     "duration": 0.023309,
     "end_time": "2022-07-31T13:13:42.958256",
     "exception": false,
     "start_time": "2022-07-31T13:13:42.934947",
     "status": "completed"
    },
    "tags": []
   },
   "outputs": [],
   "source": [
    "\n",
    "cluster_features = [\n",
    "    \"LotArea\",\n",
    "    \"TotalBsmtSF\",\n",
    "    \"FirstFlrSF\",\n",
    "    \"SecondFlrSF\",\n",
    "    \"GrLivArea\",\n",
    "]\n",
    "\n",
    "\n",
    "def cluster_labels(df, features, n_clusters=20):\n",
    "    X = df.copy()\n",
    "    X_scaled = X.loc[:, features]\n",
    "    X_scaled = (X_scaled - X_scaled.mean(axis=0)) / X_scaled.std(axis=0)\n",
    "    kmeans = KMeans(n_clusters=n_clusters, n_init=50, random_state=0)\n",
    "    X_new = pd.DataFrame()\n",
    "    X_new[\"Cluster\"] = kmeans.fit_predict(X_scaled)\n",
    "    return X_new\n",
    "\n",
    "\n",
    "def cluster_distance(df, features, n_clusters=20):\n",
    "    X = df.copy()\n",
    "    X_scaled = X.loc[:, features]\n",
    "    X_scaled = (X_scaled - X_scaled.mean(axis=0)) / X_scaled.std(axis=0)\n",
    "    kmeans = KMeans(n_clusters=20, n_init=50, random_state=0)\n",
    "    X_cd = kmeans.fit_transform(X_scaled)\n",
    "    # Label features and join to dataset\n",
    "    X_cd = pd.DataFrame(\n",
    "        X_cd, columns=[f\"Centroid_{i}\" for i in range(X_cd.shape[1])]\n",
    "    )\n",
    "    return X_cd\n"
   ]
  },
  {
   "cell_type": "markdown",
   "id": "b76a224e",
   "metadata": {
    "papermill": {
     "duration": 0.011531,
     "end_time": "2022-07-31T13:13:42.981429",
     "exception": false,
     "start_time": "2022-07-31T13:13:42.969898",
     "status": "completed"
    },
    "tags": []
   },
   "source": [
    "## Principal Component Analysis ##\n",
    "\n",
    "PCA was the second unsupervised model we used for feature creation. We saw how it could be used to decompose the variational structure in the data. The PCA algorithm gave us *loadings* which described each component of variation, and also the *components* which were the transformed datapoints. The loadings can suggest features to create and the components we can use as features directly.\n",
    "\n",
    "Here are the utility functions from the PCA lesson:"
   ]
  },
  {
   "cell_type": "code",
   "execution_count": 27,
   "id": "63ae96bf",
   "metadata": {
    "_kg_hide-input": true,
    "execution": {
     "iopub.execute_input": "2022-07-31T13:13:43.006749Z",
     "iopub.status.busy": "2022-07-31T13:13:43.006405Z",
     "iopub.status.idle": "2022-07-31T13:13:43.015824Z",
     "shell.execute_reply": "2022-07-31T13:13:43.014875Z"
    },
    "papermill": {
     "duration": 0.024344,
     "end_time": "2022-07-31T13:13:43.017496",
     "exception": false,
     "start_time": "2022-07-31T13:13:42.993152",
     "status": "completed"
    },
    "tags": []
   },
   "outputs": [],
   "source": [
    "\n",
    "def apply_pca(X, standardize=True):\n",
    "    # Standardize\n",
    "    if standardize:\n",
    "        X = (X - X.mean(axis=0)) / X.std(axis=0)\n",
    "    # Create principal components\n",
    "    pca = PCA()\n",
    "    X_pca = pca.fit_transform(X)\n",
    "    # Convert to dataframe\n",
    "    component_names = [f\"PC{i+1}\" for i in range(X_pca.shape[1])]\n",
    "    X_pca = pd.DataFrame(X_pca, columns=component_names)\n",
    "    # Create loadings\n",
    "    loadings = pd.DataFrame(\n",
    "        pca.components_.T,  # transpose the matrix of loadings\n",
    "        columns=component_names,  # so the columns are the principal components\n",
    "        index=X.columns,  # and the rows are the original features\n",
    "    )\n",
    "    return pca, X_pca, loadings\n",
    "\n",
    "\n",
    "def plot_variance(pca, width=8, dpi=100):\n",
    "    # Create figure\n",
    "    fig, axs = plt.subplots(1, 2)\n",
    "    n = pca.n_components_\n",
    "    grid = np.arange(1, n + 1)\n",
    "    # Explained variance\n",
    "    evr = pca.explained_variance_ratio_\n",
    "    axs[0].bar(grid, evr)\n",
    "    axs[0].set(\n",
    "        xlabel=\"Component\", title=\"% Explained Variance\", ylim=(0.0, 1.0)\n",
    "    )\n",
    "    # Cumulative Variance\n",
    "    cv = np.cumsum(evr)\n",
    "    axs[1].plot(np.r_[0, grid], np.r_[0, cv], \"o-\")\n",
    "    axs[1].set(\n",
    "        xlabel=\"Component\", title=\"% Cumulative Variance\", ylim=(0.0, 1.0)\n",
    "    )\n",
    "    # Set up figure\n",
    "    fig.set(figwidth=8, dpi=100)\n",
    "    return axs\n"
   ]
  },
  {
   "cell_type": "markdown",
   "id": "3d42030d",
   "metadata": {
    "papermill": {
     "duration": 0.01164,
     "end_time": "2022-07-31T13:13:43.040797",
     "exception": false,
     "start_time": "2022-07-31T13:13:43.029157",
     "status": "completed"
    },
    "tags": []
   },
   "source": [
    "And here are transforms that produce the features from the Exercise 5. You might want to change these if you came up with a different answer.\n"
   ]
  },
  {
   "cell_type": "code",
   "execution_count": 28,
   "id": "a6da3ce3",
   "metadata": {
    "_kg_hide-input": true,
    "execution": {
     "iopub.execute_input": "2022-07-31T13:13:43.066426Z",
     "iopub.status.busy": "2022-07-31T13:13:43.066098Z",
     "iopub.status.idle": "2022-07-31T13:13:43.071729Z",
     "shell.execute_reply": "2022-07-31T13:13:43.070747Z"
    },
    "papermill": {
     "duration": 0.020667,
     "end_time": "2022-07-31T13:13:43.073503",
     "exception": false,
     "start_time": "2022-07-31T13:13:43.052836",
     "status": "completed"
    },
    "tags": []
   },
   "outputs": [],
   "source": [
    "\n",
    "def pca_inspired(df):\n",
    "    X = pd.DataFrame()\n",
    "    X[\"Feature1\"] = df.GrLivArea + df.TotalBsmtSF\n",
    "    X[\"Feature2\"] = df.YearRemodAdd * df.TotalBsmtSF\n",
    "    return X\n",
    "\n",
    "\n",
    "def pca_components(df, features):\n",
    "    X = df.loc[:, features]\n",
    "    _, X_pca, _ = apply_pca(X)\n",
    "    return X_pca\n",
    "\n",
    "\n",
    "pca_features = [\n",
    "    \"GarageArea\",\n",
    "    \"YearRemodAdd\",\n",
    "    \"TotalBsmtSF\",\n",
    "    \"GrLivArea\",\n",
    "]"
   ]
  },
  {
   "cell_type": "markdown",
   "id": "9f634a32",
   "metadata": {
    "papermill": {
     "duration": 0.011725,
     "end_time": "2022-07-31T13:13:43.096921",
     "exception": false,
     "start_time": "2022-07-31T13:13:43.085196",
     "status": "completed"
    },
    "tags": []
   },
   "source": [
    "These are only a couple ways you could use the principal components. You could also try clustering using one or more components. One thing to note is that PCA doesn't change the distance between points -- it's just like a rotation. So clustering with the full set of components is the same as clustering with the original features. Instead, pick some subset of components, maybe those with the most variance or the highest MI scores.\n",
    "\n",
    "For further analysis, you might want to look at a correlation matrix for the dataset:"
   ]
  },
  {
   "cell_type": "code",
   "execution_count": 29,
   "id": "6eefa7b8",
   "metadata": {
    "execution": {
     "iopub.execute_input": "2022-07-31T13:13:43.121890Z",
     "iopub.status.busy": "2022-07-31T13:13:43.121572Z",
     "iopub.status.idle": "2022-07-31T13:13:44.178522Z",
     "shell.execute_reply": "2022-07-31T13:13:44.177747Z"
    },
    "papermill": {
     "duration": 1.072319,
     "end_time": "2022-07-31T13:13:44.181003",
     "exception": false,
     "start_time": "2022-07-31T13:13:43.108684",
     "status": "completed"
    },
    "tags": []
   },
   "outputs": [
    {
     "data": {
      "image/png": "[encoded data removed]",
      "text/plain": [
       "<Figure size 720x720 with 4 Axes>"
      ]
     },
     "metadata": {},
     "output_type": "display_data"
    }
   ],
   "source": [
    "def corrplot(df, method=\"pearson\", annot=True, **kwargs):\n",
    "    sns.clustermap(\n",
    "        df.corr(method),\n",
    "        vmin=-1.0,\n",
    "        vmax=1.0,\n",
    "        cmap=\"icefire\",\n",
    "        method=\"complete\",\n",
    "        annot=annot,\n",
    "        **kwargs,\n",
    "    )\n",
    "\n",
    "\n",
    "corrplot(df_train, annot=None)"
   ]
  },
  {
   "cell_type": "markdown",
   "id": "d1eefb0d",
   "metadata": {
    "papermill": {
     "duration": 0.013315,
     "end_time": "2022-07-31T13:13:44.208064",
     "exception": false,
     "start_time": "2022-07-31T13:13:44.194749",
     "status": "completed"
    },
    "tags": []
   },
   "source": [
    "Groups of highly correlated features often yield interesting loadings.\n",
    "\n",
    "### PCA Application - Indicate Outliers ###\n",
    "\n",
    "In Exercise 5, you applied PCA to determine houses that were **outliers**, that is, houses having values not well represented in the rest of the data. You saw that there was a group of houses in the `Edwards` neighborhood having a `SaleCondition` of `Partial` whose values were especially extreme.\n",
    "\n",
    "Some models can benefit from having these outliers indicated, which is what this next transform will do."
   ]
  },
  {
   "cell_type": "code",
   "execution_count": 30,
   "id": "191fe4c7",
   "metadata": {
    "execution": {
     "iopub.execute_input": "2022-07-31T13:13:44.236409Z",
     "iopub.status.busy": "2022-07-31T13:13:44.236005Z",
     "iopub.status.idle": "2022-07-31T13:13:44.240773Z",
     "shell.execute_reply": "2022-07-31T13:13:44.239897Z"
    },
    "papermill": {
     "duration": 0.021115,
     "end_time": "2022-07-31T13:13:44.242573",
     "exception": false,
     "start_time": "2022-07-31T13:13:44.221458",
     "status": "completed"
    },
    "tags": []
   },
   "outputs": [],
   "source": [
    "def indicate_outliers(df):\n",
    "    X_new = pd.DataFrame()\n",
    "    X_new[\"Outlier\"] = (df.Neighborhood == \"Edwards\") & (df.SaleCondition == \"Partial\")\n",
    "    return X_new\n"
   ]
  },
  {
   "cell_type": "markdown",
   "id": "0bb1e970",
   "metadata": {
    "papermill": {
     "duration": 0.013122,
     "end_time": "2022-07-31T13:13:44.268893",
     "exception": false,
     "start_time": "2022-07-31T13:13:44.255771",
     "status": "completed"
    },
    "tags": []
   },
   "source": [
    "You could also consider applying some sort of robust scaler from scikit-learn's `sklearn.preprocessing` module to the outlying values, especially those in `GrLivArea`. [Here](https://scikit-learn.org/stable/auto_examples/preprocessing/plot_all_scaling.html) is a tutorial illustrating some of them. Another option could be to create a feature of \"outlier scores\" using one of scikit-learn's [outlier detectors](https://scikit-learn.org/stable/modules/outlier_detection.html)."
   ]
  },
  {
   "cell_type": "markdown",
   "id": "5ae6b8d4",
   "metadata": {
    "papermill": {
     "duration": 0.013044,
     "end_time": "2022-07-31T13:13:44.295309",
     "exception": false,
     "start_time": "2022-07-31T13:13:44.282265",
     "status": "completed"
    },
    "tags": []
   },
   "source": [
    "## Target Encoding ##\n",
    "\n",
    "Needing a separate holdout set to create a target encoding is rather wasteful of data. In *Tutorial 6* we used 25% of our dataset just to encode a single feature, `Zipcode`. The data from the other features in that 25% we didn't get to use at all.\n",
    "\n",
    "There is, however, a way you can use target encoding without having to use held-out encoding data. It's basically the same trick used in cross-validation:\n",
    "1. Split the data into folds, each fold having two splits of the dataset.\n",
    "2. Train the encoder on one split but transform the values of the other.\n",
    "3. Repeat for all the splits.\n",
    "\n",
    "This way, training and transformation always take place on independent sets of data, just like when you use a holdout set but without any data going to waste.\n",
    "\n",
    "In the next hidden cell is a wrapper you can use with any target encoder:"
   ]
  },
  {
   "cell_type": "code",
   "execution_count": 31,
   "id": "b2066fca",
   "metadata": {
    "_kg_hide-input": true,
    "execution": {
     "iopub.execute_input": "2022-07-31T13:13:44.323507Z",
     "iopub.status.busy": "2022-07-31T13:13:44.323121Z",
     "iopub.status.idle": "2022-07-31T13:13:44.332457Z",
     "shell.execute_reply": "2022-07-31T13:13:44.331717Z"
    },
    "papermill": {
     "duration": 0.025642,
     "end_time": "2022-07-31T13:13:44.334231",
     "exception": false,
     "start_time": "2022-07-31T13:13:44.308589",
     "status": "completed"
    },
    "tags": []
   },
   "outputs": [],
   "source": [
    "\n",
    "class CrossFoldEncoder:\n",
    "    def __init__(self, encoder, **kwargs):\n",
    "        self.encoder_ = encoder\n",
    "        self.kwargs_ = kwargs  # keyword arguments for the encoder\n",
    "        self.cv_ = KFold(n_splits=5)\n",
    "\n",
    "    # Fit an encoder on one split and transform the feature on the\n",
    "    # other. Iterating over the splits in all folds gives a complete\n",
    "    # transformation. We also now have one trained encoder on each\n",
    "    # fold.\n",
    "    def fit_transform(self, X, y, cols):\n",
    "        self.fitted_encoders_ = []\n",
    "        self.cols_ = cols\n",
    "        X_encoded = []\n",
    "        for idx_encode, idx_train in self.cv_.split(X):\n",
    "            fitted_encoder = self.encoder_(cols=cols, **self.kwargs_)\n",
    "            fitted_encoder.fit(\n",
    "                X.iloc[idx_encode, :], y.iloc[idx_encode],\n",
    "            )\n",
    "            X_encoded.append(fitted_encoder.transform(X.iloc[idx_train, :])[cols])\n",
    "            self.fitted_encoders_.append(fitted_encoder)\n",
    "        X_encoded = pd.concat(X_encoded)\n",
    "        X_encoded.columns = [name + \"_encoded\" for name in X_encoded.columns]\n",
    "        return X_encoded\n",
    "\n",
    "    # To transform the test data, average the encodings learned from\n",
    "    # each fold.\n",
    "    def transform(self, X):\n",
    "        from functools import reduce\n",
    "\n",
    "        X_encoded_list = []\n",
    "        for fitted_encoder in self.fitted_encoders_:\n",
    "            X_encoded = fitted_encoder.transform(X)\n",
    "            X_encoded_list.append(X_encoded[self.cols_])\n",
    "        X_encoded = reduce(\n",
    "            lambda x, y: x.add(y, fill_value=0), X_encoded_list\n",
    "        ) / len(X_encoded_list)\n",
    "        X_encoded.columns = [name + \"_encoded\" for name in X_encoded.columns]\n",
    "        return X_encoded\n"
   ]
  },
  {
   "cell_type": "markdown",
   "id": "0a010f0f",
   "metadata": {
    "papermill": {
     "duration": 0.01321,
     "end_time": "2022-07-31T13:13:44.360564",
     "exception": false,
     "start_time": "2022-07-31T13:13:44.347354",
     "status": "completed"
    },
    "tags": []
   },
   "source": [
    "Use it like:\n",
    "\n",
    "```\n",
    "encoder = CrossFoldEncoder(MEstimateEncoder, m=1)\n",
    "X_encoded = encoder.fit_transform(X, y, cols=[\"MSSubClass\"]))\n",
    "```\n",
    "\n",
    "You can turn any of the encoders from the [`category_encoders`](http://contrib.scikit-learn.org/category_encoders/) library into a cross-fold encoder. The [`CatBoostEncoder`](http://contrib.scikit-learn.org/category_encoders/catboost.html) would be worth trying. It's similar to `MEstimateEncoder` but uses some tricks to better prevent overfitting. Its smoothing parameter is called `a` instead of `m`.\n",
    "\n",
    "## Create Final Feature Set ##\n",
    "\n",
    "Now let's combine everything together. Putting the transformations into separate functions makes it easier to experiment with various combinations. The ones I left uncommented I found gave the best results. You should experiment with you own ideas though! Modify any of these transformations or come up with some of your own to add to the pipeline."
   ]
  },
  {
   "cell_type": "code",
   "execution_count": 32,
   "id": "d94870a2",
   "metadata": {
    "execution": {
     "iopub.execute_input": "2022-07-31T13:13:44.388691Z",
     "iopub.status.busy": "2022-07-31T13:13:44.388351Z",
     "iopub.status.idle": "2022-07-31T13:13:49.176534Z",
     "shell.execute_reply": "2022-07-31T13:13:49.175855Z"
    },
    "papermill": {
     "duration": 4.80436,
     "end_time": "2022-07-31T13:13:49.178281",
     "exception": false,
     "start_time": "2022-07-31T13:13:44.373921",
     "status": "completed"
    },
    "tags": []
   },
   "outputs": [
    {
     "data": {
      "text/plain": [
       "0.1381925629969659"
      ]
     },
     "execution_count": 32,
     "metadata": {},
     "output_type": "execute_result"
    }
   ],
   "source": [
    "def create_features(df, df_test=None):\n",
    "    X = df.copy()\n",
    "    y = X.pop(\"SalePrice\")\n",
    "    mi_scores = make_mi_scores(X, y)\n",
    "\n",
    "    # Combine splits if test data is given\n",
    "    #\n",
    "    # If we're creating features for test set predictions, we should\n",
    "    # use all the data we have available. After creating our features,\n",
    "    # we'll recreate the splits.\n",
    "    if df_test is not None:\n",
    "        X_test = df_test.copy()\n",
    "        X_test.pop(\"SalePrice\")\n",
    "        X = pd.concat([X, X_test])\n",
    "\n",
    "    # Lesson 2 - Mutual Information\n",
    "    X = drop_uninformative(X, mi_scores)\n",
    "\n",
    "    # Lesson 3 - Transformations\n",
    "    X = X.join(mathematical_transforms(X))\n",
    "    X = X.join(interactions(X))\n",
    "    X = X.join(counts(X))\n",
    "    # X = X.join(break_down(X))\n",
    "    X = X.join(group_transforms(X))\n",
    "\n",
    "    # Lesson 4 - Clustering\n",
    "    # X = X.join(cluster_labels(X, cluster_features, n_clusters=20))\n",
    "    # X = X.join(cluster_distance(X, cluster_features, n_clusters=20))\n",
    "\n",
    "    # Lesson 5 - PCA\n",
    "    X = X.join(pca_inspired(X))\n",
    "    # X = X.join(pca_components(X, pca_features))\n",
    "    # X = X.join(indicate_outliers(X))\n",
    "\n",
    "    X = label_encode(X)\n",
    "\n",
    "    # Reform splits\n",
    "    if df_test is not None:\n",
    "        X_test = X.loc[df_test.index, :]\n",
    "        X.drop(df_test.index, inplace=True)\n",
    "\n",
    "    # Lesson 6 - Target Encoder\n",
    "    encoder = CrossFoldEncoder(MEstimateEncoder, m=1)\n",
    "    X = X.join(encoder.fit_transform(X, y, cols=[\"MSSubClass\"]))\n",
    "    if df_test is not None:\n",
    "        X_test = X_test.join(encoder.transform(X_test))\n",
    "\n",
    "    if df_test is not None:\n",
    "        return X, X_test\n",
    "    else:\n",
    "        return X\n",
    "\n",
    "\n",
    "df_train, df_test = load_data()\n",
    "X_train = create_features(df_train)\n",
    "y_train = df_train.loc[:, \"SalePrice\"]\n",
    "\n",
    "score_dataset(X_train, y_train)"
   ]
  },
  {
   "cell_type": "code",
   "execution_count": 33,
   "id": "70eaed17",
   "metadata": {
    "execution": {
     "iopub.execute_input": "2022-07-31T13:13:49.207335Z",
     "iopub.status.busy": "2022-07-31T13:13:49.206347Z",
     "iopub.status.idle": "2022-07-31T13:14:00.733134Z",
     "shell.execute_reply": "2022-07-31T13:14:00.732077Z"
    },
    "papermill": {
     "duration": 11.543431,
     "end_time": "2022-07-31T13:14:00.735244",
     "exception": false,
     "start_time": "2022-07-31T13:13:49.191813",
     "status": "completed"
    },
    "tags": []
   },
   "outputs": [
    {
     "data": {
      "text/plain": [
       "0.13703099241685646"
      ]
     },
     "execution_count": 33,
     "metadata": {},
     "output_type": "execute_result"
    }
   ],
   "source": [
    "df_train2, df_test2 = load_data()\n",
    "X_train2 = create_features(df_train2)\n",
    "y_train2 = df_train2.loc[:, \"SalePrice\"]\n",
    "score_dataset(X_train2, y_train2, regr)\n",
    "#also applied Random Forest Regressor"
   ]
  },
  {
   "cell_type": "markdown",
   "id": "ffd07777",
   "metadata": {
    "papermill": {
     "duration": 0.013374,
     "end_time": "2022-07-31T13:14:00.762526",
     "exception": false,
     "start_time": "2022-07-31T13:14:00.749152",
     "status": "completed"
    },
    "tags": []
   },
   "source": [
    "# Step 4 - Hyperparameter Tuning #\n",
    "\n",
    "At this stage, you might like to do some hyperparameter tuning with XGBoost before creating your final submission."
   ]
  },
  {
   "cell_type": "code",
   "execution_count": 34,
   "id": "984a9036",
   "metadata": {
    "execution": {
     "iopub.execute_input": "2022-07-31T13:14:00.792252Z",
     "iopub.status.busy": "2022-07-31T13:14:00.791889Z",
     "iopub.status.idle": "2022-07-31T13:18:02.058538Z",
     "shell.execute_reply": "2022-07-31T13:18:02.057480Z"
    },
    "papermill": {
     "duration": 241.298671,
     "end_time": "2022-07-31T13:18:02.075213",
     "exception": false,
     "start_time": "2022-07-31T13:14:00.776542",
     "status": "completed"
    },
    "tags": []
   },
   "outputs": [
    {
     "data": {
      "text/plain": [
       "0.11990835372218453"
      ]
     },
     "execution_count": 34,
     "metadata": {},
     "output_type": "execute_result"
    }
   ],
   "source": [
    "X_train = create_features(df_train)\n",
    "y_train = df_train.loc[:, \"SalePrice\"]\n",
    "\n",
    "xgb_params = dict(\n",
    "    max_depth=10,           # maximum depth of each tree - try 2 to 10\n",
    "    learning_rate=0.01,    # effect of each tree - try 0.0001 to 0.1\n",
    "    n_estimators=10000,     # number of trees (that is, boosting rounds) - try 1000 to 8000\n",
    "    min_child_weight=5,    # minimum number of houses in a leaf - try 1 to 10\n",
    "    colsample_bytree=0.5,  # fraction of features (columns) per tree - try 0.2 to 1.0\n",
    "    subsample=0.5,         # fraction of instances (rows) per tree - try 0.2 to 1.0\n",
    "    reg_alpha=0.5,         # L1 regularization (like LASSO) - try 0.0 to 10.0\n",
    "    reg_lambda=1.0,        # L2 regularization (like Ridge) - try 0.0 to 10.0\n",
    "    num_parallel_tree=1,   # set > 1 for boosted random forests\n",
    ")\n",
    "\n",
    "xgb = XGBRegressor(**xgb_params)\n",
    "score_dataset(X_train, y_train, xgb)"
   ]
  },
  {
   "cell_type": "code",
   "execution_count": 35,
   "id": "b0f4092f",
   "metadata": {
    "execution": {
     "iopub.execute_input": "2022-07-31T13:18:02.105248Z",
     "iopub.status.busy": "2022-07-31T13:18:02.104869Z",
     "iopub.status.idle": "2022-07-31T13:48:28.781883Z",
     "shell.execute_reply": "2022-07-31T13:48:28.780878Z"
    },
    "papermill": {
     "duration": 1826.709005,
     "end_time": "2022-07-31T13:48:28.798420",
     "exception": false,
     "start_time": "2022-07-31T13:18:02.089415",
     "status": "completed"
    },
    "tags": []
   },
   "outputs": [
    {
     "name": "stderr",
     "output_type": "stream",
     "text": [
      "\u001b[32m[I 2022-07-31 13:18:02,671]\u001b[0m A new study created in memory with name: no-name-025411af-78a3-496a-9842-bfd25f3f6196\u001b[0m\n",
      "\u001b[32m[I 2022-07-31 13:19:34,100]\u001b[0m Trial 0 finished with value: 0.12265670451763147 and parameters: {'max_depth': 4, 'learning_rate': 0.09138645760636083, 'n_estimators': 5619, 'min_child_weight': 3, 'colsample_bytree': 0.24236482566580753, 'subsample': 0.5804166823190968, 'reg_alpha': 0.06324180622621273, 'reg_lambda': 0.04860380937292045}. Best is trial 0 with value: 0.12265670451763147.\u001b[0m\n",
      "\u001b[32m[I 2022-07-31 13:20:55,277]\u001b[0m Trial 1 finished with value: 0.12491539136941454 and parameters: {'max_depth': 10, 'learning_rate': 0.05193157843874754, 'n_estimators': 5024, 'min_child_weight': 1, 'colsample_bytree': 0.21057717857933725, 'subsample': 0.8577910015595818, 'reg_alpha': 0.03832083103703888, 'reg_lambda': 0.1278995423454349}. Best is trial 0 with value: 0.12265670451763147.\u001b[0m\n",
      "\u001b[32m[I 2022-07-31 13:22:00,781]\u001b[0m Trial 2 finished with value: 0.1236289413050704 and parameters: {'max_depth': 9, 'learning_rate': 0.08310875697696561, 'n_estimators': 4150, 'min_child_weight': 2, 'colsample_bytree': 0.4301910612977959, 'subsample': 0.6955345610420673, 'reg_alpha': 0.0005389425443847088, 'reg_lambda': 0.004233177313148535}. Best is trial 0 with value: 0.12265670451763147.\u001b[0m\n",
      "\u001b[32m[I 2022-07-31 13:22:54,002]\u001b[0m Trial 3 finished with value: 0.13442317279975757 and parameters: {'max_depth': 9, 'learning_rate': 0.02715304365588625, 'n_estimators': 2704, 'min_child_weight': 1, 'colsample_bytree': 0.536166445136281, 'subsample': 0.5742227090544031, 'reg_alpha': 2.903624095104909, 'reg_lambda': 11.118963498456848}. Best is trial 0 with value: 0.12265670451763147.\u001b[0m\n",
      "\u001b[32m[I 2022-07-31 13:23:24,555]\u001b[0m Trial 4 finished with value: 7.681709523514518 and parameters: {'max_depth': 6, 'learning_rate': 0.00019370353972868542, 'n_estimators': 2189, 'min_child_weight': 3, 'colsample_bytree': 0.4676418483931115, 'subsample': 0.8981996911407795, 'reg_alpha': 9.516572473059655, 'reg_lambda': 43.061023040273675}. Best is trial 0 with value: 0.12265670451763147.\u001b[0m\n",
      "\u001b[32m[I 2022-07-31 13:25:29,010]\u001b[0m Trial 5 finished with value: 0.1549817376524411 and parameters: {'max_depth': 7, 'learning_rate': 0.0010544352195935554, 'n_estimators': 6385, 'min_child_weight': 5, 'colsample_bytree': 0.7650381446636123, 'subsample': 0.38518199671860276, 'reg_alpha': 4.037315936012534, 'reg_lambda': 1.8484962928043418}. Best is trial 0 with value: 0.12265670451763147.\u001b[0m\n",
      "\u001b[32m[I 2022-07-31 13:25:57,203]\u001b[0m Trial 6 finished with value: 9.440252838056034 and parameters: {'max_depth': 2, 'learning_rate': 0.00012378958765301126, 'n_estimators': 1617, 'min_child_weight': 8, 'colsample_bytree': 0.986672588295908, 'subsample': 0.7661486647609357, 'reg_alpha': 0.0002545137160132073, 'reg_lambda': 0.017069819957343687}. Best is trial 0 with value: 0.12265670451763147.\u001b[0m\n",
      "\u001b[32m[I 2022-07-31 13:27:40,386]\u001b[0m Trial 7 finished with value: 0.12726116554629538 and parameters: {'max_depth': 3, 'learning_rate': 0.09850053071393486, 'n_estimators': 6892, 'min_child_weight': 10, 'colsample_bytree': 0.27880122990429695, 'subsample': 0.34943312427896256, 'reg_alpha': 0.6037164480256022, 'reg_lambda': 1.3783542360534633}. Best is trial 0 with value: 0.12265670451763147.\u001b[0m\n",
      "\u001b[32m[I 2022-07-31 13:30:19,417]\u001b[0m Trial 8 finished with value: 0.12234736226985 and parameters: {'max_depth': 5, 'learning_rate': 0.036112037264621845, 'n_estimators': 7667, 'min_child_weight': 3, 'colsample_bytree': 0.9150168098285132, 'subsample': 0.3177982063312073, 'reg_alpha': 0.000748028934378023, 'reg_lambda': 0.0012601309182432758}. Best is trial 8 with value: 0.12234736226985.\u001b[0m\n",
      "\u001b[32m[I 2022-07-31 13:31:44,677]\u001b[0m Trial 9 finished with value: 0.11983426912781808 and parameters: {'max_depth': 5, 'learning_rate': 0.011763797553927731, 'n_estimators': 3513, 'min_child_weight': 4, 'colsample_bytree': 0.8420017966220603, 'subsample': 0.4560182328020532, 'reg_alpha': 0.06788599832134279, 'reg_lambda': 35.46458356655361}. Best is trial 9 with value: 0.11983426912781808.\u001b[0m\n",
      "\u001b[32m[I 2022-07-31 13:33:25,011]\u001b[0m Trial 10 finished with value: 0.11988700572144874 and parameters: {'max_depth': 7, 'learning_rate': 0.00752895023560484, 'n_estimators': 3598, 'min_child_weight': 6, 'colsample_bytree': 0.7492804619259841, 'subsample': 0.47627433510961475, 'reg_alpha': 0.004626890048544151, 'reg_lambda': 0.0001305967114922422}. Best is trial 9 with value: 0.11983426912781808.\u001b[0m\n",
      "\u001b[32m[I 2022-07-31 13:35:02,815]\u001b[0m Trial 11 finished with value: 0.11958247317994714 and parameters: {'max_depth': 7, 'learning_rate': 0.007984991376497023, 'n_estimators': 3555, 'min_child_weight': 6, 'colsample_bytree': 0.7502297977791281, 'subsample': 0.4521603257664479, 'reg_alpha': 0.0090789198415771, 'reg_lambda': 0.0001277878806203077}. Best is trial 11 with value: 0.11958247317994714.\u001b[0m\n",
      "\u001b[32m[I 2022-07-31 13:36:17,968]\u001b[0m Trial 12 finished with value: 0.1202307215761511 and parameters: {'max_depth': 7, 'learning_rate': 0.0059385119937749205, 'n_estimators': 3391, 'min_child_weight': 6, 'colsample_bytree': 0.7844051313796254, 'subsample': 0.21047130750694676, 'reg_alpha': 0.014448957876672951, 'reg_lambda': 0.00010105758963333397}. Best is trial 11 with value: 0.11958247317994714.\u001b[0m\n",
      "\u001b[32m[I 2022-07-31 13:36:34,670]\u001b[0m Trial 13 finished with value: 2.062732731303197 and parameters: {'max_depth': 5, 'learning_rate': 0.0016059795180232144, 'n_estimators': 1122, 'min_child_weight': 5, 'colsample_bytree': 0.6671771812230644, 'subsample': 0.46650482405087634, 'reg_alpha': 79.89193959698378, 'reg_lambda': 0.42088691240367193}. Best is trial 11 with value: 0.11958247317994714.\u001b[0m\n",
      "\u001b[32m[I 2022-07-31 13:38:52,071]\u001b[0m Trial 14 finished with value: 0.12264918034396187 and parameters: {'max_depth': 8, 'learning_rate': 0.012770590565819596, 'n_estimators': 4640, 'min_child_weight': 8, 'colsample_bytree': 0.8777246418987681, 'subsample': 0.45917733129779037, 'reg_alpha': 0.3145507787490774, 'reg_lambda': 68.17425730828641}. Best is trial 11 with value: 0.11958247317994714.\u001b[0m\n",
      "\u001b[32m[I 2022-07-31 13:39:47,757]\u001b[0m Trial 15 finished with value: 0.12241376654105948 and parameters: {'max_depth': 5, 'learning_rate': 0.002489692991571782, 'n_estimators': 2961, 'min_child_weight': 7, 'colsample_bytree': 0.6629458446327177, 'subsample': 0.2049593138770779, 'reg_alpha': 0.014530291996023455, 'reg_lambda': 0.0014382556181375924}. Best is trial 11 with value: 0.11958247317994714.\u001b[0m\n",
      "\u001b[32m[I 2022-07-31 13:40:58,168]\u001b[0m Trial 16 finished with value: 0.9638739999051322 and parameters: {'max_depth': 6, 'learning_rate': 0.0006151812481790633, 'n_estimators': 4107, 'min_child_weight': 4, 'colsample_bytree': 0.8278862070424038, 'subsample': 0.6726186457721275, 'reg_alpha': 0.005186440635383808, 'reg_lambda': 2.6995205810023304}. Best is trial 11 with value: 0.11958247317994714.\u001b[0m\n",
      "\u001b[32m[I 2022-07-31 13:43:03,438]\u001b[0m Trial 17 finished with value: 0.1195362729856214 and parameters: {'max_depth': 4, 'learning_rate': 0.012995032702515884, 'n_estimators': 5314, 'min_child_weight': 4, 'colsample_bytree': 0.9884786674392901, 'subsample': 0.5309044183258746, 'reg_alpha': 0.32889500464809623, 'reg_lambda': 10.574947323772339}. Best is trial 17 with value: 0.1195362729856214.\u001b[0m\n",
      "\u001b[32m[I 2022-07-31 13:44:45,275]\u001b[0m Trial 18 finished with value: 0.12227286109740354 and parameters: {'max_depth': 3, 'learning_rate': 0.004081154522854062, 'n_estimators': 5620, 'min_child_weight': 10, 'colsample_bytree': 0.663834777013565, 'subsample': 0.564926347096224, 'reg_alpha': 0.38324243625752125, 'reg_lambda': 8.95260940809495}. Best is trial 17 with value: 0.1195362729856214.\u001b[0m\n",
      "\u001b[32m[I 2022-07-31 13:46:23,637]\u001b[0m Trial 19 finished with value: 0.12233611061920623 and parameters: {'max_depth': 2, 'learning_rate': 0.016175336518774043, 'n_estimators': 5459, 'min_child_weight': 7, 'colsample_bytree': 0.9979562515993121, 'subsample': 0.988603239831263, 'reg_alpha': 0.0031640273005937077, 'reg_lambda': 0.23678482128051118}. Best is trial 17 with value: 0.1195362729856214.\u001b[0m\n"
     ]
    },
    {
     "data": {
      "text/plain": [
       "0.1195362729856214"
      ]
     },
     "execution_count": 35,
     "metadata": {},
     "output_type": "execute_result"
    }
   ],
   "source": [
    "import optuna\n",
    "\n",
    "def objective(trial):\n",
    "    xgb_params = dict(\n",
    "        max_depth=trial.suggest_int(\"max_depth\", 2, 10),\n",
    "        learning_rate=trial.suggest_float(\"learning_rate\", 1e-4, 1e-1, log=True),\n",
    "        n_estimators=trial.suggest_int(\"n_estimators\", 1000, 8000),\n",
    "        min_child_weight=trial.suggest_int(\"min_child_weight\", 1, 10),\n",
    "        colsample_bytree=trial.suggest_float(\"colsample_bytree\", 0.2, 1.0),\n",
    "        subsample=trial.suggest_float(\"subsample\", 0.2, 1.0),\n",
    "        reg_alpha=trial.suggest_float(\"reg_alpha\", 1e-4, 1e2, log=True),\n",
    "        reg_lambda=trial.suggest_float(\"reg_lambda\", 1e-4, 1e2, log=True),\n",
    "    )\n",
    "    xgb = XGBRegressor(**xgb_params)\n",
    "    return score_dataset(X_train, y_train, xgb)\n",
    "\n",
    "study = optuna.create_study(direction=\"minimize\")\n",
    "study.optimize(objective, n_trials=20)\n",
    "xgb_params = study.best_params\n",
    "\n",
    "xgb_best = XGBRegressor(**xgb_params)\n",
    "score_dataset(X_train, y_train, xgb_best)"
   ]
  },
  {
   "cell_type": "code",
   "execution_count": 36,
   "id": "2707f8ce",
   "metadata": {
    "execution": {
     "iopub.execute_input": "2022-07-31T13:48:28.829592Z",
     "iopub.status.busy": "2022-07-31T13:48:28.829129Z",
     "iopub.status.idle": "2022-07-31T13:48:28.837326Z",
     "shell.execute_reply": "2022-07-31T13:48:28.836630Z"
    },
    "papermill": {
     "duration": 0.025717,
     "end_time": "2022-07-31T13:48:28.839234",
     "exception": false,
     "start_time": "2022-07-31T13:48:28.813517",
     "status": "completed"
    },
    "tags": []
   },
   "outputs": [
    {
     "data": {
      "text/plain": [
       "XGBRegressor(base_score=None, booster=None, callbacks=None,\n",
       "             colsample_bylevel=None, colsample_bynode=None,\n",
       "             colsample_bytree=0.9884786674392901, early_stopping_rounds=None,\n",
       "             enable_categorical=False, eval_metric=None, gamma=None,\n",
       "             gpu_id=None, grow_policy=None, importance_type=None,\n",
       "             interaction_constraints=None, learning_rate=0.012995032702515884,\n",
       "             max_bin=None, max_cat_to_onehot=None, max_delta_step=None,\n",
       "             max_depth=4, max_leaves=None, min_child_weight=4, missing=nan,\n",
       "             monotone_constraints=None, n_estimators=5314, n_jobs=None,\n",
       "             num_parallel_tree=None, predictor=None, random_state=None,\n",
       "             reg_alpha=0.32889500464809623, reg_lambda=10.574947323772339, ...)"
      ]
     },
     "execution_count": 36,
     "metadata": {},
     "output_type": "execute_result"
    }
   ],
   "source": [
    "xgb_best"
   ]
  },
  {
   "cell_type": "markdown",
   "id": "aa089931",
   "metadata": {
    "papermill": {
     "duration": 0.014401,
     "end_time": "2022-07-31T13:48:28.868341",
     "exception": false,
     "start_time": "2022-07-31T13:48:28.853940",
     "status": "completed"
    },
    "tags": []
   },
   "source": [
    "Just tuning these by hand can give you great results. However, you might like to try using one of scikit-learn's automatic [hyperparameter tuners](https://scikit-learn.org/stable/modules/grid_search.html). Or you could explore more advanced tuning libraries like [Optuna](https://optuna.readthedocs.io/en/stable/index.html) or [scikit-optimize](https://scikit-optimize.github.io/stable/).\n",
    "\n",
    "Here is how you can use Optuna with XGBoost:\n",
    "\n",
    "```\n",
    "import optuna\n",
    "\n",
    "def objective(trial):\n",
    "    xgb_params = dict(\n",
    "        max_depth=trial.suggest_int(\"max_depth\", 2, 10),\n",
    "        learning_rate=trial.suggest_float(\"learning_rate\", 1e-4, 1e-1, log=True),\n",
    "        n_estimators=trial.suggest_int(\"n_estimators\", 1000, 8000),\n",
    "        min_child_weight=trial.suggest_int(\"min_child_weight\", 1, 10),\n",
    "        colsample_bytree=trial.suggest_float(\"colsample_bytree\", 0.2, 1.0),\n",
    "        subsample=trial.suggest_float(\"subsample\", 0.2, 1.0),\n",
    "        reg_alpha=trial.suggest_float(\"reg_alpha\", 1e-4, 1e2, log=True),\n",
    "        reg_lambda=trial.suggest_float(\"reg_lambda\", 1e-4, 1e2, log=True),\n",
    "    )\n",
    "    xgb = XGBRegressor(**xgb_params)\n",
    "    return score_dataset(X_train, y_train, xgb)\n",
    "\n",
    "study = optuna.create_study(direction=\"minimize\")\n",
    "study.optimize(objective, n_trials=20)\n",
    "xgb_params = study.best_params\n",
    "```\n",
    "\n",
    "Copy this into a code cell if you'd like to use it, but be aware that it will take quite a while to run. After it's done, you might enjoy using some of [Optuna's visualizations](https://optuna.readthedocs.io/en/stable/tutorial/10_key_features/005_visualization.html).\n",
    "\n",
    "# Step 5 - Train Model and Create Submissions #\n",
    "\n",
    "Once you're satisfied with everything, it's time to create your final predictions! This cell will:\n",
    "- create your feature set from the original data\n",
    "- train XGBoost on the training data\n",
    "- use the trained model to make predictions from the test set\n",
    "- save the predictions to a CSV file"
   ]
  },
  {
   "cell_type": "code",
   "execution_count": 37,
   "id": "313a9608",
   "metadata": {
    "execution": {
     "iopub.execute_input": "2022-07-31T13:48:28.899479Z",
     "iopub.status.busy": "2022-07-31T13:48:28.898829Z",
     "iopub.status.idle": "2022-07-31T13:48:58.343725Z",
     "shell.execute_reply": "2022-07-31T13:48:58.342756Z"
    },
    "papermill": {
     "duration": 29.463372,
     "end_time": "2022-07-31T13:48:58.346286",
     "exception": false,
     "start_time": "2022-07-31T13:48:28.882914",
     "status": "completed"
    },
    "tags": []
   },
   "outputs": [
    {
     "name": "stdout",
     "output_type": "stream",
     "text": [
      "Your submission was successfully saved!\n"
     ]
    }
   ],
   "source": [
    "X_train, X_test = create_features(df_train, df_test)\n",
    "y_train = df_train.loc[:, \"SalePrice\"]\n",
    "\n",
    "xgb_best = XGBRegressor(**xgb_params)\n",
    "#xgb = XGBRegressor(**xgb_params)\n",
    "# XGB minimizes MSE, but competition loss is RMSLE\n",
    "# So, we need to log-transform y to train and exp-transform the predictions\n",
    "xgb_best.fit(X_train, np.log(y))\n",
    "predictions = np.exp(xgb_best.predict(X_test))\n",
    "\n",
    "output = pd.DataFrame({'Id': X_test.index, 'SalePrice': predictions})\n",
    "output.to_csv('my_submission.csv', index=False)\n",
    "print(\"Your submission was successfully saved!\")"
   ]
  },
  {
   "cell_type": "markdown",
   "id": "0f167199",
   "metadata": {
    "papermill": {
     "duration": 0.014366,
     "end_time": "2022-07-31T13:48:58.376647",
     "exception": false,
     "start_time": "2022-07-31T13:48:58.362281",
     "status": "completed"
    },
    "tags": []
   },
   "source": [
    "To submit these predictions to the competition, follow these steps:\n",
    "\n",
    "1. Begin by clicking on the blue **Save Version** button in the top right corner of the window.  This will generate a pop-up window.\n",
    "2. Ensure that the **Save and Run All** option is selected, and then click on the blue **Save** button.\n",
    "3. This generates a window in the bottom left corner of the notebook.  After it has finished running, click on the number to the right of the **Save Version** button.  This pulls up a list of versions on the right of the screen.  Click on the ellipsis **(...)** to the right of the most recent version, and select **Open in Viewer**.  This brings you into view mode of the same page. You will need to scroll down to get back to these instructions.\n",
    "4. Click on the **Output** tab on the right of the screen.  Then, click on the file you would like to submit, and click on the blue **Submit** button to submit your results to the leaderboard.\n",
    "\n",
    "You have now successfully submitted to the competition!\n",
    "\n",
    "# Next Steps #\n",
    "\n",
    "If you want to keep working to improve your performance, select the blue **Edit** button in the top right of the screen. Then you can change your code and repeat the process. There's a lot of room to improve, and you will climb up the leaderboard as you work.\n",
    "\n",
    "Be sure to check out [other users' notebooks](https://www.kaggle.com/c/house-prices-advanced-regression-techniques/notebooks) in this competition. You'll find lots of great ideas for new features and as well as other ways to discover more things about the dataset or make better predictions. There's also the [discussion forum](https://www.kaggle.com/c/house-prices-advanced-regression-techniques/discussion), where you can share ideas with other Kagglers.\n",
    "\n",
    "Have fun Kaggling!"
   ]
  },
  {
   "cell_type": "markdown",
   "id": "b068dd15",
   "metadata": {
    "papermill": {
     "duration": 0.014234,
     "end_time": "2022-07-31T13:48:58.405282",
     "exception": false,
     "start_time": "2022-07-31T13:48:58.391048",
     "status": "completed"
    },
    "tags": []
   },
   "source": [
    "---\n",
    "\n",
    "\n",
    "\n",
    "\n",
    "*Have questions or comments? Visit the [course discussion forum](https://www.kaggle.com/learn/feature-engineering/discussion) to chat with other learners.*"
   ]
  }
 ],
 "metadata": {
  "kernelspec": {
   "display_name": "Python 3",
   "language": "python",
   "name": "python3"
  },
  "language_info": {
   "codemirror_mode": {
    "name": "ipython",
    "version": 3
   },
   "file_extension": ".py",
   "mimetype": "text/x-python",
   "name": "python",
   "nbconvert_exporter": "python",
   "pygments_lexer": "ipython3",
   "version": "3.7.12"
  },
  "papermill": {
   "default_parameters": {},
   "duration": 2150.032902,
   "end_time": "2022-07-31T13:48:59.142718",
   "environment_variables": {},
   "exception": null,
   "input_path": "__notebook__.ipynb",
   "output_path": "__notebook__.ipynb",
   "parameters": {},
   "start_time": "2022-07-31T13:13:09.109816",
   "version": "2.3.4"
  }
 },
 "nbformat": 4,
 "nbformat_minor": 5
}

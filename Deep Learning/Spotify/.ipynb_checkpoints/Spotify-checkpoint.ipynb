{
 "cells": [
  {
   "cell_type": "code",
   "execution_count": 1,
   "id": "a1062535",
   "metadata": {},
   "outputs": [],
   "source": [
    "# Setup plotting\n",
    "import matplotlib.pyplot as plt\n",
    "plt.style.use('seaborn-whitegrid')\n",
    "# Set Matplotlib defaults\n",
    "plt.rc('figure', autolayout=True)\n",
    "plt.rc('axes', labelweight='bold', labelsize='large',\n",
    "       titleweight='bold', titlesize=18, titlepad=10)\n",
    "plt.rc('animation', html='html5')"
   ]
  },
  {
   "cell_type": "code",
   "execution_count": 3,
   "id": "61b95242",
   "metadata": {},
   "outputs": [],
   "source": [
    "import pandas as pd\n",
    "from sklearn.preprocessing import StandardScaler, OneHotEncoder\n",
    "from sklearn.compose import make_column_transformer\n",
    "from sklearn.model_selection import GroupShuffleSplit\n",
    "\n",
    "from tensorflow import keras\n",
    "from tensorflow.keras import layers\n",
    "from tensorflow.keras import callbacks\n",
    "\n",
    "spotify = pd.read_csv('spotify.csv')\n",
    "\n",
    "X = spotify.copy().dropna()\n",
    "y = X.pop('track_popularity')\n",
    "artists = X['track_artist']"
   ]
  },
  {
   "cell_type": "code",
   "execution_count": 5,
   "id": "3ee06784",
   "metadata": {},
   "outputs": [
    {
     "data": {
      "text/html": [
       "<div>\n",
       "<style scoped>\n",
       "    .dataframe tbody tr th:only-of-type {\n",
       "        vertical-align: middle;\n",
       "    }\n",
       "\n",
       "    .dataframe tbody tr th {\n",
       "        vertical-align: top;\n",
       "    }\n",
       "\n",
       "    .dataframe thead th {\n",
       "        text-align: right;\n",
       "    }\n",
       "</style>\n",
       "<table border=\"1\" class=\"dataframe\">\n",
       "  <thead>\n",
       "    <tr style=\"text-align: right;\">\n",
       "      <th></th>\n",
       "      <th>track_id</th>\n",
       "      <th>track_name</th>\n",
       "      <th>track_artist</th>\n",
       "      <th>track_album_id</th>\n",
       "      <th>track_album_name</th>\n",
       "      <th>track_album_release_date</th>\n",
       "      <th>playlist_name</th>\n",
       "      <th>playlist_id</th>\n",
       "      <th>playlist_genre</th>\n",
       "      <th>playlist_subgenre</th>\n",
       "      <th>...</th>\n",
       "      <th>key</th>\n",
       "      <th>loudness</th>\n",
       "      <th>mode</th>\n",
       "      <th>speechiness</th>\n",
       "      <th>acousticness</th>\n",
       "      <th>instrumentalness</th>\n",
       "      <th>liveness</th>\n",
       "      <th>valence</th>\n",
       "      <th>tempo</th>\n",
       "      <th>duration_ms</th>\n",
       "    </tr>\n",
       "  </thead>\n",
       "  <tbody>\n",
       "    <tr>\n",
       "      <th>0</th>\n",
       "      <td>6f807x0ima9a1j3VPbc7VN</td>\n",
       "      <td>I Don't Care (with Justin Bieber) - Loud Luxur...</td>\n",
       "      <td>Ed Sheeran</td>\n",
       "      <td>2oCs0DGTsRO98Gh5ZSl2Cx</td>\n",
       "      <td>I Don't Care (with Justin Bieber) [Loud Luxury...</td>\n",
       "      <td>2019-06-14</td>\n",
       "      <td>Pop Remix</td>\n",
       "      <td>37i9dQZF1DXcZDD7cfEKhW</td>\n",
       "      <td>pop</td>\n",
       "      <td>dance pop</td>\n",
       "      <td>...</td>\n",
       "      <td>6</td>\n",
       "      <td>-2.634</td>\n",
       "      <td>1</td>\n",
       "      <td>0.0583</td>\n",
       "      <td>0.1020</td>\n",
       "      <td>0.000000</td>\n",
       "      <td>0.0653</td>\n",
       "      <td>0.518</td>\n",
       "      <td>122.036</td>\n",
       "      <td>194754</td>\n",
       "    </tr>\n",
       "    <tr>\n",
       "      <th>1</th>\n",
       "      <td>0r7CVbZTWZgbTCYdfa2P31</td>\n",
       "      <td>Memories - Dillon Francis Remix</td>\n",
       "      <td>Maroon 5</td>\n",
       "      <td>63rPSO264uRjW1X5E6cWv6</td>\n",
       "      <td>Memories (Dillon Francis Remix)</td>\n",
       "      <td>2019-12-13</td>\n",
       "      <td>Pop Remix</td>\n",
       "      <td>37i9dQZF1DXcZDD7cfEKhW</td>\n",
       "      <td>pop</td>\n",
       "      <td>dance pop</td>\n",
       "      <td>...</td>\n",
       "      <td>11</td>\n",
       "      <td>-4.969</td>\n",
       "      <td>1</td>\n",
       "      <td>0.0373</td>\n",
       "      <td>0.0724</td>\n",
       "      <td>0.004210</td>\n",
       "      <td>0.3570</td>\n",
       "      <td>0.693</td>\n",
       "      <td>99.972</td>\n",
       "      <td>162600</td>\n",
       "    </tr>\n",
       "    <tr>\n",
       "      <th>2</th>\n",
       "      <td>1z1Hg7Vb0AhHDiEmnDE79l</td>\n",
       "      <td>All the Time - Don Diablo Remix</td>\n",
       "      <td>Zara Larsson</td>\n",
       "      <td>1HoSmj2eLcsrR0vE9gThr4</td>\n",
       "      <td>All the Time (Don Diablo Remix)</td>\n",
       "      <td>2019-07-05</td>\n",
       "      <td>Pop Remix</td>\n",
       "      <td>37i9dQZF1DXcZDD7cfEKhW</td>\n",
       "      <td>pop</td>\n",
       "      <td>dance pop</td>\n",
       "      <td>...</td>\n",
       "      <td>1</td>\n",
       "      <td>-3.432</td>\n",
       "      <td>0</td>\n",
       "      <td>0.0742</td>\n",
       "      <td>0.0794</td>\n",
       "      <td>0.000023</td>\n",
       "      <td>0.1100</td>\n",
       "      <td>0.613</td>\n",
       "      <td>124.008</td>\n",
       "      <td>176616</td>\n",
       "    </tr>\n",
       "  </tbody>\n",
       "</table>\n",
       "<p>3 rows × 22 columns</p>\n",
       "</div>"
      ],
      "text/plain": [
       "                 track_id                                         track_name  \\\n",
       "0  6f807x0ima9a1j3VPbc7VN  I Don't Care (with Justin Bieber) - Loud Luxur...   \n",
       "1  0r7CVbZTWZgbTCYdfa2P31                    Memories - Dillon Francis Remix   \n",
       "2  1z1Hg7Vb0AhHDiEmnDE79l                    All the Time - Don Diablo Remix   \n",
       "\n",
       "   track_artist          track_album_id  \\\n",
       "0    Ed Sheeran  2oCs0DGTsRO98Gh5ZSl2Cx   \n",
       "1      Maroon 5  63rPSO264uRjW1X5E6cWv6   \n",
       "2  Zara Larsson  1HoSmj2eLcsrR0vE9gThr4   \n",
       "\n",
       "                                    track_album_name track_album_release_date  \\\n",
       "0  I Don't Care (with Justin Bieber) [Loud Luxury...               2019-06-14   \n",
       "1                    Memories (Dillon Francis Remix)               2019-12-13   \n",
       "2                    All the Time (Don Diablo Remix)               2019-07-05   \n",
       "\n",
       "  playlist_name             playlist_id playlist_genre playlist_subgenre  ...  \\\n",
       "0     Pop Remix  37i9dQZF1DXcZDD7cfEKhW            pop         dance pop  ...   \n",
       "1     Pop Remix  37i9dQZF1DXcZDD7cfEKhW            pop         dance pop  ...   \n",
       "2     Pop Remix  37i9dQZF1DXcZDD7cfEKhW            pop         dance pop  ...   \n",
       "\n",
       "   key  loudness  mode  speechiness  acousticness  instrumentalness  liveness  \\\n",
       "0    6    -2.634     1       0.0583        0.1020          0.000000    0.0653   \n",
       "1   11    -4.969     1       0.0373        0.0724          0.004210    0.3570   \n",
       "2    1    -3.432     0       0.0742        0.0794          0.000023    0.1100   \n",
       "\n",
       "   valence    tempo  duration_ms  \n",
       "0    0.518  122.036       194754  \n",
       "1    0.693   99.972       162600  \n",
       "2    0.613  124.008       176616  \n",
       "\n",
       "[3 rows x 22 columns]"
      ]
     },
     "execution_count": 5,
     "metadata": {},
     "output_type": "execute_result"
    }
   ],
   "source": [
    "X.head(3)"
   ]
  },
  {
   "cell_type": "code",
   "execution_count": 6,
   "id": "990390e4",
   "metadata": {},
   "outputs": [],
   "source": [
    "features_num = ['danceability', 'energy', 'key', 'loudness', 'mode',\n",
    "                'speechiness', 'acousticness', 'instrumentalness',\n",
    "                'liveness', 'valence', 'tempo', 'duration_ms']\n",
    "features_cat = ['playlist_genre']\n",
    "\n",
    "preprocessor = make_column_transformer(\n",
    "    (StandardScaler(), features_num),\n",
    "    (OneHotEncoder(), features_cat),\n",
    ")"
   ]
  },
  {
   "cell_type": "code",
   "execution_count": 7,
   "id": "512275cc",
   "metadata": {},
   "outputs": [
    {
     "name": "stdout",
     "output_type": "stream",
     "text": [
      "Input shape: [18]\n"
     ]
    }
   ],
   "source": [
    "# We'll do a \"grouped\" split to keep all of an artist's songs in one\n",
    "# split or the other. This is to help prevent signal leakage.\n",
    "def group_split(X, y, group, train_size=0.75):\n",
    "    splitter = GroupShuffleSplit(train_size=train_size)\n",
    "    train, test = next(splitter.split(X, y, groups=group))\n",
    "    return (X.iloc[train], X.iloc[test], y.iloc[train], y.iloc[test])\n",
    "\n",
    "X_train, X_valid, y_train, y_valid = group_split(X, y, artists)\n",
    "\n",
    "X_train = preprocessor.fit_transform(X_train)\n",
    "X_valid = preprocessor.transform(X_valid)\n",
    "y_train = y_train / 100 # popularity is on a scale 0-100, so this rescales to 0-1.\n",
    "y_valid = y_valid / 100\n",
    "\n",
    "input_shape = [X_train.shape[1]]\n",
    "print(\"Input shape: {}\".format(input_shape))"
   ]
  },
  {
   "cell_type": "code",
   "execution_count": 9,
   "id": "d53bf715",
   "metadata": {},
   "outputs": [
    {
     "data": {
      "text/plain": [
       "array([[ 0.63048739,  1.20401782,  0.16858069, ...,  0.        ,\n",
       "         0.        ,  0.        ],\n",
       "       [ 0.47839474,  0.64774392,  1.54764467, ...,  0.        ,\n",
       "         0.        ,  0.        ],\n",
       "       [ 0.12581632,  1.28663276, -1.21048328, ...,  0.        ,\n",
       "         0.        ,  0.        ],\n",
       "       ...,\n",
       "       [-1.58176937,  1.2370638 , -0.93467049, ...,  0.        ,\n",
       "         0.        ,  0.        ],\n",
       "       [-0.2129355 ,  1.04980327, -0.93467049, ...,  0.        ,\n",
       "         0.        ,  0.        ],\n",
       "       [-0.37194145,  1.02777263, -0.1072321 , ...,  0.        ,\n",
       "         0.        ,  0.        ]])"
      ]
     },
     "execution_count": 9,
     "metadata": {},
     "output_type": "execute_result"
    }
   ],
   "source": [
    "X_train"
   ]
  },
  {
   "cell_type": "code",
   "execution_count": 10,
   "id": "d4f2abbd",
   "metadata": {},
   "outputs": [
    {
     "data": {
      "text/plain": [
       "0        0.66\n",
       "1        0.67\n",
       "2        0.70\n",
       "4        0.69\n",
       "5        0.67\n",
       "         ... \n",
       "32824    0.20\n",
       "32825    0.47\n",
       "32828    0.42\n",
       "32831    0.15\n",
       "32832    0.27\n",
       "Name: track_popularity, Length: 24255, dtype: float64"
      ]
     },
     "execution_count": 10,
     "metadata": {},
     "output_type": "execute_result"
    }
   ],
   "source": [
    "y_train"
   ]
  },
  {
   "cell_type": "code",
   "execution_count": 11,
   "id": "535db139",
   "metadata": {},
   "outputs": [
    {
     "name": "stdout",
     "output_type": "stream",
     "text": [
      "Minimum Validation Loss: 0.1984\n"
     ]
    },
    {
     "data": {
      "image/png": "[encoded data removed]",
      "text/plain": [
       "<Figure size 432x288 with 1 Axes>"
      ]
     },
     "metadata": {},
     "output_type": "display_data"
    }
   ],
   "source": [
    "model = keras.Sequential([\n",
    "    layers.Dense(1, input_shape=input_shape),\n",
    "])\n",
    "model.compile(\n",
    "    optimizer='adam',\n",
    "    loss='mae',\n",
    ")\n",
    "history = model.fit(\n",
    "    X_train, y_train,\n",
    "    validation_data=(X_valid, y_valid),\n",
    "    batch_size=512,\n",
    "    epochs=50,\n",
    "    verbose=0, # suppress output since we'll plot the curves\n",
    ")\n",
    "history_df = pd.DataFrame(history.history)\n",
    "history_df.loc[0:, ['loss', 'val_loss']].plot()\n",
    "print(\"Minimum Validation Loss: {:0.4f}\".format(history_df['val_loss'].min()));"
   ]
  },
  {
   "cell_type": "code",
   "execution_count": 12,
   "id": "2441c09c",
   "metadata": {},
   "outputs": [
    {
     "name": "stdout",
     "output_type": "stream",
     "text": [
      "Minimum Validation Loss: 0.1984\n"
     ]
    },
    {
     "data": {
      "image/png": "[encoded data removed]",
      "text/plain": [
       "<Figure size 432x288 with 1 Axes>"
      ]
     },
     "metadata": {},
     "output_type": "display_data"
    }
   ],
   "source": [
    "# Start the plot at epoch 10\n",
    "history_df.loc[10:, ['loss', 'val_loss']].plot()\n",
    "print(\"Minimum Validation Loss: {:0.4f}\".format(history_df['val_loss'].min()));"
   ]
  },
  {
   "cell_type": "code",
   "execution_count": 13,
   "id": "a347b9db",
   "metadata": {},
   "outputs": [
    {
     "name": "stdout",
     "output_type": "stream",
     "text": [
      "Epoch 1/50\n",
      "48/48 [==============================] - 0s 3ms/step - loss: 0.2605 - val_loss: 0.2115\n",
      "Epoch 2/50\n",
      "48/48 [==============================] - 0s 2ms/step - loss: 0.2017 - val_loss: 0.2036\n",
      "Epoch 3/50\n",
      "48/48 [==============================] - 0s 2ms/step - loss: 0.1963 - val_loss: 0.2013\n",
      "Epoch 4/50\n",
      "48/48 [==============================] - 0s 2ms/step - loss: 0.1932 - val_loss: 0.2022\n",
      "Epoch 5/50\n",
      "48/48 [==============================] - 0s 2ms/step - loss: 0.1914 - val_loss: 0.1996\n",
      "Epoch 6/50\n",
      "48/48 [==============================] - 0s 2ms/step - loss: 0.1895 - val_loss: 0.1993\n",
      "Epoch 7/50\n",
      "48/48 [==============================] - 0s 2ms/step - loss: 0.1884 - val_loss: 0.1992\n",
      "Epoch 8/50\n",
      "48/48 [==============================] - 0s 2ms/step - loss: 0.1878 - val_loss: 0.1989\n",
      "Epoch 9/50\n",
      "48/48 [==============================] - 0s 2ms/step - loss: 0.1868 - val_loss: 0.1996\n",
      "Epoch 10/50\n",
      "48/48 [==============================] - 0s 2ms/step - loss: 0.1855 - val_loss: 0.1980\n",
      "Epoch 11/50\n",
      "48/48 [==============================] - 0s 2ms/step - loss: 0.1846 - val_loss: 0.1981\n",
      "Epoch 12/50\n",
      "48/48 [==============================] - 0s 2ms/step - loss: 0.1842 - val_loss: 0.1997\n",
      "Epoch 13/50\n",
      "48/48 [==============================] - 0s 2ms/step - loss: 0.1839 - val_loss: 0.2010\n",
      "Epoch 14/50\n",
      "48/48 [==============================] - 0s 2ms/step - loss: 0.1828 - val_loss: 0.1991\n",
      "Epoch 15/50\n",
      "48/48 [==============================] - 0s 2ms/step - loss: 0.1822 - val_loss: 0.1987\n",
      "Epoch 16/50\n",
      "48/48 [==============================] - 0s 2ms/step - loss: 0.1819 - val_loss: 0.1992\n",
      "Epoch 17/50\n",
      "48/48 [==============================] - 0s 2ms/step - loss: 0.1809 - val_loss: 0.1995\n",
      "Epoch 18/50\n",
      "48/48 [==============================] - 0s 2ms/step - loss: 0.1802 - val_loss: 0.2001\n",
      "Epoch 19/50\n",
      "48/48 [==============================] - 0s 2ms/step - loss: 0.1800 - val_loss: 0.1999\n",
      "Epoch 20/50\n",
      "48/48 [==============================] - 0s 2ms/step - loss: 0.1792 - val_loss: 0.1990\n",
      "Epoch 21/50\n",
      "48/48 [==============================] - 0s 2ms/step - loss: 0.1782 - val_loss: 0.1991\n",
      "Epoch 22/50\n",
      "48/48 [==============================] - 0s 2ms/step - loss: 0.1781 - val_loss: 0.2006\n",
      "Epoch 23/50\n",
      "48/48 [==============================] - 0s 2ms/step - loss: 0.1773 - val_loss: 0.2008\n",
      "Epoch 24/50\n",
      "48/48 [==============================] - 0s 2ms/step - loss: 0.1773 - val_loss: 0.2003\n",
      "Epoch 25/50\n",
      "48/48 [==============================] - 0s 2ms/step - loss: 0.1762 - val_loss: 0.2030\n",
      "Epoch 26/50\n",
      "48/48 [==============================] - 0s 2ms/step - loss: 0.1757 - val_loss: 0.2012\n",
      "Epoch 27/50\n",
      "48/48 [==============================] - 0s 2ms/step - loss: 0.1751 - val_loss: 0.2006\n",
      "Epoch 28/50\n",
      "48/48 [==============================] - 0s 2ms/step - loss: 0.1745 - val_loss: 0.2008\n",
      "Epoch 29/50\n",
      "48/48 [==============================] - 0s 2ms/step - loss: 0.1741 - val_loss: 0.2016\n",
      "Epoch 30/50\n",
      "48/48 [==============================] - 0s 2ms/step - loss: 0.1737 - val_loss: 0.2006\n",
      "Epoch 31/50\n",
      "48/48 [==============================] - 0s 2ms/step - loss: 0.1732 - val_loss: 0.2020\n",
      "Epoch 32/50\n",
      "48/48 [==============================] - 0s 2ms/step - loss: 0.1724 - val_loss: 0.2013\n",
      "Epoch 33/50\n",
      "48/48 [==============================] - 0s 2ms/step - loss: 0.1722 - val_loss: 0.2018\n",
      "Epoch 34/50\n",
      "48/48 [==============================] - 0s 2ms/step - loss: 0.1722 - val_loss: 0.2022\n",
      "Epoch 35/50\n",
      "48/48 [==============================] - 0s 2ms/step - loss: 0.1710 - val_loss: 0.2027\n",
      "Epoch 36/50\n",
      "48/48 [==============================] - 0s 2ms/step - loss: 0.1705 - val_loss: 0.2022\n",
      "Epoch 37/50\n",
      "48/48 [==============================] - 0s 2ms/step - loss: 0.1695 - val_loss: 0.2029\n",
      "Epoch 38/50\n",
      "48/48 [==============================] - 0s 2ms/step - loss: 0.1701 - val_loss: 0.2028\n",
      "Epoch 39/50\n",
      "48/48 [==============================] - 0s 2ms/step - loss: 0.1695 - val_loss: 0.2038\n",
      "Epoch 40/50\n",
      "48/48 [==============================] - 0s 2ms/step - loss: 0.1688 - val_loss: 0.2040\n",
      "Epoch 41/50\n",
      "48/48 [==============================] - 0s 2ms/step - loss: 0.1687 - val_loss: 0.2048\n",
      "Epoch 42/50\n",
      "48/48 [==============================] - 0s 2ms/step - loss: 0.1683 - val_loss: 0.2037\n",
      "Epoch 43/50\n",
      "48/48 [==============================] - 0s 2ms/step - loss: 0.1683 - val_loss: 0.2036\n",
      "Epoch 44/50\n",
      "48/48 [==============================] - 0s 2ms/step - loss: 0.1687 - val_loss: 0.2062\n",
      "Epoch 45/50\n",
      "48/48 [==============================] - 0s 2ms/step - loss: 0.1674 - val_loss: 0.2035\n",
      "Epoch 46/50\n",
      "48/48 [==============================] - 0s 2ms/step - loss: 0.1663 - val_loss: 0.2035\n",
      "Epoch 47/50\n",
      "48/48 [==============================] - 0s 2ms/step - loss: 0.1657 - val_loss: 0.2037\n",
      "Epoch 48/50\n",
      "48/48 [==============================] - 0s 2ms/step - loss: 0.1652 - val_loss: 0.2042\n",
      "Epoch 49/50\n",
      "48/48 [==============================] - 0s 2ms/step - loss: 0.1650 - val_loss: 0.2044\n",
      "Epoch 50/50\n",
      "48/48 [==============================] - 0s 2ms/step - loss: 0.1642 - val_loss: 0.2039\n",
      "Minimum Validation Loss: 0.1980\n"
     ]
    },
    {
     "data": {
      "image/png": "[encoded data removed]",
      "text/plain": [
       "<Figure size 432x288 with 1 Axes>"
      ]
     },
     "metadata": {},
     "output_type": "display_data"
    }
   ],
   "source": [
    "model = keras.Sequential([\n",
    "    layers.Dense(128, activation='relu', input_shape=input_shape),\n",
    "    layers.Dense(64, activation='relu'),\n",
    "    layers.Dense(1)\n",
    "])\n",
    "model.compile(\n",
    "    optimizer='adam',\n",
    "    loss='mae',\n",
    ")\n",
    "history = model.fit(\n",
    "    X_train, y_train,\n",
    "    validation_data=(X_valid, y_valid),\n",
    "    batch_size=512,\n",
    "    epochs=50,\n",
    ")\n",
    "history_df = pd.DataFrame(history.history)\n",
    "history_df.loc[:, ['loss', 'val_loss']].plot()\n",
    "print(\"Minimum Validation Loss: {:0.4f}\".format(history_df['val_loss'].min()));"
   ]
  },
  {
   "cell_type": "code",
   "execution_count": 14,
   "id": "16e34441",
   "metadata": {},
   "outputs": [],
   "source": [
    "from tensorflow.keras import callbacks\n",
    "\n",
    "# YOUR CODE HERE: define an early stopping callback\n",
    "early_stopping = callbacks.EarlyStopping(\n",
    "    min_delta=0.001, # minimium amount of change to count as an improvement\n",
    "    patience=5, # how many epochs to wait before stopping\n",
    "    restore_best_weights=True,\n",
    ")"
   ]
  },
  {
   "cell_type": "code",
   "execution_count": 15,
   "id": "54e8a769",
   "metadata": {},
   "outputs": [
    {
     "name": "stdout",
     "output_type": "stream",
     "text": [
      "Epoch 1/50\n",
      "48/48 [==============================] - 0s 3ms/step - loss: 0.2388 - val_loss: 0.2062\n",
      "Epoch 2/50\n",
      "48/48 [==============================] - 0s 2ms/step - loss: 0.1997 - val_loss: 0.2019\n",
      "Epoch 3/50\n",
      "48/48 [==============================] - 0s 2ms/step - loss: 0.1950 - val_loss: 0.2007\n",
      "Epoch 4/50\n",
      "48/48 [==============================] - 0s 2ms/step - loss: 0.1924 - val_loss: 0.1991\n",
      "Epoch 5/50\n",
      "48/48 [==============================] - 0s 2ms/step - loss: 0.1911 - val_loss: 0.1984\n",
      "Epoch 6/50\n",
      "48/48 [==============================] - 0s 2ms/step - loss: 0.1887 - val_loss: 0.1973\n",
      "Epoch 7/50\n",
      "48/48 [==============================] - 0s 2ms/step - loss: 0.1878 - val_loss: 0.1975\n",
      "Epoch 8/50\n",
      "48/48 [==============================] - 0s 2ms/step - loss: 0.1866 - val_loss: 0.1971\n",
      "Epoch 9/50\n",
      "48/48 [==============================] - 0s 2ms/step - loss: 0.1856 - val_loss: 0.1981\n",
      "Epoch 10/50\n",
      "48/48 [==============================] - 0s 2ms/step - loss: 0.1846 - val_loss: 0.1980\n",
      "Epoch 11/50\n",
      "48/48 [==============================] - 0s 2ms/step - loss: 0.1843 - val_loss: 0.1974\n",
      "Minimum Validation Loss: 0.1971\n"
     ]
    },
    {
     "data": {
      "image/png": "[encoded data removed]",
      "text/plain": [
       "<Figure size 432x288 with 1 Axes>"
      ]
     },
     "metadata": {},
     "output_type": "display_data"
    }
   ],
   "source": [
    "model = keras.Sequential([\n",
    "    layers.Dense(128, activation='relu', input_shape=input_shape),\n",
    "    layers.Dense(64, activation='relu'),    \n",
    "    layers.Dense(1)\n",
    "])\n",
    "model.compile(\n",
    "    optimizer='adam',\n",
    "    loss='mae',\n",
    ")\n",
    "history = model.fit(\n",
    "    X_train, y_train,\n",
    "    validation_data=(X_valid, y_valid),\n",
    "    batch_size=512,\n",
    "    epochs=50,\n",
    "    callbacks=[early_stopping]\n",
    ")\n",
    "history_df = pd.DataFrame(history.history)\n",
    "history_df.loc[:, ['loss', 'val_loss']].plot()\n",
    "print(\"Minimum Validation Loss: {:0.4f}\".format(history_df['val_loss'].min()));"
   ]
  }
 ],
 "metadata": {
  "kernelspec": {
   "display_name": "Python 3 (ipykernel)",
   "language": "python",
   "name": "python3"
  },
  "language_info": {
   "codemirror_mode": {
    "name": "ipython",
    "version": 3
   },
   "file_extension": ".py",
   "mimetype": "text/x-python",
   "name": "python",
   "nbconvert_exporter": "python",
   "pygments_lexer": "ipython3",
   "version": "3.9.7"
  }
 },
 "nbformat": 4,
 "nbformat_minor": 5
}
